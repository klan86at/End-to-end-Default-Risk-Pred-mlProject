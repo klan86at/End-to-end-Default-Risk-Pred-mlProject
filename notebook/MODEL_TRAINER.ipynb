{
 "cells": [
  {
   "cell_type": "code",
   "execution_count": 12,
   "id": "08ca4269",
   "metadata": {},
   "outputs": [],
   "source": [
    "# libraries\n",
    "import pandas as pd\n",
    "import numpy as np\n",
    "from sklearn.model_selection import train_test_split\n",
    "from sklearn.preprocessing import StandardScaler\n",
    "\n",
    "import statsmodels.api as sm\n",
    "import joblib\n",
    "import xgboost\n",
    "from sklearn.tree import DecisionTreeRegressor\n",
    "from sklearn.ensemble import RandomForestRegressor\n",
    "from sklearn.neighbors import KNeighborsRegressor\n",
    "from sklearn.linear_model import LinearRegression \n",
    "from sklearn.ensemble import StackingRegressor    \n",
    "from sklearn.model_selection import KFold\n",
    "from sklearn.model_selection import cross_val_score\n",
    "from sklearn.metrics import mean_squared_error, r2_score\n",
    "import warnings\n",
    "warnings.filterwarnings(\"ignore\")  # Suppresses all warnings"
   ]
  },
  {
   "cell_type": "code",
   "execution_count": 2,
   "id": "cdbf73e6",
   "metadata": {},
   "outputs": [
    {
     "data": {
      "text/html": [
       "<div>\n",
       "<style scoped>\n",
       "    .dataframe tbody tr th:only-of-type {\n",
       "        vertical-align: middle;\n",
       "    }\n",
       "\n",
       "    .dataframe tbody tr th {\n",
       "        vertical-align: top;\n",
       "    }\n",
       "\n",
       "    .dataframe thead th {\n",
       "        text-align: right;\n",
       "    }\n",
       "</style>\n",
       "<table border=\"1\" class=\"dataframe\">\n",
       "  <thead>\n",
       "    <tr style=\"text-align: right;\">\n",
       "      <th></th>\n",
       "      <th>credit_score</th>\n",
       "      <th>income</th>\n",
       "      <th>loan_amount</th>\n",
       "      <th>loan_term</th>\n",
       "      <th>interest_rate</th>\n",
       "      <th>debt_to_income_ratio</th>\n",
       "      <th>employment_years</th>\n",
       "      <th>savings_balance</th>\n",
       "      <th>age</th>\n",
       "      <th>default_risk_score</th>\n",
       "    </tr>\n",
       "  </thead>\n",
       "  <tbody>\n",
       "    <tr>\n",
       "      <th>0</th>\n",
       "      <td>810</td>\n",
       "      <td>107410</td>\n",
       "      <td>11924</td>\n",
       "      <td>48</td>\n",
       "      <td>7.97</td>\n",
       "      <td>43.29</td>\n",
       "      <td>32</td>\n",
       "      <td>27181</td>\n",
       "      <td>58</td>\n",
       "      <td>7634.543366</td>\n",
       "    </tr>\n",
       "    <tr>\n",
       "      <th>1</th>\n",
       "      <td>418</td>\n",
       "      <td>37482</td>\n",
       "      <td>19291</td>\n",
       "      <td>24</td>\n",
       "      <td>6.94</td>\n",
       "      <td>11.01</td>\n",
       "      <td>33</td>\n",
       "      <td>15089</td>\n",
       "      <td>43</td>\n",
       "      <td>6249.833059</td>\n",
       "    </tr>\n",
       "    <tr>\n",
       "      <th>2</th>\n",
       "      <td>724</td>\n",
       "      <td>85641</td>\n",
       "      <td>39501</td>\n",
       "      <td>36</td>\n",
       "      <td>8.59</td>\n",
       "      <td>37.11</td>\n",
       "      <td>0</td>\n",
       "      <td>97459</td>\n",
       "      <td>33</td>\n",
       "      <td>2148.117990</td>\n",
       "    </tr>\n",
       "    <tr>\n",
       "      <th>3</th>\n",
       "      <td>444</td>\n",
       "      <td>73331</td>\n",
       "      <td>25714</td>\n",
       "      <td>36</td>\n",
       "      <td>13.09</td>\n",
       "      <td>33.39</td>\n",
       "      <td>18</td>\n",
       "      <td>2413</td>\n",
       "      <td>48</td>\n",
       "      <td>4979.385344</td>\n",
       "    </tr>\n",
       "    <tr>\n",
       "      <th>4</th>\n",
       "      <td>440</td>\n",
       "      <td>46723</td>\n",
       "      <td>35651</td>\n",
       "      <td>36</td>\n",
       "      <td>8.30</td>\n",
       "      <td>46.21</td>\n",
       "      <td>6</td>\n",
       "      <td>9716</td>\n",
       "      <td>42</td>\n",
       "      <td>2993.851950</td>\n",
       "    </tr>\n",
       "  </tbody>\n",
       "</table>\n",
       "</div>"
      ],
      "text/plain": [
       "   credit_score  income  loan_amount  loan_term  interest_rate  \\\n",
       "0           810  107410        11924         48           7.97   \n",
       "1           418   37482        19291         24           6.94   \n",
       "2           724   85641        39501         36           8.59   \n",
       "3           444   73331        25714         36          13.09   \n",
       "4           440   46723        35651         36           8.30   \n",
       "\n",
       "   debt_to_income_ratio  employment_years  savings_balance  age  \\\n",
       "0                 43.29                32            27181   58   \n",
       "1                 11.01                33            15089   43   \n",
       "2                 37.11                 0            97459   33   \n",
       "3                 33.39                18             2413   48   \n",
       "4                 46.21                 6             9716   42   \n",
       "\n",
       "   default_risk_score  \n",
       "0         7634.543366  \n",
       "1         6249.833059  \n",
       "2         2148.117990  \n",
       "3         4979.385344  \n",
       "4         2993.851950  "
      ]
     },
     "execution_count": 2,
     "metadata": {},
     "output_type": "execute_result"
    }
   ],
   "source": [
    "# Read dataset\n",
    "df = pd.read_csv(r\"D:/End-to-end-Default-Risk-Pred-mlProject/notebook/data/default.csv\", sep=\"\\t\")\n",
    "df.head()"
   ]
  },
  {
   "cell_type": "code",
   "execution_count": 3,
   "id": "315f7b23",
   "metadata": {},
   "outputs": [
    {
     "data": {
      "text/html": [
       "<div>\n",
       "<style scoped>\n",
       "    .dataframe tbody tr th:only-of-type {\n",
       "        vertical-align: middle;\n",
       "    }\n",
       "\n",
       "    .dataframe tbody tr th {\n",
       "        vertical-align: top;\n",
       "    }\n",
       "\n",
       "    .dataframe thead th {\n",
       "        text-align: right;\n",
       "    }\n",
       "</style>\n",
       "<table border=\"1\" class=\"dataframe\">\n",
       "  <thead>\n",
       "    <tr style=\"text-align: right;\">\n",
       "      <th></th>\n",
       "      <th>credit_score</th>\n",
       "      <th>income</th>\n",
       "      <th>loan_amount</th>\n",
       "      <th>loan_term</th>\n",
       "      <th>interest_rate</th>\n",
       "      <th>debt_to_income_ratio</th>\n",
       "      <th>employment_years</th>\n",
       "      <th>savings_balance</th>\n",
       "      <th>age</th>\n",
       "    </tr>\n",
       "  </thead>\n",
       "  <tbody>\n",
       "    <tr>\n",
       "      <th>0</th>\n",
       "      <td>810</td>\n",
       "      <td>107410</td>\n",
       "      <td>11924</td>\n",
       "      <td>48</td>\n",
       "      <td>7.97</td>\n",
       "      <td>43.29</td>\n",
       "      <td>32</td>\n",
       "      <td>27181</td>\n",
       "      <td>58</td>\n",
       "    </tr>\n",
       "    <tr>\n",
       "      <th>1</th>\n",
       "      <td>418</td>\n",
       "      <td>37482</td>\n",
       "      <td>19291</td>\n",
       "      <td>24</td>\n",
       "      <td>6.94</td>\n",
       "      <td>11.01</td>\n",
       "      <td>33</td>\n",
       "      <td>15089</td>\n",
       "      <td>43</td>\n",
       "    </tr>\n",
       "    <tr>\n",
       "      <th>2</th>\n",
       "      <td>724</td>\n",
       "      <td>85641</td>\n",
       "      <td>39501</td>\n",
       "      <td>36</td>\n",
       "      <td>8.59</td>\n",
       "      <td>37.11</td>\n",
       "      <td>0</td>\n",
       "      <td>97459</td>\n",
       "      <td>33</td>\n",
       "    </tr>\n",
       "    <tr>\n",
       "      <th>3</th>\n",
       "      <td>444</td>\n",
       "      <td>73331</td>\n",
       "      <td>25714</td>\n",
       "      <td>36</td>\n",
       "      <td>13.09</td>\n",
       "      <td>33.39</td>\n",
       "      <td>18</td>\n",
       "      <td>2413</td>\n",
       "      <td>48</td>\n",
       "    </tr>\n",
       "    <tr>\n",
       "      <th>4</th>\n",
       "      <td>440</td>\n",
       "      <td>46723</td>\n",
       "      <td>35651</td>\n",
       "      <td>36</td>\n",
       "      <td>8.30</td>\n",
       "      <td>46.21</td>\n",
       "      <td>6</td>\n",
       "      <td>9716</td>\n",
       "      <td>42</td>\n",
       "    </tr>\n",
       "  </tbody>\n",
       "</table>\n",
       "</div>"
      ],
      "text/plain": [
       "   credit_score  income  loan_amount  loan_term  interest_rate  \\\n",
       "0           810  107410        11924         48           7.97   \n",
       "1           418   37482        19291         24           6.94   \n",
       "2           724   85641        39501         36           8.59   \n",
       "3           444   73331        25714         36          13.09   \n",
       "4           440   46723        35651         36           8.30   \n",
       "\n",
       "   debt_to_income_ratio  employment_years  savings_balance  age  \n",
       "0                 43.29                32            27181   58  \n",
       "1                 11.01                33            15089   43  \n",
       "2                 37.11                 0            97459   33  \n",
       "3                 33.39                18             2413   48  \n",
       "4                 46.21                 6             9716   42  "
      ]
     },
     "execution_count": 3,
     "metadata": {},
     "output_type": "execute_result"
    }
   ],
   "source": [
    "# Doing a vertical split into X features and y target\n",
    "X = df.drop(columns=['default_risk_score'], axis=1)\n",
    "X.head()"
   ]
  },
  {
   "cell_type": "code",
   "execution_count": 4,
   "id": "81d264e8",
   "metadata": {},
   "outputs": [
    {
     "data": {
      "text/plain": [
       "0    7634.543366\n",
       "1    6249.833059\n",
       "2    2148.117990\n",
       "3    4979.385344\n",
       "4    2993.851950\n",
       "Name: default_risk_score, dtype: float64"
      ]
     },
     "execution_count": 4,
     "metadata": {},
     "output_type": "execute_result"
    }
   ],
   "source": [
    "# Traget variable\n",
    "y = df['default_risk_score']\n",
    "y[:5]"
   ]
  },
  {
   "cell_type": "code",
   "execution_count": 6,
   "id": "f079424a",
   "metadata": {},
   "outputs": [
    {
     "name": "stdout",
     "output_type": "stream",
     "text": [
      "X_train shape: (640, 9)\n",
      "y_train shape: (640,)\n",
      "X_test shape: (160, 9)\n",
      "y_test shape: (160,)\n"
     ]
    }
   ],
   "source": [
    "# Carry out the train_test_split into training and test sets\n",
    "X_train, X_test, y_train, y_test = train_test_split(\n",
    "    X,\n",
    "    y,\n",
    "    test_size=0.2,\n",
    "    random_state=42\n",
    ")\n",
    "print(\"X_train shape:\", X_train.shape)\n",
    "print(\"y_train shape:\", y_train.shape)\n",
    "print(\"X_test shape:\", X_test.shape)\n",
    "print(\"y_test shape:\", y_test.shape)"
   ]
  },
  {
   "cell_type": "code",
   "execution_count": 7,
   "id": "3c6c8cea",
   "metadata": {},
   "outputs": [],
   "source": [
    "# Apply StandardScaler to the X_train and X_test\n",
    "scaler = StandardScaler()\n",
    "X_train = scaler.fit_transform(X_train)\n",
    "X_test = scaler.transform(X_test)"
   ]
  },
  {
   "cell_type": "code",
   "execution_count": 8,
   "id": "6c271efe",
   "metadata": {},
   "outputs": [],
   "source": [
    "# Define base models (level_one estimators)\n",
    "base_models = [\n",
    "    ('dt', DecisionTreeRegressor(random_state=42)),\n",
    "    ('rf', RandomForestRegressor(n_estimators=100, random_state=42)),\n",
    "    ('knn', KNeighborsRegressor(n_neighbors=5)),\n",
    "    ('lr', LinearRegression())\n",
    "]\n",
    "\n",
    "# Define meta-learner (level-2 model)\n",
    "meta_learner = LinearRegression()"
   ]
  },
  {
   "cell_type": "code",
   "execution_count": 9,
   "id": "69a5a444",
   "metadata": {},
   "outputs": [],
   "source": [
    "# Implementing the stacking regressor\n",
    "stacking_regressor = StackingRegressor(\n",
    "    estimators=base_models,\n",
    "    final_estimator=meta_learner,\n",
    "    cv=5,  # 5-fold cross-validation to generate meta-features\n",
    "    n_jobs=-1,  # Use all CPU cores\n",
    "    verbose=1  # Optional: see progress\n",
    ")"
   ]
  },
  {
   "cell_type": "code",
   "execution_count": 10,
   "id": "a501f0f3",
   "metadata": {},
   "outputs": [],
   "source": [
    "# 4. Train the stacking model(.fit)\n",
    "stacking_regressor.fit(X_train, y_train)\n",
    "\n",
    "# Predict\n",
    "y_pred = stacking_regressor.predict(X_test)"
   ]
  },
  {
   "cell_type": "code",
   "execution_count": 13,
   "id": "ba324912",
   "metadata": {},
   "outputs": [
    {
     "name": "stdout",
     "output_type": "stream",
     "text": [
      "Stacking Regressor - RMSE: 10.0692\n",
      "Stacking Regressor - R²: 1.0000\n"
     ]
    }
   ],
   "source": [
    "# 5. Evaluate the model\n",
    "# Metrics\n",
    "rmse = np.sqrt(mean_squared_error(y_test, y_pred))\n",
    "r2 = r2_score(y_test, y_pred)\n",
    "\n",
    "print(f\"Stacking Regressor - RMSE: {rmse:.4f}\")\n",
    "print(f\"Stacking Regressor - R²: {r2:.4f}\")\n",
    "# print('='*20)\n",
    "\n"
   ]
  },
  {
   "cell_type": "code",
   "execution_count": 14,
   "id": "f70f2324",
   "metadata": {},
   "outputs": [
    {
     "name": "stdout",
     "output_type": "stream",
     "text": [
      "Linear Regression: R² = 1.0000 (+/- 0.0000)\n",
      "Decision Tree: R² = 0.9992 (+/- 0.0002)\n",
      "Random Forest: R² = 0.9995 (+/- 0.0001)\n",
      "KNN: R² = 0.8431 (+/- 0.0235)\n",
      "Stacking Regressor: R² = 1.0000 (+/- 0.0000)\n"
     ]
    }
   ],
   "source": [
    "models = {\n",
    "    'Linear Regression': LinearRegression(),\n",
    "    'Decision Tree': DecisionTreeRegressor(random_state=42),\n",
    "    'Random Forest': RandomForestRegressor(n_estimators=100, random_state=42),\n",
    "    'KNN': KNeighborsRegressor(n_neighbors=5),\n",
    "    'Stacking Regressor': stacking_regressor\n",
    "}\n",
    "\n",
    "# Evaluate each model\n",
    "results = {}\n",
    "cv = KFold(n_splits=5, shuffle=True, random_state=42)\n",
    "\n",
    "for name, model in models.items():\n",
    "    cv_scores = cross_val_score(model, X_train, y_train, cv=cv, scoring='r2')\n",
    "    results[name] = cv_scores\n",
    "    \n",
    "    print(f\"{name}: R² = {cv_scores.mean():.4f} (+/- {cv_scores.std() * 2:.4f})\")"
   ]
  },
  {
   "cell_type": "code",
   "execution_count": 23,
   "id": "032208bf",
   "metadata": {},
   "outputs": [
    {
     "name": "stdout",
     "output_type": "stream",
     "text": [
      "Sample predictions: [3202.73, 6659.657, 6394.361, 3023.829, 7796.921]\n"
     ]
    }
   ],
   "source": [
    "# Make predictions on a sample data\n",
    "data = X_test[:5]  # Use the first 5 rows of the test set\n",
    "predictions = stacking_regressor.predict(data)\n",
    "print(\"Sample predictions:\", [round(pred, 3) for pred in predictions.tolist()])\n"
   ]
  }
 ],
 "metadata": {
  "kernelspec": {
   "display_name": "myenv1",
   "language": "python",
   "name": "python3"
  },
  "language_info": {
   "codemirror_mode": {
    "name": "ipython",
    "version": 3
   },
   "file_extension": ".py",
   "mimetype": "text/x-python",
   "name": "python",
   "nbconvert_exporter": "python",
   "pygments_lexer": "ipython3",
   "version": "3.12.0"
  }
 },
 "nbformat": 4,
 "nbformat_minor": 5
}
