{
 "cells": [
  {
   "cell_type": "markdown",
   "id": "504f650a",
   "metadata": {},
   "source": []
  },
  {
   "cell_type": "code",
   "execution_count": null,
   "id": "f95ea80d",
   "metadata": {},
   "outputs": [],
   "source": [
    "# Importing Necessary Libraries\n",
    "import pandas as pd\n",
    "import numpy as np\n",
    "import matplotlib.pyplot as plt\n",
    "import seaborn as sns\n",
    "import plotly.express as px\n"
   ]
  },
  {
   "cell_type": "code",
   "execution_count": 3,
   "id": "b87b2dd3",
   "metadata": {},
   "outputs": [
    {
     "data": {
      "text/html": [
       "<div>\n",
       "<style scoped>\n",
       "    .dataframe tbody tr th:only-of-type {\n",
       "        vertical-align: middle;\n",
       "    }\n",
       "\n",
       "    .dataframe tbody tr th {\n",
       "        vertical-align: top;\n",
       "    }\n",
       "\n",
       "    .dataframe thead th {\n",
       "        text-align: right;\n",
       "    }\n",
       "</style>\n",
       "<table border=\"1\" class=\"dataframe\">\n",
       "  <thead>\n",
       "    <tr style=\"text-align: right;\">\n",
       "      <th></th>\n",
       "      <th>credit_score</th>\n",
       "      <th>income</th>\n",
       "      <th>loan_amount</th>\n",
       "      <th>loan_term</th>\n",
       "      <th>interest_rate</th>\n",
       "      <th>debt_to_income_ratio</th>\n",
       "      <th>employment_years</th>\n",
       "      <th>savings_balance</th>\n",
       "      <th>age</th>\n",
       "      <th>default_risk_score</th>\n",
       "    </tr>\n",
       "  </thead>\n",
       "  <tbody>\n",
       "    <tr>\n",
       "      <th>0</th>\n",
       "      <td>810</td>\n",
       "      <td>107410</td>\n",
       "      <td>11924</td>\n",
       "      <td>48</td>\n",
       "      <td>7.97</td>\n",
       "      <td>43.29</td>\n",
       "      <td>32</td>\n",
       "      <td>27181</td>\n",
       "      <td>58</td>\n",
       "      <td>7634.543366</td>\n",
       "    </tr>\n",
       "    <tr>\n",
       "      <th>1</th>\n",
       "      <td>418</td>\n",
       "      <td>37482</td>\n",
       "      <td>19291</td>\n",
       "      <td>24</td>\n",
       "      <td>6.94</td>\n",
       "      <td>11.01</td>\n",
       "      <td>33</td>\n",
       "      <td>15089</td>\n",
       "      <td>43</td>\n",
       "      <td>6249.833059</td>\n",
       "    </tr>\n",
       "    <tr>\n",
       "      <th>2</th>\n",
       "      <td>724</td>\n",
       "      <td>85641</td>\n",
       "      <td>39501</td>\n",
       "      <td>36</td>\n",
       "      <td>8.59</td>\n",
       "      <td>37.11</td>\n",
       "      <td>0</td>\n",
       "      <td>97459</td>\n",
       "      <td>33</td>\n",
       "      <td>2148.117990</td>\n",
       "    </tr>\n",
       "    <tr>\n",
       "      <th>3</th>\n",
       "      <td>444</td>\n",
       "      <td>73331</td>\n",
       "      <td>25714</td>\n",
       "      <td>36</td>\n",
       "      <td>13.09</td>\n",
       "      <td>33.39</td>\n",
       "      <td>18</td>\n",
       "      <td>2413</td>\n",
       "      <td>48</td>\n",
       "      <td>4979.385344</td>\n",
       "    </tr>\n",
       "    <tr>\n",
       "      <th>4</th>\n",
       "      <td>440</td>\n",
       "      <td>46723</td>\n",
       "      <td>35651</td>\n",
       "      <td>36</td>\n",
       "      <td>8.30</td>\n",
       "      <td>46.21</td>\n",
       "      <td>6</td>\n",
       "      <td>9716</td>\n",
       "      <td>42</td>\n",
       "      <td>2993.851950</td>\n",
       "    </tr>\n",
       "  </tbody>\n",
       "</table>\n",
       "</div>"
      ],
      "text/plain": [
       "   credit_score  income  loan_amount  loan_term  interest_rate  \\\n",
       "0           810  107410        11924         48           7.97   \n",
       "1           418   37482        19291         24           6.94   \n",
       "2           724   85641        39501         36           8.59   \n",
       "3           444   73331        25714         36          13.09   \n",
       "4           440   46723        35651         36           8.30   \n",
       "\n",
       "   debt_to_income_ratio  employment_years  savings_balance  age  \\\n",
       "0                 43.29                32            27181   58   \n",
       "1                 11.01                33            15089   43   \n",
       "2                 37.11                 0            97459   33   \n",
       "3                 33.39                18             2413   48   \n",
       "4                 46.21                 6             9716   42   \n",
       "\n",
       "   default_risk_score  \n",
       "0         7634.543366  \n",
       "1         6249.833059  \n",
       "2         2148.117990  \n",
       "3         4979.385344  \n",
       "4         2993.851950  "
      ]
     },
     "execution_count": 3,
     "metadata": {},
     "output_type": "execute_result"
    }
   ],
   "source": [
    "# Read the dataset\n",
    "df = pd.read_csv(r\"D:/End-to-end-Default-Risk-Pred-mlProject/notebook/data/default.csv\", sep=\"\\t\")\n",
    "df.head()"
   ]
  },
  {
   "cell_type": "code",
   "execution_count": 5,
   "id": "79cbdd05",
   "metadata": {},
   "outputs": [
    {
     "name": "stdout",
     "output_type": "stream",
     "text": [
      "(800, 10)\n",
      "\n",
      "<class 'pandas.core.frame.DataFrame'>\n",
      "RangeIndex: 800 entries, 0 to 799\n",
      "Data columns (total 10 columns):\n",
      " #   Column                Non-Null Count  Dtype  \n",
      "---  ------                --------------  -----  \n",
      " 0   credit_score          800 non-null    int64  \n",
      " 1   income                800 non-null    int64  \n",
      " 2   loan_amount           800 non-null    int64  \n",
      " 3   loan_term             800 non-null    int64  \n",
      " 4   interest_rate         800 non-null    float64\n",
      " 5   debt_to_income_ratio  800 non-null    float64\n",
      " 6   employment_years      800 non-null    int64  \n",
      " 7   savings_balance       800 non-null    int64  \n",
      " 8   age                   800 non-null    int64  \n",
      " 9   default_risk_score    800 non-null    float64\n",
      "dtypes: float64(3), int64(7)\n",
      "memory usage: 62.6 KB\n",
      "None\n"
     ]
    }
   ],
   "source": [
    "# Dataset shape\n",
    "print(df.shape)\n",
    "print()\n",
    "print(df.info())"
   ]
  },
  {
   "cell_type": "code",
   "execution_count": 6,
   "id": "06a8e8a3",
   "metadata": {},
   "outputs": [
    {
     "data": {
      "text/plain": [
       "credit_score            0\n",
       "income                  0\n",
       "loan_amount             0\n",
       "loan_term               0\n",
       "interest_rate           0\n",
       "debt_to_income_ratio    0\n",
       "employment_years        0\n",
       "savings_balance         0\n",
       "age                     0\n",
       "default_risk_score      0\n",
       "dtype: int64"
      ]
     },
     "execution_count": 6,
     "metadata": {},
     "output_type": "execute_result"
    }
   ],
   "source": [
    "# Check for null values\n",
    "df.isnull().sum()"
   ]
  },
  {
   "cell_type": "code",
   "execution_count": 7,
   "id": "f2d26d27",
   "metadata": {},
   "outputs": [
    {
     "data": {
      "text/html": [
       "<div>\n",
       "<style scoped>\n",
       "    .dataframe tbody tr th:only-of-type {\n",
       "        vertical-align: middle;\n",
       "    }\n",
       "\n",
       "    .dataframe tbody tr th {\n",
       "        vertical-align: top;\n",
       "    }\n",
       "\n",
       "    .dataframe thead th {\n",
       "        text-align: right;\n",
       "    }\n",
       "</style>\n",
       "<table border=\"1\" class=\"dataframe\">\n",
       "  <thead>\n",
       "    <tr style=\"text-align: right;\">\n",
       "      <th></th>\n",
       "      <th>count</th>\n",
       "      <th>mean</th>\n",
       "      <th>std</th>\n",
       "      <th>min</th>\n",
       "      <th>25%</th>\n",
       "      <th>50%</th>\n",
       "      <th>75%</th>\n",
       "      <th>max</th>\n",
       "    </tr>\n",
       "  </thead>\n",
       "  <tbody>\n",
       "    <tr>\n",
       "      <th>credit_score</th>\n",
       "      <td>800.0</td>\n",
       "      <td>565.405000</td>\n",
       "      <td>159.528109</td>\n",
       "      <td>300.00000</td>\n",
       "      <td>426.750000</td>\n",
       "      <td>553.000000</td>\n",
       "      <td>702.000000</td>\n",
       "      <td>849.000000</td>\n",
       "    </tr>\n",
       "    <tr>\n",
       "      <th>income</th>\n",
       "      <td>800.0</td>\n",
       "      <td>85779.287500</td>\n",
       "      <td>37972.705711</td>\n",
       "      <td>20060.00000</td>\n",
       "      <td>53056.250000</td>\n",
       "      <td>85105.000000</td>\n",
       "      <td>118776.000000</td>\n",
       "      <td>149972.000000</td>\n",
       "    </tr>\n",
       "    <tr>\n",
       "      <th>loan_amount</th>\n",
       "      <td>800.0</td>\n",
       "      <td>27795.651250</td>\n",
       "      <td>12819.525021</td>\n",
       "      <td>5097.00000</td>\n",
       "      <td>16136.000000</td>\n",
       "      <td>28518.500000</td>\n",
       "      <td>38539.750000</td>\n",
       "      <td>49976.000000</td>\n",
       "    </tr>\n",
       "    <tr>\n",
       "      <th>loan_term</th>\n",
       "      <td>800.0</td>\n",
       "      <td>36.315000</td>\n",
       "      <td>17.163012</td>\n",
       "      <td>12.00000</td>\n",
       "      <td>24.000000</td>\n",
       "      <td>36.000000</td>\n",
       "      <td>48.000000</td>\n",
       "      <td>60.000000</td>\n",
       "    </tr>\n",
       "    <tr>\n",
       "      <th>interest_rate</th>\n",
       "      <td>800.0</td>\n",
       "      <td>8.732238</td>\n",
       "      <td>3.670453</td>\n",
       "      <td>2.51000</td>\n",
       "      <td>5.537500</td>\n",
       "      <td>8.725000</td>\n",
       "      <td>11.915000</td>\n",
       "      <td>14.990000</td>\n",
       "    </tr>\n",
       "    <tr>\n",
       "      <th>debt_to_income_ratio</th>\n",
       "      <td>800.0</td>\n",
       "      <td>29.812500</td>\n",
       "      <td>11.626346</td>\n",
       "      <td>10.00000</td>\n",
       "      <td>19.925000</td>\n",
       "      <td>29.645000</td>\n",
       "      <td>40.005000</td>\n",
       "      <td>49.910000</td>\n",
       "    </tr>\n",
       "    <tr>\n",
       "      <th>employment_years</th>\n",
       "      <td>800.0</td>\n",
       "      <td>16.376250</td>\n",
       "      <td>10.036339</td>\n",
       "      <td>0.00000</td>\n",
       "      <td>8.000000</td>\n",
       "      <td>16.000000</td>\n",
       "      <td>25.000000</td>\n",
       "      <td>34.000000</td>\n",
       "    </tr>\n",
       "    <tr>\n",
       "      <th>savings_balance</th>\n",
       "      <td>800.0</td>\n",
       "      <td>48850.921250</td>\n",
       "      <td>29785.455545</td>\n",
       "      <td>28.00000</td>\n",
       "      <td>21359.750000</td>\n",
       "      <td>47314.500000</td>\n",
       "      <td>76191.000000</td>\n",
       "      <td>99976.000000</td>\n",
       "    </tr>\n",
       "    <tr>\n",
       "      <th>age</th>\n",
       "      <td>800.0</td>\n",
       "      <td>42.443750</td>\n",
       "      <td>15.011446</td>\n",
       "      <td>18.00000</td>\n",
       "      <td>29.000000</td>\n",
       "      <td>42.000000</td>\n",
       "      <td>55.250000</td>\n",
       "      <td>69.000000</td>\n",
       "    </tr>\n",
       "    <tr>\n",
       "      <th>default_risk_score</th>\n",
       "      <td>800.0</td>\n",
       "      <td>4529.968687</td>\n",
       "      <td>2567.048232</td>\n",
       "      <td>49.75794</td>\n",
       "      <td>2377.592063</td>\n",
       "      <td>4379.666025</td>\n",
       "      <td>6821.026905</td>\n",
       "      <td>9113.843128</td>\n",
       "    </tr>\n",
       "  </tbody>\n",
       "</table>\n",
       "</div>"
      ],
      "text/plain": [
       "                      count          mean           std          min  \\\n",
       "credit_score          800.0    565.405000    159.528109    300.00000   \n",
       "income                800.0  85779.287500  37972.705711  20060.00000   \n",
       "loan_amount           800.0  27795.651250  12819.525021   5097.00000   \n",
       "loan_term             800.0     36.315000     17.163012     12.00000   \n",
       "interest_rate         800.0      8.732238      3.670453      2.51000   \n",
       "debt_to_income_ratio  800.0     29.812500     11.626346     10.00000   \n",
       "employment_years      800.0     16.376250     10.036339      0.00000   \n",
       "savings_balance       800.0  48850.921250  29785.455545     28.00000   \n",
       "age                   800.0     42.443750     15.011446     18.00000   \n",
       "default_risk_score    800.0   4529.968687   2567.048232     49.75794   \n",
       "\n",
       "                               25%           50%            75%            max  \n",
       "credit_score            426.750000    553.000000     702.000000     849.000000  \n",
       "income                53056.250000  85105.000000  118776.000000  149972.000000  \n",
       "loan_amount           16136.000000  28518.500000   38539.750000   49976.000000  \n",
       "loan_term                24.000000     36.000000      48.000000      60.000000  \n",
       "interest_rate             5.537500      8.725000      11.915000      14.990000  \n",
       "debt_to_income_ratio     19.925000     29.645000      40.005000      49.910000  \n",
       "employment_years          8.000000     16.000000      25.000000      34.000000  \n",
       "savings_balance       21359.750000  47314.500000   76191.000000   99976.000000  \n",
       "age                      29.000000     42.000000      55.250000      69.000000  \n",
       "default_risk_score     2377.592063   4379.666025    6821.026905    9113.843128  "
      ]
     },
     "execution_count": 7,
     "metadata": {},
     "output_type": "execute_result"
    }
   ],
   "source": [
    "# Checking the measures of central tendency\n",
    "df.describe().T"
   ]
  },
  {
   "cell_type": "code",
   "execution_count": 8,
   "id": "f5227fce",
   "metadata": {},
   "outputs": [
    {
     "data": {
      "image/png": "[encoded data removed]",
      "text/plain": [
       "<Figure size 1000x800 with 2 Axes>"
      ]
     },
     "metadata": {},
     "output_type": "display_data"
    }
   ],
   "source": [
    "# Correlation heatmap\n",
    "plt.figure(figsize=(10, 8))\n",
    "sns.heatmap(df.corr(), annot=True, cmap='coolwarm', fmt='.2f')\n",
    "plt.title('Correlation Heatmap')\n",
    "plt.show()"
   ]
  },
  {
   "cell_type": "code",
   "execution_count": null,
   "id": "96f0d97b",
   "metadata": {},
   "outputs": [],
   "source": [
    "# import missingno as msno\n",
    "# df.plot(kind= \"box\");\n",
    "# for col in df:\n",
    "#     if df[col].dtype != 'O':\n",
    "#         sns.countplot(x=col,data=df)\n",
    "#         plt.show()"
   ]
  },
  {
   "cell_type": "code",
   "execution_count": 15,
   "id": "9cfc2793",
   "metadata": {},
   "outputs": [
    {
     "data": {
      "application/vnd.plotly.v1+json": {
       "config": {
        "plotlyServerURL": "https://plot.ly"
       },
       "data": [
        {
         "bingroup": "x",
         "hovertemplate": "credit_score=%{x}<br>count=%{y}<extra></extra>",
         "legendgroup": "",
         "marker": {
          "color": "#636efa",
          "pattern": {
           "shape": ""
          }
         },
         "name": "",
         "orientation": "v",
         "showlegend": false,
         "type": "histogram",
         "x": {
          "bdata": "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",
          "dtype": "i2"
         },
         "xaxis": "x",
         "yaxis": "y"
        }
       ],
       "layout": {
        "barmode": "relative",
        "legend": {
         "tracegroupgap": 0
        },
        "paper_bgcolor": "rgba(0,0,0,0)",
        "plot_bgcolor": "rgba(0,0,0,0)",
        "template": {
         "data": {
          "bar": [
           {
            "error_x": {
             "color": "#2a3f5f"
            },
            "error_y": {
             "color": "#2a3f5f"
            },
            "marker": {
             "line": {
              "color": "#E5ECF6",
              "width": 0.5
             },
             "pattern": {
              "fillmode": "overlay",
              "size": 10,
              "solidity": 0.2
             }
            },
            "type": "bar"
           }
          ],
          "barpolar": [
           {
            "marker": {
             "line": {
              "color": "#E5ECF6",
              "width": 0.5
             },
             "pattern": {
              "fillmode": "overlay",
              "size": 10,
              "solidity": 0.2
             }
            },
            "type": "barpolar"
           }
          ],
          "carpet": [
           {
            "aaxis": {
             "endlinecolor": "#2a3f5f",
             "gridcolor": "white",
             "linecolor": "white",
             "minorgridcolor": "white",
             "startlinecolor": "#2a3f5f"
            },
            "baxis": {
             "endlinecolor": "#2a3f5f",
             "gridcolor": "white",
             "linecolor": "white",
             "minorgridcolor": "white",
             "startlinecolor": "#2a3f5f"
            },
            "type": "carpet"
           }
          ],
          "choropleth": [
           {
            "colorbar": {
             "outlinewidth": 0,
             "ticks": ""
            },
            "type": "choropleth"
           }
          ],
          "contour": [
           {
            "colorbar": {
             "outlinewidth": 0,
             "ticks": ""
            },
            "colorscale": [
             [
              0,
              "#0d0887"
             ],
             [
              0.1111111111111111,
              "#46039f"
             ],
             [
              0.2222222222222222,
              "#7201a8"
             ],
             [
              0.3333333333333333,
              "#9c179e"
             ],
             [
              0.4444444444444444,
              "#bd3786"
             ],
             [
              0.5555555555555556,
              "#d8576b"
             ],
             [
              0.6666666666666666,
              "#ed7953"
             ],
             [
              0.7777777777777778,
              "#fb9f3a"
             ],
             [
              0.8888888888888888,
              "#fdca26"
             ],
             [
              1,
              "#f0f921"
             ]
            ],
            "type": "contour"
           }
          ],
          "contourcarpet": [
           {
            "colorbar": {
             "outlinewidth": 0,
             "ticks": ""
            },
            "type": "contourcarpet"
           }
          ],
          "heatmap": [
           {
            "colorbar": {
             "outlinewidth": 0,
             "ticks": ""
            },
            "colorscale": [
             [
              0,
              "#0d0887"
             ],
             [
              0.1111111111111111,
              "#46039f"
             ],
             [
              0.2222222222222222,
              "#7201a8"
             ],
             [
              0.3333333333333333,
              "#9c179e"
             ],
             [
              0.4444444444444444,
              "#bd3786"
             ],
             [
              0.5555555555555556,
              "#d8576b"
             ],
             [
              0.6666666666666666,
              "#ed7953"
             ],
             [
              0.7777777777777778,
              "#fb9f3a"
             ],
             [
              0.8888888888888888,
              "#fdca26"
             ],
             [
              1,
              "#f0f921"
             ]
            ],
            "type": "heatmap"
           }
          ],
          "histogram": [
           {
            "marker": {
             "pattern": {
              "fillmode": "overlay",
              "size": 10,
              "solidity": 0.2
             }
            },
            "type": "histogram"
           }
          ],
          "histogram2d": [
           {
            "colorbar": {
             "outlinewidth": 0,
             "ticks": ""
            },
            "colorscale": [
             [
              0,
              "#0d0887"
             ],
             [
              0.1111111111111111,
              "#46039f"
             ],
             [
              0.2222222222222222,
              "#7201a8"
             ],
             [
              0.3333333333333333,
              "#9c179e"
             ],
             [
              0.4444444444444444,
              "#bd3786"
             ],
             [
              0.5555555555555556,
              "#d8576b"
             ],
             [
              0.6666666666666666,
              "#ed7953"
             ],
             [
              0.7777777777777778,
              "#fb9f3a"
             ],
             [
              0.8888888888888888,
              "#fdca26"
             ],
             [
              1,
              "#f0f921"
             ]
            ],
            "type": "histogram2d"
           }
          ],
          "histogram2dcontour": [
           {
            "colorbar": {
             "outlinewidth": 0,
             "ticks": ""
            },
            "colorscale": [
             [
              0,
              "#0d0887"
             ],
             [
              0.1111111111111111,
              "#46039f"
             ],
             [
              0.2222222222222222,
              "#7201a8"
             ],
             [
              0.3333333333333333,
              "#9c179e"
             ],
             [
              0.4444444444444444,
              "#bd3786"
             ],
             [
              0.5555555555555556,
              "#d8576b"
             ],
             [
              0.6666666666666666,
              "#ed7953"
             ],
             [
              0.7777777777777778,
              "#fb9f3a"
             ],
             [
              0.8888888888888888,
              "#fdca26"
             ],
             [
              1,
              "#f0f921"
             ]
            ],
            "type": "histogram2dcontour"
           }
          ],
          "mesh3d": [
           {
            "colorbar": {
             "outlinewidth": 0,
             "ticks": ""
            },
            "type": "mesh3d"
           }
          ],
          "parcoords": [
           {
            "line": {
             "colorbar": {
              "outlinewidth": 0,
              "ticks": ""
             }
            },
            "type": "parcoords"
           }
          ],
          "pie": [
           {
            "automargin": true,
            "type": "pie"
           }
          ],
          "scatter": [
           {
            "fillpattern": {
             "fillmode": "overlay",
             "size": 10,
             "solidity": 0.2
            },
            "type": "scatter"
           }
          ],
          "scatter3d": [
           {
            "line": {
             "colorbar": {
              "outlinewidth": 0,
              "ticks": ""
             }
            },
            "marker": {
             "colorbar": {
              "outlinewidth": 0,
              "ticks": ""
             }
            },
            "type": "scatter3d"
           }
          ],
          "scattercarpet": [
           {
            "marker": {
             "colorbar": {
              "outlinewidth": 0,
              "ticks": ""
             }
            },
            "type": "scattercarpet"
           }
          ],
          "scattergeo": [
           {
            "marker": {
             "colorbar": {
              "outlinewidth": 0,
              "ticks": ""
             }
            },
            "type": "scattergeo"
           }
          ],
          "scattergl": [
           {
            "marker": {
             "colorbar": {
              "outlinewidth": 0,
              "ticks": ""
             }
            },
            "type": "scattergl"
           }
          ],
          "scattermap": [
           {
            "marker": {
             "colorbar": {
              "outlinewidth": 0,
              "ticks": ""
             }
            },
            "type": "scattermap"
           }
          ],
          "scattermapbox": [
           {
            "marker": {
             "colorbar": {
              "outlinewidth": 0,
              "ticks": ""
             }
            },
            "type": "scattermapbox"
           }
          ],
          "scatterpolar": [
           {
            "marker": {
             "colorbar": {
              "outlinewidth": 0,
              "ticks": ""
             }
            },
            "type": "scatterpolar"
           }
          ],
          "scatterpolargl": [
           {
            "marker": {
             "colorbar": {
              "outlinewidth": 0,
              "ticks": ""
             }
            },
            "type": "scatterpolargl"
           }
          ],
          "scatterternary": [
           {
            "marker": {
             "colorbar": {
              "outlinewidth": 0,
              "ticks": ""
             }
            },
            "type": "scatterternary"
           }
          ],
          "surface": [
           {
            "colorbar": {
             "outlinewidth": 0,
             "ticks": ""
            },
            "colorscale": [
             [
              0,
              "#0d0887"
             ],
             [
              0.1111111111111111,
              "#46039f"
             ],
             [
              0.2222222222222222,
              "#7201a8"
             ],
             [
              0.3333333333333333,
              "#9c179e"
             ],
             [
              0.4444444444444444,
              "#bd3786"
             ],
             [
              0.5555555555555556,
              "#d8576b"
             ],
             [
              0.6666666666666666,
              "#ed7953"
             ],
             [
              0.7777777777777778,
              "#fb9f3a"
             ],
             [
              0.8888888888888888,
              "#fdca26"
             ],
             [
              1,
              "#f0f921"
             ]
            ],
            "type": "surface"
           }
          ],
          "table": [
           {
            "cells": {
             "fill": {
              "color": "#EBF0F8"
             },
             "line": {
              "color": "white"
             }
            },
            "header": {
             "fill": {
              "color": "#C8D4E3"
             },
             "line": {
              "color": "white"
             }
            },
            "type": "table"
           }
          ]
         },
         "layout": {
          "annotationdefaults": {
           "arrowcolor": "#2a3f5f",
           "arrowhead": 0,
           "arrowwidth": 1
          },
          "autotypenumbers": "strict",
          "coloraxis": {
           "colorbar": {
            "outlinewidth": 0,
            "ticks": ""
           }
          },
          "colorscale": {
           "diverging": [
            [
             0,
             "#8e0152"
            ],
            [
             0.1,
             "#c51b7d"
            ],
            [
             0.2,
             "#de77ae"
            ],
            [
             0.3,
             "#f1b6da"
            ],
            [
             0.4,
             "#fde0ef"
            ],
            [
             0.5,
             "#f7f7f7"
            ],
            [
             0.6,
             "#e6f5d0"
            ],
            [
             0.7,
             "#b8e186"
            ],
            [
             0.8,
             "#7fbc41"
            ],
            [
             0.9,
             "#4d9221"
            ],
            [
             1,
             "#276419"
            ]
           ],
           "sequential": [
            [
             0,
             "#0d0887"
            ],
            [
             0.1111111111111111,
             "#46039f"
            ],
            [
             0.2222222222222222,
             "#7201a8"
            ],
            [
             0.3333333333333333,
             "#9c179e"
            ],
            [
             0.4444444444444444,
             "#bd3786"
            ],
            [
             0.5555555555555556,
             "#d8576b"
            ],
            [
             0.6666666666666666,
             "#ed7953"
            ],
            [
             0.7777777777777778,
             "#fb9f3a"
            ],
            [
             0.8888888888888888,
             "#fdca26"
            ],
            [
             1,
             "#f0f921"
            ]
           ],
           "sequentialminus": [
            [
             0,
             "#0d0887"
            ],
            [
             0.1111111111111111,
             "#46039f"
            ],
            [
             0.2222222222222222,
             "#7201a8"
            ],
            [
             0.3333333333333333,
             "#9c179e"
            ],
            [
             0.4444444444444444,
             "#bd3786"
            ],
            [
             0.5555555555555556,
             "#d8576b"
            ],
            [
             0.6666666666666666,
             "#ed7953"
            ],
            [
             0.7777777777777778,
             "#fb9f3a"
            ],
            [
             0.8888888888888888,
             "#fdca26"
            ],
            [
             1,
             "#f0f921"
            ]
           ]
          },
          "colorway": [
           "#636efa",
           "#EF553B",
           "#00cc96",
           "#ab63fa",
           "#FFA15A",
           "#19d3f3",
           "#FF6692",
           "#B6E880",
           "#FF97FF",
           "#FECB52"
          ],
          "font": {
           "color": "#2a3f5f"
          },
          "geo": {
           "bgcolor": "white",
           "lakecolor": "white",
           "landcolor": "#E5ECF6",
           "showlakes": true,
           "showland": true,
           "subunitcolor": "white"
          },
          "hoverlabel": {
           "align": "left"
          },
          "hovermode": "closest",
          "mapbox": {
           "style": "light"
          },
          "paper_bgcolor": "white",
          "plot_bgcolor": "#E5ECF6",
          "polar": {
           "angularaxis": {
            "gridcolor": "white",
            "linecolor": "white",
            "ticks": ""
           },
           "bgcolor": "#E5ECF6",
           "radialaxis": {
            "gridcolor": "white",
            "linecolor": "white",
            "ticks": ""
           }
          },
          "scene": {
           "xaxis": {
            "backgroundcolor": "#E5ECF6",
            "gridcolor": "white",
            "gridwidth": 2,
            "linecolor": "white",
            "showbackground": true,
            "ticks": "",
            "zerolinecolor": "white"
           },
           "yaxis": {
            "backgroundcolor": "#E5ECF6",
            "gridcolor": "white",
            "gridwidth": 2,
            "linecolor": "white",
            "showbackground": true,
            "ticks": "",
            "zerolinecolor": "white"
           },
           "zaxis": {
            "backgroundcolor": "#E5ECF6",
            "gridcolor": "white",
            "gridwidth": 2,
            "linecolor": "white",
            "showbackground": true,
            "ticks": "",
            "zerolinecolor": "white"
           }
          },
          "shapedefaults": {
           "line": {
            "color": "#2a3f5f"
           }
          },
          "ternary": {
           "aaxis": {
            "gridcolor": "white",
            "linecolor": "white",
            "ticks": ""
           },
           "baxis": {
            "gridcolor": "white",
            "linecolor": "white",
            "ticks": ""
           },
           "bgcolor": "#E5ECF6",
           "caxis": {
            "gridcolor": "white",
            "linecolor": "white",
            "ticks": ""
           }
          },
          "title": {
           "x": 0.05
          },
          "xaxis": {
           "automargin": true,
           "gridcolor": "white",
           "linecolor": "white",
           "ticks": "",
           "title": {
            "standoff": 15
           },
           "zerolinecolor": "white",
           "zerolinewidth": 2
          },
          "yaxis": {
           "automargin": true,
           "gridcolor": "white",
           "linecolor": "white",
           "ticks": "",
           "title": {
            "standoff": 15
           },
           "zerolinecolor": "white",
           "zerolinewidth": 2
          }
         }
        },
        "title": {
         "font": {
          "family": "Arial",
          "size": 18
         },
         "text": "Distribution of credit_score"
        },
        "xaxis": {
         "anchor": "y",
         "domain": [
          0,
          1
         ],
         "title": {
          "text": "credit_score"
         }
        },
        "yaxis": {
         "anchor": "x",
         "domain": [
          0,
          1
         ],
         "title": {
          "text": "Count"
         }
        }
       }
      }
     },
     "metadata": {},
     "output_type": "display_data"
    },
    {
     "data": {
      "application/vnd.plotly.v1+json": {
       "config": {
        "plotlyServerURL": "https://plot.ly"
       },
       "data": [
        {
         "bingroup": "x",
         "hovertemplate": "income=%{x}<br>count=%{y}<extra></extra>",
         "legendgroup": "",
         "marker": {
          "color": "#636efa",
          "pattern": {
           "shape": ""
          }
         },
         "name": "",
         "orientation": "v",
         "showlegend": false,
         "type": "histogram",
         "x": {
          "bdata": "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",
          "dtype": "i4"
         },
         "xaxis": "x",
         "yaxis": "y"
        }
       ],
       "layout": {
        "barmode": "relative",
        "legend": {
         "tracegroupgap": 0
        },
        "paper_bgcolor": "rgba(0,0,0,0)",
        "plot_bgcolor": "rgba(0,0,0,0)",
        "template": {
         "data": {
          "bar": [
           {
            "error_x": {
             "color": "#2a3f5f"
            },
            "error_y": {
             "color": "#2a3f5f"
            },
            "marker": {
             "line": {
              "color": "#E5ECF6",
              "width": 0.5
             },
             "pattern": {
              "fillmode": "overlay",
              "size": 10,
              "solidity": 0.2
             }
            },
            "type": "bar"
           }
          ],
          "barpolar": [
           {
            "marker": {
             "line": {
              "color": "#E5ECF6",
              "width": 0.5
             },
             "pattern": {
              "fillmode": "overlay",
              "size": 10,
              "solidity": 0.2
             }
            },
            "type": "barpolar"
           }
          ],
          "carpet": [
           {
            "aaxis": {
             "endlinecolor": "#2a3f5f",
             "gridcolor": "white",
             "linecolor": "white",
             "minorgridcolor": "white",
             "startlinecolor": "#2a3f5f"
            },
            "baxis": {
             "endlinecolor": "#2a3f5f",
             "gridcolor": "white",
             "linecolor": "white",
             "minorgridcolor": "white",
             "startlinecolor": "#2a3f5f"
            },
            "type": "carpet"
           }
          ],
          "choropleth": [
           {
            "colorbar": {
             "outlinewidth": 0,
             "ticks": ""
            },
            "type": "choropleth"
           }
          ],
          "contour": [
           {
            "colorbar": {
             "outlinewidth": 0,
             "ticks": ""
            },
            "colorscale": [
             [
              0,
              "#0d0887"
             ],
             [
              0.1111111111111111,
              "#46039f"
             ],
             [
              0.2222222222222222,
              "#7201a8"
             ],
             [
              0.3333333333333333,
              "#9c179e"
             ],
             [
              0.4444444444444444,
              "#bd3786"
             ],
             [
              0.5555555555555556,
              "#d8576b"
             ],
             [
              0.6666666666666666,
              "#ed7953"
             ],
             [
              0.7777777777777778,
              "#fb9f3a"
             ],
             [
              0.8888888888888888,
              "#fdca26"
             ],
             [
              1,
              "#f0f921"
             ]
            ],
            "type": "contour"
           }
          ],
          "contourcarpet": [
           {
            "colorbar": {
             "outlinewidth": 0,
             "ticks": ""
            },
            "type": "contourcarpet"
           }
          ],
          "heatmap": [
           {
            "colorbar": {
             "outlinewidth": 0,
             "ticks": ""
            },
            "colorscale": [
             [
              0,
              "#0d0887"
             ],
             [
              0.1111111111111111,
              "#46039f"
             ],
             [
              0.2222222222222222,
              "#7201a8"
             ],
             [
              0.3333333333333333,
              "#9c179e"
             ],
             [
              0.4444444444444444,
              "#bd3786"
             ],
             [
              0.5555555555555556,
              "#d8576b"
             ],
             [
              0.6666666666666666,
              "#ed7953"
             ],
             [
              0.7777777777777778,
              "#fb9f3a"
             ],
             [
              0.8888888888888888,
              "#fdca26"
             ],
             [
              1,
              "#f0f921"
             ]
            ],
            "type": "heatmap"
           }
          ],
          "histogram": [
           {
            "marker": {
             "pattern": {
              "fillmode": "overlay",
              "size": 10,
              "solidity": 0.2
             }
            },
            "type": "histogram"
           }
          ],
          "histogram2d": [
           {
            "colorbar": {
             "outlinewidth": 0,
             "ticks": ""
            },
            "colorscale": [
             [
              0,
              "#0d0887"
             ],
             [
              0.1111111111111111,
              "#46039f"
             ],
             [
              0.2222222222222222,
              "#7201a8"
             ],
             [
              0.3333333333333333,
              "#9c179e"
             ],
             [
              0.4444444444444444,
              "#bd3786"
             ],
             [
              0.5555555555555556,
              "#d8576b"
             ],
             [
              0.6666666666666666,
              "#ed7953"
             ],
             [
              0.7777777777777778,
              "#fb9f3a"
             ],
             [
              0.8888888888888888,
              "#fdca26"
             ],
             [
              1,
              "#f0f921"
             ]
            ],
            "type": "histogram2d"
           }
          ],
          "histogram2dcontour": [
           {
            "colorbar": {
             "outlinewidth": 0,
             "ticks": ""
            },
            "colorscale": [
             [
              0,
              "#0d0887"
             ],
             [
              0.1111111111111111,
              "#46039f"
             ],
             [
              0.2222222222222222,
              "#7201a8"
             ],
             [
              0.3333333333333333,
              "#9c179e"
             ],
             [
              0.4444444444444444,
              "#bd3786"
             ],
             [
              0.5555555555555556,
              "#d8576b"
             ],
             [
              0.6666666666666666,
              "#ed7953"
             ],
             [
              0.7777777777777778,
              "#fb9f3a"
             ],
             [
              0.8888888888888888,
              "#fdca26"
             ],
             [
              1,
              "#f0f921"
             ]
            ],
            "type": "histogram2dcontour"
           }
          ],
          "mesh3d": [
           {
            "colorbar": {
             "outlinewidth": 0,
             "ticks": ""
            },
            "type": "mesh3d"
           }
          ],
          "parcoords": [
           {
            "line": {
             "colorbar": {
              "outlinewidth": 0,
              "ticks": ""
             }
            },
            "type": "parcoords"
           }
          ],
          "pie": [
           {
            "automargin": true,
            "type": "pie"
           }
          ],
          "scatter": [
           {
            "fillpattern": {
             "fillmode": "overlay",
             "size": 10,
             "solidity": 0.2
            },
            "type": "scatter"
           }
          ],
          "scatter3d": [
           {
            "line": {
             "colorbar": {
              "outlinewidth": 0,
              "ticks": ""
             }
            },
            "marker": {
             "colorbar": {
              "outlinewidth": 0,
              "ticks": ""
             }
            },
            "type": "scatter3d"
           }
          ],
          "scattercarpet": [
           {
            "marker": {
             "colorbar": {
              "outlinewidth": 0,
              "ticks": ""
             }
            },
            "type": "scattercarpet"
           }
          ],
          "scattergeo": [
           {
            "marker": {
             "colorbar": {
              "outlinewidth": 0,
              "ticks": ""
             }
            },
            "type": "scattergeo"
           }
          ],
          "scattergl": [
           {
            "marker": {
             "colorbar": {
              "outlinewidth": 0,
              "ticks": ""
             }
            },
            "type": "scattergl"
           }
          ],
          "scattermap": [
           {
            "marker": {
             "colorbar": {
              "outlinewidth": 0,
              "ticks": ""
             }
            },
            "type": "scattermap"
           }
          ],
          "scattermapbox": [
           {
            "marker": {
             "colorbar": {
              "outlinewidth": 0,
              "ticks": ""
             }
            },
            "type": "scattermapbox"
           }
          ],
          "scatterpolar": [
           {
            "marker": {
             "colorbar": {
              "outlinewidth": 0,
              "ticks": ""
             }
            },
            "type": "scatterpolar"
           }
          ],
          "scatterpolargl": [
           {
            "marker": {
             "colorbar": {
              "outlinewidth": 0,
              "ticks": ""
             }
            },
            "type": "scatterpolargl"
           }
          ],
          "scatterternary": [
           {
            "marker": {
             "colorbar": {
              "outlinewidth": 0,
              "ticks": ""
             }
            },
            "type": "scatterternary"
           }
          ],
          "surface": [
           {
            "colorbar": {
             "outlinewidth": 0,
             "ticks": ""
            },
            "colorscale": [
             [
              0,
              "#0d0887"
             ],
             [
              0.1111111111111111,
              "#46039f"
             ],
             [
              0.2222222222222222,
              "#7201a8"
             ],
             [
              0.3333333333333333,
              "#9c179e"
             ],
             [
              0.4444444444444444,
              "#bd3786"
             ],
             [
              0.5555555555555556,
              "#d8576b"
             ],
             [
              0.6666666666666666,
              "#ed7953"
             ],
             [
              0.7777777777777778,
              "#fb9f3a"
             ],
             [
              0.8888888888888888,
              "#fdca26"
             ],
             [
              1,
              "#f0f921"
             ]
            ],
            "type": "surface"
           }
          ],
          "table": [
           {
            "cells": {
             "fill": {
              "color": "#EBF0F8"
             },
             "line": {
              "color": "white"
             }
            },
            "header": {
             "fill": {
              "color": "#C8D4E3"
             },
             "line": {
              "color": "white"
             }
            },
            "type": "table"
           }
          ]
         },
         "layout": {
          "annotationdefaults": {
           "arrowcolor": "#2a3f5f",
           "arrowhead": 0,
           "arrowwidth": 1
          },
          "autotypenumbers": "strict",
          "coloraxis": {
           "colorbar": {
            "outlinewidth": 0,
            "ticks": ""
           }
          },
          "colorscale": {
           "diverging": [
            [
             0,
             "#8e0152"
            ],
            [
             0.1,
             "#c51b7d"
            ],
            [
             0.2,
             "#de77ae"
            ],
            [
             0.3,
             "#f1b6da"
            ],
            [
             0.4,
             "#fde0ef"
            ],
            [
             0.5,
             "#f7f7f7"
            ],
            [
             0.6,
             "#e6f5d0"
            ],
            [
             0.7,
             "#b8e186"
            ],
            [
             0.8,
             "#7fbc41"
            ],
            [
             0.9,
             "#4d9221"
            ],
            [
             1,
             "#276419"
            ]
           ],
           "sequential": [
            [
             0,
             "#0d0887"
            ],
            [
             0.1111111111111111,
             "#46039f"
            ],
            [
             0.2222222222222222,
             "#7201a8"
            ],
            [
             0.3333333333333333,
             "#9c179e"
            ],
            [
             0.4444444444444444,
             "#bd3786"
            ],
            [
             0.5555555555555556,
             "#d8576b"
            ],
            [
             0.6666666666666666,
             "#ed7953"
            ],
            [
             0.7777777777777778,
             "#fb9f3a"
            ],
            [
             0.8888888888888888,
             "#fdca26"
            ],
            [
             1,
             "#f0f921"
            ]
           ],
           "sequentialminus": [
            [
             0,
             "#0d0887"
            ],
            [
             0.1111111111111111,
             "#46039f"
            ],
            [
             0.2222222222222222,
             "#7201a8"
            ],
            [
             0.3333333333333333,
             "#9c179e"
            ],
            [
             0.4444444444444444,
             "#bd3786"
            ],
            [
             0.5555555555555556,
             "#d8576b"
            ],
            [
             0.6666666666666666,
             "#ed7953"
            ],
            [
             0.7777777777777778,
             "#fb9f3a"
            ],
            [
             0.8888888888888888,
             "#fdca26"
            ],
            [
             1,
             "#f0f921"
            ]
           ]
          },
          "colorway": [
           "#636efa",
           "#EF553B",
           "#00cc96",
           "#ab63fa",
           "#FFA15A",
           "#19d3f3",
           "#FF6692",
           "#B6E880",
           "#FF97FF",
           "#FECB52"
          ],
          "font": {
           "color": "#2a3f5f"
          },
          "geo": {
           "bgcolor": "white",
           "lakecolor": "white",
           "landcolor": "#E5ECF6",
           "showlakes": true,
           "showland": true,
           "subunitcolor": "white"
          },
          "hoverlabel": {
           "align": "left"
          },
          "hovermode": "closest",
          "mapbox": {
           "style": "light"
          },
          "paper_bgcolor": "white",
          "plot_bgcolor": "#E5ECF6",
          "polar": {
           "angularaxis": {
            "gridcolor": "white",
            "linecolor": "white",
            "ticks": ""
           },
           "bgcolor": "#E5ECF6",
           "radialaxis": {
            "gridcolor": "white",
            "linecolor": "white",
            "ticks": ""
           }
          },
          "scene": {
           "xaxis": {
            "backgroundcolor": "#E5ECF6",
            "gridcolor": "white",
            "gridwidth": 2,
            "linecolor": "white",
            "showbackground": true,
            "ticks": "",
            "zerolinecolor": "white"
           },
           "yaxis": {
            "backgroundcolor": "#E5ECF6",
            "gridcolor": "white",
            "gridwidth": 2,
            "linecolor": "white",
            "showbackground": true,
            "ticks": "",
            "zerolinecolor": "white"
           },
           "zaxis": {
            "backgroundcolor": "#E5ECF6",
            "gridcolor": "white",
            "gridwidth": 2,
            "linecolor": "white",
            "showbackground": true,
            "ticks": "",
            "zerolinecolor": "white"
           }
          },
          "shapedefaults": {
           "line": {
            "color": "#2a3f5f"
           }
          },
          "ternary": {
           "aaxis": {
            "gridcolor": "white",
            "linecolor": "white",
            "ticks": ""
           },
           "baxis": {
            "gridcolor": "white",
            "linecolor": "white",
            "ticks": ""
           },
           "bgcolor": "#E5ECF6",
           "caxis": {
            "gridcolor": "white",
            "linecolor": "white",
            "ticks": ""
           }
          },
          "title": {
           "x": 0.05
          },
          "xaxis": {
           "automargin": true,
           "gridcolor": "white",
           "linecolor": "white",
           "ticks": "",
           "title": {
            "standoff": 15
           },
           "zerolinecolor": "white",
           "zerolinewidth": 2
          },
          "yaxis": {
           "automargin": true,
           "gridcolor": "white",
           "linecolor": "white",
           "ticks": "",
           "title": {
            "standoff": 15
           },
           "zerolinecolor": "white",
           "zerolinewidth": 2
          }
         }
        },
        "title": {
         "font": {
          "family": "Arial",
          "size": 18
         },
         "text": "Distribution of income"
        },
        "xaxis": {
         "anchor": "y",
         "domain": [
          0,
          1
         ],
         "title": {
          "text": "income"
         }
        },
        "yaxis": {
         "anchor": "x",
         "domain": [
          0,
          1
         ],
         "title": {
          "text": "Count"
         }
        }
       }
      }
     },
     "metadata": {},
     "output_type": "display_data"
    },
    {
     "data": {
      "application/vnd.plotly.v1+json": {
       "config": {
        "plotlyServerURL": "https://plot.ly"
       },
       "data": [
        {
         "bingroup": "x",
         "hovertemplate": "loan_amount=%{x}<br>count=%{y}<extra></extra>",
         "legendgroup": "",
         "marker": {
          "color": "#636efa",
          "pattern": {
           "shape": ""
          }
         },
         "name": "",
         "orientation": "v",
         "showlegend": false,
         "type": "histogram",
         "x": {
          "bdata": "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",
          "dtype": "i4"
         },
         "xaxis": "x",
         "yaxis": "y"
        }
       ],
       "layout": {
        "barmode": "relative",
        "legend": {
         "tracegroupgap": 0
        },
        "paper_bgcolor": "rgba(0,0,0,0)",
        "plot_bgcolor": "rgba(0,0,0,0)",
        "template": {
         "data": {
          "bar": [
           {
            "error_x": {
             "color": "#2a3f5f"
            },
            "error_y": {
             "color": "#2a3f5f"
            },
            "marker": {
             "line": {
              "color": "#E5ECF6",
              "width": 0.5
             },
             "pattern": {
              "fillmode": "overlay",
              "size": 10,
              "solidity": 0.2
             }
            },
            "type": "bar"
           }
          ],
          "barpolar": [
           {
            "marker": {
             "line": {
              "color": "#E5ECF6",
              "width": 0.5
             },
             "pattern": {
              "fillmode": "overlay",
              "size": 10,
              "solidity": 0.2
             }
            },
            "type": "barpolar"
           }
          ],
          "carpet": [
           {
            "aaxis": {
             "endlinecolor": "#2a3f5f",
             "gridcolor": "white",
             "linecolor": "white",
             "minorgridcolor": "white",
             "startlinecolor": "#2a3f5f"
            },
            "baxis": {
             "endlinecolor": "#2a3f5f",
             "gridcolor": "white",
             "linecolor": "white",
             "minorgridcolor": "white",
             "startlinecolor": "#2a3f5f"
            },
            "type": "carpet"
           }
          ],
          "choropleth": [
           {
            "colorbar": {
             "outlinewidth": 0,
             "ticks": ""
            },
            "type": "choropleth"
           }
          ],
          "contour": [
           {
            "colorbar": {
             "outlinewidth": 0,
             "ticks": ""
            },
            "colorscale": [
             [
              0,
              "#0d0887"
             ],
             [
              0.1111111111111111,
              "#46039f"
             ],
             [
              0.2222222222222222,
              "#7201a8"
             ],
             [
              0.3333333333333333,
              "#9c179e"
             ],
             [
              0.4444444444444444,
              "#bd3786"
             ],
             [
              0.5555555555555556,
              "#d8576b"
             ],
             [
              0.6666666666666666,
              "#ed7953"
             ],
             [
              0.7777777777777778,
              "#fb9f3a"
             ],
             [
              0.8888888888888888,
              "#fdca26"
             ],
             [
              1,
              "#f0f921"
             ]
            ],
            "type": "contour"
           }
          ],
          "contourcarpet": [
           {
            "colorbar": {
             "outlinewidth": 0,
             "ticks": ""
            },
            "type": "contourcarpet"
           }
          ],
          "heatmap": [
           {
            "colorbar": {
             "outlinewidth": 0,
             "ticks": ""
            },
            "colorscale": [
             [
              0,
              "#0d0887"
             ],
             [
              0.1111111111111111,
              "#46039f"
             ],
             [
              0.2222222222222222,
              "#7201a8"
             ],
             [
              0.3333333333333333,
              "#9c179e"
             ],
             [
              0.4444444444444444,
              "#bd3786"
             ],
             [
              0.5555555555555556,
              "#d8576b"
             ],
             [
              0.6666666666666666,
              "#ed7953"
             ],
             [
              0.7777777777777778,
              "#fb9f3a"
             ],
             [
              0.8888888888888888,
              "#fdca26"
             ],
             [
              1,
              "#f0f921"
             ]
            ],
            "type": "heatmap"
           }
          ],
          "histogram": [
           {
            "marker": {
             "pattern": {
              "fillmode": "overlay",
              "size": 10,
              "solidity": 0.2
             }
            },
            "type": "histogram"
           }
          ],
          "histogram2d": [
           {
            "colorbar": {
             "outlinewidth": 0,
             "ticks": ""
            },
            "colorscale": [
             [
              0,
              "#0d0887"
             ],
             [
              0.1111111111111111,
              "#46039f"
             ],
             [
              0.2222222222222222,
              "#7201a8"
             ],
             [
              0.3333333333333333,
              "#9c179e"
             ],
             [
              0.4444444444444444,
              "#bd3786"
             ],
             [
              0.5555555555555556,
              "#d8576b"
             ],
             [
              0.6666666666666666,
              "#ed7953"
             ],
             [
              0.7777777777777778,
              "#fb9f3a"
             ],
             [
              0.8888888888888888,
              "#fdca26"
             ],
             [
              1,
              "#f0f921"
             ]
            ],
            "type": "histogram2d"
           }
          ],
          "histogram2dcontour": [
           {
            "colorbar": {
             "outlinewidth": 0,
             "ticks": ""
            },
            "colorscale": [
             [
              0,
              "#0d0887"
             ],
             [
              0.1111111111111111,
              "#46039f"
             ],
             [
              0.2222222222222222,
              "#7201a8"
             ],
             [
              0.3333333333333333,
              "#9c179e"
             ],
             [
              0.4444444444444444,
              "#bd3786"
             ],
             [
              0.5555555555555556,
              "#d8576b"
             ],
             [
              0.6666666666666666,
              "#ed7953"
             ],
             [
              0.7777777777777778,
              "#fb9f3a"
             ],
             [
              0.8888888888888888,
              "#fdca26"
             ],
             [
              1,
              "#f0f921"
             ]
            ],
            "type": "histogram2dcontour"
           }
          ],
          "mesh3d": [
           {
            "colorbar": {
             "outlinewidth": 0,
             "ticks": ""
            },
            "type": "mesh3d"
           }
          ],
          "parcoords": [
           {
            "line": {
             "colorbar": {
              "outlinewidth": 0,
              "ticks": ""
             }
            },
            "type": "parcoords"
           }
          ],
          "pie": [
           {
            "automargin": true,
            "type": "pie"
           }
          ],
          "scatter": [
           {
            "fillpattern": {
             "fillmode": "overlay",
             "size": 10,
             "solidity": 0.2
            },
            "type": "scatter"
           }
          ],
          "scatter3d": [
           {
            "line": {
             "colorbar": {
              "outlinewidth": 0,
              "ticks": ""
             }
            },
            "marker": {
             "colorbar": {
              "outlinewidth": 0,
              "ticks": ""
             }
            },
            "type": "scatter3d"
           }
          ],
          "scattercarpet": [
           {
            "marker": {
             "colorbar": {
              "outlinewidth": 0,
              "ticks": ""
             }
            },
            "type": "scattercarpet"
           }
          ],
          "scattergeo": [
           {
            "marker": {
             "colorbar": {
              "outlinewidth": 0,
              "ticks": ""
             }
            },
            "type": "scattergeo"
           }
          ],
          "scattergl": [
           {
            "marker": {
             "colorbar": {
              "outlinewidth": 0,
              "ticks": ""
             }
            },
            "type": "scattergl"
           }
          ],
          "scattermap": [
           {
            "marker": {
             "colorbar": {
              "outlinewidth": 0,
              "ticks": ""
             }
            },
            "type": "scattermap"
           }
          ],
          "scattermapbox": [
           {
            "marker": {
             "colorbar": {
              "outlinewidth": 0,
              "ticks": ""
             }
            },
            "type": "scattermapbox"
           }
          ],
          "scatterpolar": [
           {
            "marker": {
             "colorbar": {
              "outlinewidth": 0,
              "ticks": ""
             }
            },
            "type": "scatterpolar"
           }
          ],
          "scatterpolargl": [
           {
            "marker": {
             "colorbar": {
              "outlinewidth": 0,
              "ticks": ""
             }
            },
            "type": "scatterpolargl"
           }
          ],
          "scatterternary": [
           {
            "marker": {
             "colorbar": {
              "outlinewidth": 0,
              "ticks": ""
             }
            },
            "type": "scatterternary"
           }
          ],
          "surface": [
           {
            "colorbar": {
             "outlinewidth": 0,
             "ticks": ""
            },
            "colorscale": [
             [
              0,
              "#0d0887"
             ],
             [
              0.1111111111111111,
              "#46039f"
             ],
             [
              0.2222222222222222,
              "#7201a8"
             ],
             [
              0.3333333333333333,
              "#9c179e"
             ],
             [
              0.4444444444444444,
              "#bd3786"
             ],
             [
              0.5555555555555556,
              "#d8576b"
             ],
             [
              0.6666666666666666,
              "#ed7953"
             ],
             [
              0.7777777777777778,
              "#fb9f3a"
             ],
             [
              0.8888888888888888,
              "#fdca26"
             ],
             [
              1,
              "#f0f921"
             ]
            ],
            "type": "surface"
           }
          ],
          "table": [
           {
            "cells": {
             "fill": {
              "color": "#EBF0F8"
             },
             "line": {
              "color": "white"
             }
            },
            "header": {
             "fill": {
              "color": "#C8D4E3"
             },
             "line": {
              "color": "white"
             }
            },
            "type": "table"
           }
          ]
         },
         "layout": {
          "annotationdefaults": {
           "arrowcolor": "#2a3f5f",
           "arrowhead": 0,
           "arrowwidth": 1
          },
          "autotypenumbers": "strict",
          "coloraxis": {
           "colorbar": {
            "outlinewidth": 0,
            "ticks": ""
           }
          },
          "colorscale": {
           "diverging": [
            [
             0,
             "#8e0152"
            ],
            [
             0.1,
             "#c51b7d"
            ],
            [
             0.2,
             "#de77ae"
            ],
            [
             0.3,
             "#f1b6da"
            ],
            [
             0.4,
             "#fde0ef"
            ],
            [
             0.5,
             "#f7f7f7"
            ],
            [
             0.6,
             "#e6f5d0"
            ],
            [
             0.7,
             "#b8e186"
            ],
            [
             0.8,
             "#7fbc41"
            ],
            [
             0.9,
             "#4d9221"
            ],
            [
             1,
             "#276419"
            ]
           ],
           "sequential": [
            [
             0,
             "#0d0887"
            ],
            [
             0.1111111111111111,
             "#46039f"
            ],
            [
             0.2222222222222222,
             "#7201a8"
            ],
            [
             0.3333333333333333,
             "#9c179e"
            ],
            [
             0.4444444444444444,
             "#bd3786"
            ],
            [
             0.5555555555555556,
             "#d8576b"
            ],
            [
             0.6666666666666666,
             "#ed7953"
            ],
            [
             0.7777777777777778,
             "#fb9f3a"
            ],
            [
             0.8888888888888888,
             "#fdca26"
            ],
            [
             1,
             "#f0f921"
            ]
           ],
           "sequentialminus": [
            [
             0,
             "#0d0887"
            ],
            [
             0.1111111111111111,
             "#46039f"
            ],
            [
             0.2222222222222222,
             "#7201a8"
            ],
            [
             0.3333333333333333,
             "#9c179e"
            ],
            [
             0.4444444444444444,
             "#bd3786"
            ],
            [
             0.5555555555555556,
             "#d8576b"
            ],
            [
             0.6666666666666666,
             "#ed7953"
            ],
            [
             0.7777777777777778,
             "#fb9f3a"
            ],
            [
             0.8888888888888888,
             "#fdca26"
            ],
            [
             1,
             "#f0f921"
            ]
           ]
          },
          "colorway": [
           "#636efa",
           "#EF553B",
           "#00cc96",
           "#ab63fa",
           "#FFA15A",
           "#19d3f3",
           "#FF6692",
           "#B6E880",
           "#FF97FF",
           "#FECB52"
          ],
          "font": {
           "color": "#2a3f5f"
          },
          "geo": {
           "bgcolor": "white",
           "lakecolor": "white",
           "landcolor": "#E5ECF6",
           "showlakes": true,
           "showland": true,
           "subunitcolor": "white"
          },
          "hoverlabel": {
           "align": "left"
          },
          "hovermode": "closest",
          "mapbox": {
           "style": "light"
          },
          "paper_bgcolor": "white",
          "plot_bgcolor": "#E5ECF6",
          "polar": {
           "angularaxis": {
            "gridcolor": "white",
            "linecolor": "white",
            "ticks": ""
           },
           "bgcolor": "#E5ECF6",
           "radialaxis": {
            "gridcolor": "white",
            "linecolor": "white",
            "ticks": ""
           }
          },
          "scene": {
           "xaxis": {
            "backgroundcolor": "#E5ECF6",
            "gridcolor": "white",
            "gridwidth": 2,
            "linecolor": "white",
            "showbackground": true,
            "ticks": "",
            "zerolinecolor": "white"
           },
           "yaxis": {
            "backgroundcolor": "#E5ECF6",
            "gridcolor": "white",
            "gridwidth": 2,
            "linecolor": "white",
            "showbackground": true,
            "ticks": "",
            "zerolinecolor": "white"
           },
           "zaxis": {
            "backgroundcolor": "#E5ECF6",
            "gridcolor": "white",
            "gridwidth": 2,
            "linecolor": "white",
            "showbackground": true,
            "ticks": "",
            "zerolinecolor": "white"
           }
          },
          "shapedefaults": {
           "line": {
            "color": "#2a3f5f"
           }
          },
          "ternary": {
           "aaxis": {
            "gridcolor": "white",
            "linecolor": "white",
            "ticks": ""
           },
           "baxis": {
            "gridcolor": "white",
            "linecolor": "white",
            "ticks": ""
           },
           "bgcolor": "#E5ECF6",
           "caxis": {
            "gridcolor": "white",
            "linecolor": "white",
            "ticks": ""
           }
          },
          "title": {
           "x": 0.05
          },
          "xaxis": {
           "automargin": true,
           "gridcolor": "white",
           "linecolor": "white",
           "ticks": "",
           "title": {
            "standoff": 15
           },
           "zerolinecolor": "white",
           "zerolinewidth": 2
          },
          "yaxis": {
           "automargin": true,
           "gridcolor": "white",
           "linecolor": "white",
           "ticks": "",
           "title": {
            "standoff": 15
           },
           "zerolinecolor": "white",
           "zerolinewidth": 2
          }
         }
        },
        "title": {
         "font": {
          "family": "Arial",
          "size": 18
         },
         "text": "Distribution of loan_amount"
        },
        "xaxis": {
         "anchor": "y",
         "domain": [
          0,
          1
         ],
         "title": {
          "text": "loan_amount"
         }
        },
        "yaxis": {
         "anchor": "x",
         "domain": [
          0,
          1
         ],
         "title": {
          "text": "Count"
         }
        }
       }
      }
     },
     "metadata": {},
     "output_type": "display_data"
    },
    {
     "data": {
      "application/vnd.plotly.v1+json": {
       "config": {
        "plotlyServerURL": "https://plot.ly"
       },
       "data": [
        {
         "bingroup": "x",
         "hovertemplate": "loan_term=%{x}<br>count=%{y}<extra></extra>",
         "legendgroup": "",
         "marker": {
          "color": "#636efa",
          "pattern": {
           "shape": ""
          }
         },
         "name": "",
         "orientation": "v",
         "showlegend": false,
         "type": "histogram",
         "x": {
          "bdata": "MBgkJCQkDAwwMCQ8JDAYMAwMPBgkJCQkJDAYJDAkDAwkGCQkJBg8DAwYJCQkPCQ8PDAYPDA8MDwYJCQwGDwkMAw8MBgwJBgwGDAYJAwwJDAMMDAkMDwwGAw8MBgYDCQ8DDAMDAwkMCQYGDw8GDw8JBgYGAwwGAwYMDw8MDwMPBgwGCQkDBgMGDwYDDAYMDwkPBg8PAw8MAwkMCQ8MCQwJDwMJDw8GDAMMAwkDDwkGDAwGDAMDDwMPCQ8MDA8DDAkDDwwPAw8DAwkPAwYDDAkDAwMDDAwJDA8PDAYJCQYPCQ8PDwwPDAYPDwkMDw8JCQ8GDwkDBg8MDwwMDwYJAwMPDwMDBgMPDA8JAwkJDAkMDw8MCQMGCQkDAw8PDwYJBgwDBgYJCQMMAwYJBgkDDwwGBgMDDwwGAwwPDA8GDwwGCQYGBgwDAwYMCQMJAwwPDAMMDwMJDwMGDwwDCQ8MAwwMDwwGDA8JDAkPBgkPCQ8MDw8DDwYJDAYPAwwPDwYMBgkGCQMJAwkPBgwMCQwGDwMDAwMGCQMGDAwMBgkDCQwDAwYDAwwGDw8DAw8DDA8DDAkJDA8JCQkDDwkJBg8PDwkDDw8JDA8JAw8JCQMMCQkDAwwDAwwDCQMPDAMMCQMGAwwJBgYPDwMGDwYGAwkPCQMGDAwJAwMJBgwGCQMMCQYMAw8MBg8GCQwJCQwDDwMDDA8DCQ8DDAYPDwMGDAMJDAkPBgkDDwkJDwMGAw8PAw8PBgMPDwkJDAkDDwYMCQkPDAkMDw8MAwwMCQwGCQkDDw8MDAwGAwwGBgkDDAMGDwMDAwYDAwkMDwkGDw8DDAkDBgkDDAMJBgkJBgkDCQkPBg8MAwYPAwMGAwkJDwkJCQYJCQYMCQkGDAMGDwMGAwMDDAMGDA8PDwwMBgkGAwMPDw8MDAwGBgkPCQ8MCQMMAwMGDAkDBgwMAwMPCQYJDA8JBgkPDAMDCQkMDw8PDA8JCQwJBg8MAwwDDwYPAw8GDwkGDAYGAwMGBg8DCQkPAwkGCQYGDAwGDwkMAwMPDwwDCQwGDA8GBgMDCQ8PDwwGCQkDDA=",
          "dtype": "i1"
         },
         "xaxis": "x",
         "yaxis": "y"
        }
       ],
       "layout": {
        "barmode": "relative",
        "legend": {
         "tracegroupgap": 0
        },
        "paper_bgcolor": "rgba(0,0,0,0)",
        "plot_bgcolor": "rgba(0,0,0,0)",
        "template": {
         "data": {
          "bar": [
           {
            "error_x": {
             "color": "#2a3f5f"
            },
            "error_y": {
             "color": "#2a3f5f"
            },
            "marker": {
             "line": {
              "color": "#E5ECF6",
              "width": 0.5
             },
             "pattern": {
              "fillmode": "overlay",
              "size": 10,
              "solidity": 0.2
             }
            },
            "type": "bar"
           }
          ],
          "barpolar": [
           {
            "marker": {
             "line": {
              "color": "#E5ECF6",
              "width": 0.5
             },
             "pattern": {
              "fillmode": "overlay",
              "size": 10,
              "solidity": 0.2
             }
            },
            "type": "barpolar"
           }
          ],
          "carpet": [
           {
            "aaxis": {
             "endlinecolor": "#2a3f5f",
             "gridcolor": "white",
             "linecolor": "white",
             "minorgridcolor": "white",
             "startlinecolor": "#2a3f5f"
            },
            "baxis": {
             "endlinecolor": "#2a3f5f",
             "gridcolor": "white",
             "linecolor": "white",
             "minorgridcolor": "white",
             "startlinecolor": "#2a3f5f"
            },
            "type": "carpet"
           }
          ],
          "choropleth": [
           {
            "colorbar": {
             "outlinewidth": 0,
             "ticks": ""
            },
            "type": "choropleth"
           }
          ],
          "contour": [
           {
            "colorbar": {
             "outlinewidth": 0,
             "ticks": ""
            },
            "colorscale": [
             [
              0,
              "#0d0887"
             ],
             [
              0.1111111111111111,
              "#46039f"
             ],
             [
              0.2222222222222222,
              "#7201a8"
             ],
             [
              0.3333333333333333,
              "#9c179e"
             ],
             [
              0.4444444444444444,
              "#bd3786"
             ],
             [
              0.5555555555555556,
              "#d8576b"
             ],
             [
              0.6666666666666666,
              "#ed7953"
             ],
             [
              0.7777777777777778,
              "#fb9f3a"
             ],
             [
              0.8888888888888888,
              "#fdca26"
             ],
             [
              1,
              "#f0f921"
             ]
            ],
            "type": "contour"
           }
          ],
          "contourcarpet": [
           {
            "colorbar": {
             "outlinewidth": 0,
             "ticks": ""
            },
            "type": "contourcarpet"
           }
          ],
          "heatmap": [
           {
            "colorbar": {
             "outlinewidth": 0,
             "ticks": ""
            },
            "colorscale": [
             [
              0,
              "#0d0887"
             ],
             [
              0.1111111111111111,
              "#46039f"
             ],
             [
              0.2222222222222222,
              "#7201a8"
             ],
             [
              0.3333333333333333,
              "#9c179e"
             ],
             [
              0.4444444444444444,
              "#bd3786"
             ],
             [
              0.5555555555555556,
              "#d8576b"
             ],
             [
              0.6666666666666666,
              "#ed7953"
             ],
             [
              0.7777777777777778,
              "#fb9f3a"
             ],
             [
              0.8888888888888888,
              "#fdca26"
             ],
             [
              1,
              "#f0f921"
             ]
            ],
            "type": "heatmap"
           }
          ],
          "histogram": [
           {
            "marker": {
             "pattern": {
              "fillmode": "overlay",
              "size": 10,
              "solidity": 0.2
             }
            },
            "type": "histogram"
           }
          ],
          "histogram2d": [
           {
            "colorbar": {
             "outlinewidth": 0,
             "ticks": ""
            },
            "colorscale": [
             [
              0,
              "#0d0887"
             ],
             [
              0.1111111111111111,
              "#46039f"
             ],
             [
              0.2222222222222222,
              "#7201a8"
             ],
             [
              0.3333333333333333,
              "#9c179e"
             ],
             [
              0.4444444444444444,
              "#bd3786"
             ],
             [
              0.5555555555555556,
              "#d8576b"
             ],
             [
              0.6666666666666666,
              "#ed7953"
             ],
             [
              0.7777777777777778,
              "#fb9f3a"
             ],
             [
              0.8888888888888888,
              "#fdca26"
             ],
             [
              1,
              "#f0f921"
             ]
            ],
            "type": "histogram2d"
           }
          ],
          "histogram2dcontour": [
           {
            "colorbar": {
             "outlinewidth": 0,
             "ticks": ""
            },
            "colorscale": [
             [
              0,
              "#0d0887"
             ],
             [
              0.1111111111111111,
              "#46039f"
             ],
             [
              0.2222222222222222,
              "#7201a8"
             ],
             [
              0.3333333333333333,
              "#9c179e"
             ],
             [
              0.4444444444444444,
              "#bd3786"
             ],
             [
              0.5555555555555556,
              "#d8576b"
             ],
             [
              0.6666666666666666,
              "#ed7953"
             ],
             [
              0.7777777777777778,
              "#fb9f3a"
             ],
             [
              0.8888888888888888,
              "#fdca26"
             ],
             [
              1,
              "#f0f921"
             ]
            ],
            "type": "histogram2dcontour"
           }
          ],
          "mesh3d": [
           {
            "colorbar": {
             "outlinewidth": 0,
             "ticks": ""
            },
            "type": "mesh3d"
           }
          ],
          "parcoords": [
           {
            "line": {
             "colorbar": {
              "outlinewidth": 0,
              "ticks": ""
             }
            },
            "type": "parcoords"
           }
          ],
          "pie": [
           {
            "automargin": true,
            "type": "pie"
           }
          ],
          "scatter": [
           {
            "fillpattern": {
             "fillmode": "overlay",
             "size": 10,
             "solidity": 0.2
            },
            "type": "scatter"
           }
          ],
          "scatter3d": [
           {
            "line": {
             "colorbar": {
              "outlinewidth": 0,
              "ticks": ""
             }
            },
            "marker": {
             "colorbar": {
              "outlinewidth": 0,
              "ticks": ""
             }
            },
            "type": "scatter3d"
           }
          ],
          "scattercarpet": [
           {
            "marker": {
             "colorbar": {
              "outlinewidth": 0,
              "ticks": ""
             }
            },
            "type": "scattercarpet"
           }
          ],
          "scattergeo": [
           {
            "marker": {
             "colorbar": {
              "outlinewidth": 0,
              "ticks": ""
             }
            },
            "type": "scattergeo"
           }
          ],
          "scattergl": [
           {
            "marker": {
             "colorbar": {
              "outlinewidth": 0,
              "ticks": ""
             }
            },
            "type": "scattergl"
           }
          ],
          "scattermap": [
           {
            "marker": {
             "colorbar": {
              "outlinewidth": 0,
              "ticks": ""
             }
            },
            "type": "scattermap"
           }
          ],
          "scattermapbox": [
           {
            "marker": {
             "colorbar": {
              "outlinewidth": 0,
              "ticks": ""
             }
            },
            "type": "scattermapbox"
           }
          ],
          "scatterpolar": [
           {
            "marker": {
             "colorbar": {
              "outlinewidth": 0,
              "ticks": ""
             }
            },
            "type": "scatterpolar"
           }
          ],
          "scatterpolargl": [
           {
            "marker": {
             "colorbar": {
              "outlinewidth": 0,
              "ticks": ""
             }
            },
            "type": "scatterpolargl"
           }
          ],
          "scatterternary": [
           {
            "marker": {
             "colorbar": {
              "outlinewidth": 0,
              "ticks": ""
             }
            },
            "type": "scatterternary"
           }
          ],
          "surface": [
           {
            "colorbar": {
             "outlinewidth": 0,
             "ticks": ""
            },
            "colorscale": [
             [
              0,
              "#0d0887"
             ],
             [
              0.1111111111111111,
              "#46039f"
             ],
             [
              0.2222222222222222,
              "#7201a8"
             ],
             [
              0.3333333333333333,
              "#9c179e"
             ],
             [
              0.4444444444444444,
              "#bd3786"
             ],
             [
              0.5555555555555556,
              "#d8576b"
             ],
             [
              0.6666666666666666,
              "#ed7953"
             ],
             [
              0.7777777777777778,
              "#fb9f3a"
             ],
             [
              0.8888888888888888,
              "#fdca26"
             ],
             [
              1,
              "#f0f921"
             ]
            ],
            "type": "surface"
           }
          ],
          "table": [
           {
            "cells": {
             "fill": {
              "color": "#EBF0F8"
             },
             "line": {
              "color": "white"
             }
            },
            "header": {
             "fill": {
              "color": "#C8D4E3"
             },
             "line": {
              "color": "white"
             }
            },
            "type": "table"
           }
          ]
         },
         "layout": {
          "annotationdefaults": {
           "arrowcolor": "#2a3f5f",
           "arrowhead": 0,
           "arrowwidth": 1
          },
          "autotypenumbers": "strict",
          "coloraxis": {
           "colorbar": {
            "outlinewidth": 0,
            "ticks": ""
           }
          },
          "colorscale": {
           "diverging": [
            [
             0,
             "#8e0152"
            ],
            [
             0.1,
             "#c51b7d"
            ],
            [
             0.2,
             "#de77ae"
            ],
            [
             0.3,
             "#f1b6da"
            ],
            [
             0.4,
             "#fde0ef"
            ],
            [
             0.5,
             "#f7f7f7"
            ],
            [
             0.6,
             "#e6f5d0"
            ],
            [
             0.7,
             "#b8e186"
            ],
            [
             0.8,
             "#7fbc41"
            ],
            [
             0.9,
             "#4d9221"
            ],
            [
             1,
             "#276419"
            ]
           ],
           "sequential": [
            [
             0,
             "#0d0887"
            ],
            [
             0.1111111111111111,
             "#46039f"
            ],
            [
             0.2222222222222222,
             "#7201a8"
            ],
            [
             0.3333333333333333,
             "#9c179e"
            ],
            [
             0.4444444444444444,
             "#bd3786"
            ],
            [
             0.5555555555555556,
             "#d8576b"
            ],
            [
             0.6666666666666666,
             "#ed7953"
            ],
            [
             0.7777777777777778,
             "#fb9f3a"
            ],
            [
             0.8888888888888888,
             "#fdca26"
            ],
            [
             1,
             "#f0f921"
            ]
           ],
           "sequentialminus": [
            [
             0,
             "#0d0887"
            ],
            [
             0.1111111111111111,
             "#46039f"
            ],
            [
             0.2222222222222222,
             "#7201a8"
            ],
            [
             0.3333333333333333,
             "#9c179e"
            ],
            [
             0.4444444444444444,
             "#bd3786"
            ],
            [
             0.5555555555555556,
             "#d8576b"
            ],
            [
             0.6666666666666666,
             "#ed7953"
            ],
            [
             0.7777777777777778,
             "#fb9f3a"
            ],
            [
             0.8888888888888888,
             "#fdca26"
            ],
            [
             1,
             "#f0f921"
            ]
           ]
          },
          "colorway": [
           "#636efa",
           "#EF553B",
           "#00cc96",
           "#ab63fa",
           "#FFA15A",
           "#19d3f3",
           "#FF6692",
           "#B6E880",
           "#FF97FF",
           "#FECB52"
          ],
          "font": {
           "color": "#2a3f5f"
          },
          "geo": {
           "bgcolor": "white",
           "lakecolor": "white",
           "landcolor": "#E5ECF6",
           "showlakes": true,
           "showland": true,
           "subunitcolor": "white"
          },
          "hoverlabel": {
           "align": "left"
          },
          "hovermode": "closest",
          "mapbox": {
           "style": "light"
          },
          "paper_bgcolor": "white",
          "plot_bgcolor": "#E5ECF6",
          "polar": {
           "angularaxis": {
            "gridcolor": "white",
            "linecolor": "white",
            "ticks": ""
           },
           "bgcolor": "#E5ECF6",
           "radialaxis": {
            "gridcolor": "white",
            "linecolor": "white",
            "ticks": ""
           }
          },
          "scene": {
           "xaxis": {
            "backgroundcolor": "#E5ECF6",
            "gridcolor": "white",
            "gridwidth": 2,
            "linecolor": "white",
            "showbackground": true,
            "ticks": "",
            "zerolinecolor": "white"
           },
           "yaxis": {
            "backgroundcolor": "#E5ECF6",
            "gridcolor": "white",
            "gridwidth": 2,
            "linecolor": "white",
            "showbackground": true,
            "ticks": "",
            "zerolinecolor": "white"
           },
           "zaxis": {
            "backgroundcolor": "#E5ECF6",
            "gridcolor": "white",
            "gridwidth": 2,
            "linecolor": "white",
            "showbackground": true,
            "ticks": "",
            "zerolinecolor": "white"
           }
          },
          "shapedefaults": {
           "line": {
            "color": "#2a3f5f"
           }
          },
          "ternary": {
           "aaxis": {
            "gridcolor": "white",
            "linecolor": "white",
            "ticks": ""
           },
           "baxis": {
            "gridcolor": "white",
            "linecolor": "white",
            "ticks": ""
           },
           "bgcolor": "#E5ECF6",
           "caxis": {
            "gridcolor": "white",
            "linecolor": "white",
            "ticks": ""
           }
          },
          "title": {
           "x": 0.05
          },
          "xaxis": {
           "automargin": true,
           "gridcolor": "white",
           "linecolor": "white",
           "ticks": "",
           "title": {
            "standoff": 15
           },
           "zerolinecolor": "white",
           "zerolinewidth": 2
          },
          "yaxis": {
           "automargin": true,
           "gridcolor": "white",
           "linecolor": "white",
           "ticks": "",
           "title": {
            "standoff": 15
           },
           "zerolinecolor": "white",
           "zerolinewidth": 2
          }
         }
        },
        "title": {
         "font": {
          "family": "Arial",
          "size": 18
         },
         "text": "Distribution of loan_term"
        },
        "xaxis": {
         "anchor": "y",
         "domain": [
          0,
          1
         ],
         "title": {
          "text": "loan_term"
         }
        },
        "yaxis": {
         "anchor": "x",
         "domain": [
          0,
          1
         ],
         "title": {
          "text": "Count"
         }
        }
       }
      }
     },
     "metadata": {},
     "output_type": "display_data"
    },
    {
     "data": {
      "application/vnd.plotly.v1+json": {
       "config": {
        "plotlyServerURL": "https://plot.ly"
       },
       "data": [
        {
         "bingroup": "x",
         "hovertemplate": "interest_rate=%{x}<br>count=%{y}<extra></extra>",
         "legendgroup": "",
         "marker": {
          "color": "#636efa",
          "pattern": {
           "shape": ""
          }
         },
         "name": "",
         "orientation": "v",
         "showlegend": false,
         "type": "histogram",
         "x": {
          "bdata": "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",
          "dtype": "f8"
         },
         "xaxis": "x",
         "yaxis": "y"
        }
       ],
       "layout": {
        "barmode": "relative",
        "legend": {
         "tracegroupgap": 0
        },
        "paper_bgcolor": "rgba(0,0,0,0)",
        "plot_bgcolor": "rgba(0,0,0,0)",
        "template": {
         "data": {
          "bar": [
           {
            "error_x": {
             "color": "#2a3f5f"
            },
            "error_y": {
             "color": "#2a3f5f"
            },
            "marker": {
             "line": {
              "color": "#E5ECF6",
              "width": 0.5
             },
             "pattern": {
              "fillmode": "overlay",
              "size": 10,
              "solidity": 0.2
             }
            },
            "type": "bar"
           }
          ],
          "barpolar": [
           {
            "marker": {
             "line": {
              "color": "#E5ECF6",
              "width": 0.5
             },
             "pattern": {
              "fillmode": "overlay",
              "size": 10,
              "solidity": 0.2
             }
            },
            "type": "barpolar"
           }
          ],
          "carpet": [
           {
            "aaxis": {
             "endlinecolor": "#2a3f5f",
             "gridcolor": "white",
             "linecolor": "white",
             "minorgridcolor": "white",
             "startlinecolor": "#2a3f5f"
            },
            "baxis": {
             "endlinecolor": "#2a3f5f",
             "gridcolor": "white",
             "linecolor": "white",
             "minorgridcolor": "white",
             "startlinecolor": "#2a3f5f"
            },
            "type": "carpet"
           }
          ],
          "choropleth": [
           {
            "colorbar": {
             "outlinewidth": 0,
             "ticks": ""
            },
            "type": "choropleth"
           }
          ],
          "contour": [
           {
            "colorbar": {
             "outlinewidth": 0,
             "ticks": ""
            },
            "colorscale": [
             [
              0,
              "#0d0887"
             ],
             [
              0.1111111111111111,
              "#46039f"
             ],
             [
              0.2222222222222222,
              "#7201a8"
             ],
             [
              0.3333333333333333,
              "#9c179e"
             ],
             [
              0.4444444444444444,
              "#bd3786"
             ],
             [
              0.5555555555555556,
              "#d8576b"
             ],
             [
              0.6666666666666666,
              "#ed7953"
             ],
             [
              0.7777777777777778,
              "#fb9f3a"
             ],
             [
              0.8888888888888888,
              "#fdca26"
             ],
             [
              1,
              "#f0f921"
             ]
            ],
            "type": "contour"
           }
          ],
          "contourcarpet": [
           {
            "colorbar": {
             "outlinewidth": 0,
             "ticks": ""
            },
            "type": "contourcarpet"
           }
          ],
          "heatmap": [
           {
            "colorbar": {
             "outlinewidth": 0,
             "ticks": ""
            },
            "colorscale": [
             [
              0,
              "#0d0887"
             ],
             [
              0.1111111111111111,
              "#46039f"
             ],
             [
              0.2222222222222222,
              "#7201a8"
             ],
             [
              0.3333333333333333,
              "#9c179e"
             ],
             [
              0.4444444444444444,
              "#bd3786"
             ],
             [
              0.5555555555555556,
              "#d8576b"
             ],
             [
              0.6666666666666666,
              "#ed7953"
             ],
             [
              0.7777777777777778,
              "#fb9f3a"
             ],
             [
              0.8888888888888888,
              "#fdca26"
             ],
             [
              1,
              "#f0f921"
             ]
            ],
            "type": "heatmap"
           }
          ],
          "histogram": [
           {
            "marker": {
             "pattern": {
              "fillmode": "overlay",
              "size": 10,
              "solidity": 0.2
             }
            },
            "type": "histogram"
           }
          ],
          "histogram2d": [
           {
            "colorbar": {
             "outlinewidth": 0,
             "ticks": ""
            },
            "colorscale": [
             [
              0,
              "#0d0887"
             ],
             [
              0.1111111111111111,
              "#46039f"
             ],
             [
              0.2222222222222222,
              "#7201a8"
             ],
             [
              0.3333333333333333,
              "#9c179e"
             ],
             [
              0.4444444444444444,
              "#bd3786"
             ],
             [
              0.5555555555555556,
              "#d8576b"
             ],
             [
              0.6666666666666666,
              "#ed7953"
             ],
             [
              0.7777777777777778,
              "#fb9f3a"
             ],
             [
              0.8888888888888888,
              "#fdca26"
             ],
             [
              1,
              "#f0f921"
             ]
            ],
            "type": "histogram2d"
           }
          ],
          "histogram2dcontour": [
           {
            "colorbar": {
             "outlinewidth": 0,
             "ticks": ""
            },
            "colorscale": [
             [
              0,
              "#0d0887"
             ],
             [
              0.1111111111111111,
              "#46039f"
             ],
             [
              0.2222222222222222,
              "#7201a8"
             ],
             [
              0.3333333333333333,
              "#9c179e"
             ],
             [
              0.4444444444444444,
              "#bd3786"
             ],
             [
              0.5555555555555556,
              "#d8576b"
             ],
             [
              0.6666666666666666,
              "#ed7953"
             ],
             [
              0.7777777777777778,
              "#fb9f3a"
             ],
             [
              0.8888888888888888,
              "#fdca26"
             ],
             [
              1,
              "#f0f921"
             ]
            ],
            "type": "histogram2dcontour"
           }
          ],
          "mesh3d": [
           {
            "colorbar": {
             "outlinewidth": 0,
             "ticks": ""
            },
            "type": "mesh3d"
           }
          ],
          "parcoords": [
           {
            "line": {
             "colorbar": {
              "outlinewidth": 0,
              "ticks": ""
             }
            },
            "type": "parcoords"
           }
          ],
          "pie": [
           {
            "automargin": true,
            "type": "pie"
           }
          ],
          "scatter": [
           {
            "fillpattern": {
             "fillmode": "overlay",
             "size": 10,
             "solidity": 0.2
            },
            "type": "scatter"
           }
          ],
          "scatter3d": [
           {
            "line": {
             "colorbar": {
              "outlinewidth": 0,
              "ticks": ""
             }
            },
            "marker": {
             "colorbar": {
              "outlinewidth": 0,
              "ticks": ""
             }
            },
            "type": "scatter3d"
           }
          ],
          "scattercarpet": [
           {
            "marker": {
             "colorbar": {
              "outlinewidth": 0,
              "ticks": ""
             }
            },
            "type": "scattercarpet"
           }
          ],
          "scattergeo": [
           {
            "marker": {
             "colorbar": {
              "outlinewidth": 0,
              "ticks": ""
             }
            },
            "type": "scattergeo"
           }
          ],
          "scattergl": [
           {
            "marker": {
             "colorbar": {
              "outlinewidth": 0,
              "ticks": ""
             }
            },
            "type": "scattergl"
           }
          ],
          "scattermap": [
           {
            "marker": {
             "colorbar": {
              "outlinewidth": 0,
              "ticks": ""
             }
            },
            "type": "scattermap"
           }
          ],
          "scattermapbox": [
           {
            "marker": {
             "colorbar": {
              "outlinewidth": 0,
              "ticks": ""
             }
            },
            "type": "scattermapbox"
           }
          ],
          "scatterpolar": [
           {
            "marker": {
             "colorbar": {
              "outlinewidth": 0,
              "ticks": ""
             }
            },
            "type": "scatterpolar"
           }
          ],
          "scatterpolargl": [
           {
            "marker": {
             "colorbar": {
              "outlinewidth": 0,
              "ticks": ""
             }
            },
            "type": "scatterpolargl"
           }
          ],
          "scatterternary": [
           {
            "marker": {
             "colorbar": {
              "outlinewidth": 0,
              "ticks": ""
             }
            },
            "type": "scatterternary"
           }
          ],
          "surface": [
           {
            "colorbar": {
             "outlinewidth": 0,
             "ticks": ""
            },
            "colorscale": [
             [
              0,
              "#0d0887"
             ],
             [
              0.1111111111111111,
              "#46039f"
             ],
             [
              0.2222222222222222,
              "#7201a8"
             ],
             [
              0.3333333333333333,
              "#9c179e"
             ],
             [
              0.4444444444444444,
              "#bd3786"
             ],
             [
              0.5555555555555556,
              "#d8576b"
             ],
             [
              0.6666666666666666,
              "#ed7953"
             ],
             [
              0.7777777777777778,
              "#fb9f3a"
             ],
             [
              0.8888888888888888,
              "#fdca26"
             ],
             [
              1,
              "#f0f921"
             ]
            ],
            "type": "surface"
           }
          ],
          "table": [
           {
            "cells": {
             "fill": {
              "color": "#EBF0F8"
             },
             "line": {
              "color": "white"
             }
            },
            "header": {
             "fill": {
              "color": "#C8D4E3"
             },
             "line": {
              "color": "white"
             }
            },
            "type": "table"
           }
          ]
         },
         "layout": {
          "annotationdefaults": {
           "arrowcolor": "#2a3f5f",
           "arrowhead": 0,
           "arrowwidth": 1
          },
          "autotypenumbers": "strict",
          "coloraxis": {
           "colorbar": {
            "outlinewidth": 0,
            "ticks": ""
           }
          },
          "colorscale": {
           "diverging": [
            [
             0,
             "#8e0152"
            ],
            [
             0.1,
             "#c51b7d"
            ],
            [
             0.2,
             "#de77ae"
            ],
            [
             0.3,
             "#f1b6da"
            ],
            [
             0.4,
             "#fde0ef"
            ],
            [
             0.5,
             "#f7f7f7"
            ],
            [
             0.6,
             "#e6f5d0"
            ],
            [
             0.7,
             "#b8e186"
            ],
            [
             0.8,
             "#7fbc41"
            ],
            [
             0.9,
             "#4d9221"
            ],
            [
             1,
             "#276419"
            ]
           ],
           "sequential": [
            [
             0,
             "#0d0887"
            ],
            [
             0.1111111111111111,
             "#46039f"
            ],
            [
             0.2222222222222222,
             "#7201a8"
            ],
            [
             0.3333333333333333,
             "#9c179e"
            ],
            [
             0.4444444444444444,
             "#bd3786"
            ],
            [
             0.5555555555555556,
             "#d8576b"
            ],
            [
             0.6666666666666666,
             "#ed7953"
            ],
            [
             0.7777777777777778,
             "#fb9f3a"
            ],
            [
             0.8888888888888888,
             "#fdca26"
            ],
            [
             1,
             "#f0f921"
            ]
           ],
           "sequentialminus": [
            [
             0,
             "#0d0887"
            ],
            [
             0.1111111111111111,
             "#46039f"
            ],
            [
             0.2222222222222222,
             "#7201a8"
            ],
            [
             0.3333333333333333,
             "#9c179e"
            ],
            [
             0.4444444444444444,
             "#bd3786"
            ],
            [
             0.5555555555555556,
             "#d8576b"
            ],
            [
             0.6666666666666666,
             "#ed7953"
            ],
            [
             0.7777777777777778,
             "#fb9f3a"
            ],
            [
             0.8888888888888888,
             "#fdca26"
            ],
            [
             1,
             "#f0f921"
            ]
           ]
          },
          "colorway": [
           "#636efa",
           "#EF553B",
           "#00cc96",
           "#ab63fa",
           "#FFA15A",
           "#19d3f3",
           "#FF6692",
           "#B6E880",
           "#FF97FF",
           "#FECB52"
          ],
          "font": {
           "color": "#2a3f5f"
          },
          "geo": {
           "bgcolor": "white",
           "lakecolor": "white",
           "landcolor": "#E5ECF6",
           "showlakes": true,
           "showland": true,
           "subunitcolor": "white"
          },
          "hoverlabel": {
           "align": "left"
          },
          "hovermode": "closest",
          "mapbox": {
           "style": "light"
          },
          "paper_bgcolor": "white",
          "plot_bgcolor": "#E5ECF6",
          "polar": {
           "angularaxis": {
            "gridcolor": "white",
            "linecolor": "white",
            "ticks": ""
           },
           "bgcolor": "#E5ECF6",
           "radialaxis": {
            "gridcolor": "white",
            "linecolor": "white",
            "ticks": ""
           }
          },
          "scene": {
           "xaxis": {
            "backgroundcolor": "#E5ECF6",
            "gridcolor": "white",
            "gridwidth": 2,
            "linecolor": "white",
            "showbackground": true,
            "ticks": "",
            "zerolinecolor": "white"
           },
           "yaxis": {
            "backgroundcolor": "#E5ECF6",
            "gridcolor": "white",
            "gridwidth": 2,
            "linecolor": "white",
            "showbackground": true,
            "ticks": "",
            "zerolinecolor": "white"
           },
           "zaxis": {
            "backgroundcolor": "#E5ECF6",
            "gridcolor": "white",
            "gridwidth": 2,
            "linecolor": "white",
            "showbackground": true,
            "ticks": "",
            "zerolinecolor": "white"
           }
          },
          "shapedefaults": {
           "line": {
            "color": "#2a3f5f"
           }
          },
          "ternary": {
           "aaxis": {
            "gridcolor": "white",
            "linecolor": "white",
            "ticks": ""
           },
           "baxis": {
            "gridcolor": "white",
            "linecolor": "white",
            "ticks": ""
           },
           "bgcolor": "#E5ECF6",
           "caxis": {
            "gridcolor": "white",
            "linecolor": "white",
            "ticks": ""
           }
          },
          "title": {
           "x": 0.05
          },
          "xaxis": {
           "automargin": true,
           "gridcolor": "white",
           "linecolor": "white",
           "ticks": "",
           "title": {
            "standoff": 15
           },
           "zerolinecolor": "white",
           "zerolinewidth": 2
          },
          "yaxis": {
           "automargin": true,
           "gridcolor": "white",
           "linecolor": "white",
           "ticks": "",
           "title": {
            "standoff": 15
           },
           "zerolinecolor": "white",
           "zerolinewidth": 2
          }
         }
        },
        "title": {
         "font": {
          "family": "Arial",
          "size": 18
         },
         "text": "Distribution of interest_rate"
        },
        "xaxis": {
         "anchor": "y",
         "domain": [
          0,
          1
         ],
         "title": {
          "text": "interest_rate"
         }
        },
        "yaxis": {
         "anchor": "x",
         "domain": [
          0,
          1
         ],
         "title": {
          "text": "Count"
         }
        }
       }
      }
     },
     "metadata": {},
     "output_type": "display_data"
    },
    {
     "data": {
      "application/vnd.plotly.v1+json": {
       "config": {
        "plotlyServerURL": "https://plot.ly"
       },
       "data": [
        {
         "bingroup": "x",
         "hovertemplate": "debt_to_income_ratio=%{x}<br>count=%{y}<extra></extra>",
         "legendgroup": "",
         "marker": {
          "color": "#636efa",
          "pattern": {
           "shape": ""
          }
         },
         "name": "",
         "orientation": "v",
         "showlegend": false,
         "type": "histogram",
         "x": {
          "bdata": "hetRuB6lRUCF61G4HgUmQK5H4XoUjkJAUrgeheuxQEB7FK5H4RpHQD0K16Nw/UFAuB6F61FYR0AK16NwPUpFQD0K16NwPTFAzczMzMyMRUC4HoXrUbhGQKRwPQrXIz1AhetRuB4FQUBmZmZmZqYzQOxRuB6F60VAmpmZmZlZMkCuR+F6FK42QAAAAAAAAEZAexSuR+FaR0ApXI/C9WhDQBSuR+F69EhAuB6F61G4OUCamZmZmZk8QHE9CtejcEBAzczMzMxML0DXo3A9CtcuQDMzMzMzM0FACtejcD3KR0CuR+F6FK4xQHE9CtejMDhAmpmZmZnZNUBSuB6F69FHQAAAAAAAAD1AH4XrUbj+Q0C4HoXrUVhFQLgehetR+DJAhetRuB6lQkBmZmZmZqYwQOF6FK5HoUVA7FG4HoULQEDD9Shcj0IzQArXo3A9CiVA16NwPQrXOUBmZmZmZqY3QFK4HoXrETxAw/UoXI/CNUAzMzMzM7MpQMP1KFyPwkNAhetRuB7FSEAUrkfhelREQJqZmZmZ2UhAuB6F61H4RUAAAAAAAGBDQHE9CtejsDlA4XoUrkehQUApXI/C9QhBQKRwPQrXI0dA4XoUrkfhL0AAAAAAAIAzQEjhehSuh0dA16NwPQrXR0AfhetRuJ46QMP1KFyPAkZArkfhehTuPUAzMzMzM5NFQLgehetR+DFAzczMzMwMRUAUrkfhepQuQKRwPQrXo0RA16NwPQqXO0Bcj8L1KJxFQHE9Ctej8EVAw/UoXI9COUCamZmZmdkxQMP1KFyPYkJAexSuR+F6QEAUrkfhehQ6QNejcD0KVzxAAAAAAACAKkC4HoXrUTg7QIXrUbgehSpA7FG4HoWrOUBSuB6F6xFEQNejcD0K1zlAMzMzMzPzP0DsUbgehWtCQBSuR+F6FDVAXI/C9SjcLUAUrkfhehQ3QJqZmZmZWT1A7FG4HoXrNUAfhetRuB4nQGZmZmZmpkVA16NwPQqXPUDhehSuR4FGQBSuR+F6FDFAuB6F61G4N0B7FK5H4To+QArXo3A9CihArkfhehROSECamZmZmVlAQGZmZmZmpj9AMzMzMzNzR0ApXI/C9eg5QPYoXI/CtTBAexSuR+F6JEBI4XoUrudAQMP1KFyPQkdAzczMzMysRkCamZmZmdkxQFyPwvUoPEVAH4XrUbjePEAfhetRuN4zQFK4HoXrkTFAKVyPwvUoLkAK16NwPcpIQHsUrkfhOjZAexSuR+G6QEDhehSuR6FBQDMzMzMzMzlAzczMzMxsQkC4HoXrUTgmQD0K16NwPT5AKVyPwvXoQUC4HoXrUdhDQDMzMzMzMy9AKVyPwvUoR0AAAAAAAAA4QHE9CtejcDxAAAAAAADAMkDXo3A9Clc5QNejcD0KlzpAAAAAAAAALUBxPQrXo7BHQDMzMzMzs0VA7FG4HoXrKED2KFyPwvU/QDMzMzMzczRAexSuR+G6OUBI4XoUrmdAQClcj8L1KDFAmpmZmZkZQUDhehSuRwFHQClcj8L1KDtAH4XrUbgeOEC4HoXrUXg5QIXrUbgehSRArkfhehSOQUAUrkfhepQ1QKRwPQrXozZAXI/C9Sg8QkB7FK5H4ZpDQBSuR+F69EdAMzMzMzNzOkAAAAAAACBEQOF6FK5HgUFA9ihcj8L1KEAUrkfhelQ9QIXrUbgehTdAXI/C9SicPEC4HoXrUXg+QDMzMzMz8zFAexSuR+F6LkA9CtejcL0+QKRwPQrXozdACtejcD0KO0AK16NwPcoyQB+F61G4XkdAZmZmZmamMkBcj8L1KJwxQHsUrkfhujVAexSuR+G6RUBmZmZmZqY3QLgehetR2ERACtejcD3KOkC4HoXrUTg+QDMzMzMz80RA9ihcj8J1QkAK16NwPSpFQArXo3A9ij9Aw/UoXI8CQ0CamZmZmRklQMP1KFyP4khAZmZmZmamQUAfhetRuL5IQAAAAAAAADZAcT0K16OQQEBxPQrXo/BDQJqZmZmZWTtAhetRuB4FJEAzMzMzM5NDQM3MzMzMDERA16NwPQoXNEDXo3A9CtdIQIXrUbgeBStA16NwPQpXOkBSuB6F69EyQKRwPQrXoydASOF6FK5nRUCamZmZmRlFQPYoXI/CFUdAKVyPwvVoN0AzMzMzM3M0QFK4HoXrEUBArkfhehQuRkDXo3A9CtdDQOxRuB6F60JAj8L1KFwPRUAUrkfhejREQOF6FK5HoTpAmpmZmZlZMEAUrkfhepQuQHsUrkfhekNAZmZmZmZmRUAAAAAAACBDQPYoXI/CFUFAexSuR+E6RkBmZmZmZqY1QNejcD0Kl0ZAzczMzMzMMEApXI/C9eg5QHE9CtejcCxAUrgehevRKUDNzMzMzMwlQI/C9Shcj0ZAuB6F61E4OkAAAAAAAEAwQFK4HoXr8UJA9ihcj8KVQ0AzMzMzMzNFQI/C9ShcjyhAUrgehevRR0DsUbgehWsqQGZmZmZmZi9AmpmZmZmZMUAK16NwPapAQM3MzMzMrEFAZmZmZmamPkApXI/C9ehBQAAAAAAAQDRAuB6F61F4RkBxPQrXo/BAQMP1KFyPwkNAZmZmZmYGREBI4XoUroc9QMP1KFyPQjZA9ihcj8LVQkDsUbgehetHQM3MzMzMLEVAZmZmZmbmR0CPwvUoXA87QEjhehSuxz9Aw/UoXI/CQECF61G4HgVBQNejcD0KV0FAcT0K16NQSEDXo3A9Chc5QIXrUbgeJUZAw/UoXI/CJUBxPQrXo/A+QFyPwvUofEVAj8L1KFxPRkCamZmZmflEQOF6FK5HYT9AXI/C9SjcJ0DNzMzMzEwlQLgehetROCxASOF6FK6HMEA9CtejcL06QArXo3A9SjlAw/UoXI/CKECkcD0K12NBQMP1KFyPwjxAUrgehetRRkAK16NwPYpAQFyPwvUoPEVAH4XrUbjeMUBI4XoUrscsQMP1KFyPQkJAw/UoXI8COkC4HoXrUZhGQJqZmZmZGTtAzczMzMxMJkC4HoXrURhAQGZmZmZmZjJAMzMzMzOzPUCamZmZmRkoQMP1KFyPgjBA9ihcj8J1L0AfhetRuF43QDMzMzMzszBA4XoUrkdhQkAUrkfhetQxQEjhehSux0JAKVyPwvXIRUAUrkfhehQkQLgehetR2EVA7FG4HoWrO0CPwvUoXI81QHsUrkfhOjBAexSuR+F6NkAUrkfhetQ1QB+F61G4/kRAhetRuB6FKUCPwvUoXE8zQBSuR+F6FEBAzczMzMwMSEA9CtejcD05QHsUrkfhOjJApHA9CtdDQkDhehSuR+EqQEjhehSuR0BAcT0K16NwRkDD9Shcj0I2QMP1KFyPokBAmpmZmZn5QUCF61G4HkU/QOF6FK5H4TRAj8L1KFyPPUBxPQrXozBDQJqZmZmZmUFAw/UoXI+CRkCPwvUoXA8lQNejcD0KVypAmpmZmZl5QEBI4XoUroc1QDMzMzMzszpArkfhehQuNECkcD0K1yM2QDMzMzMzczpAFK5H4XrUR0AzMzMzMzMzQClcj8L1KERA4XoUrkehNkBSuB6F69E2QEjhehSuJ0BA16NwPQrXNUDhehSuR+E5QDMzMzMz8zNArkfhehQuKkDhehSuRyFAQPYoXI/C9UZAUrgeheuRQECamZmZmdlIQJqZmZmZeUJAuB6F61F4OUBSuB6F69EuQArXo3A9CiRAj8L1KFyPMkAK16NwPQo1QPYoXI/ClUhAXI/C9SicNkCamZmZmRlDQLgehetRmEJApHA9CtdjRECkcD0K12M3QD0K16NwnUBA16NwPQoXNEBI4XoUrsc5QHE9CtejcCpASOF6FK5HLEDNzMzMzMw5QFK4HoXrETlAXI/C9SjcJEDhehSuR8FBQOxRuB6F60dAw/UoXI9CN0ApXI/C9ShCQHE9CtejUEBA4XoUrkfhOEDhehSuR6FBQOF6FK5HgUBAMzMzMzPzN0Bcj8L1KBxFQFK4HoXrkUVAAAAAAACAOEAzMzMzM5NHQMP1KFyPIkhAcT0K16OwRECuR+F6FG46QNejcD0KF0hAmpmZmZl5SEAUrkfhelQ9QNejcD0K1yxAZmZmZmbGSECuR+F6FG5AQHsUrkfhmkRAAAAAAACAQkAK16NwPWpGQLgehetRmEJAj8L1KFwPJkDXo3A9ClczQJqZmZmZGTZApHA9CtfjOkBSuB6F6zFGQGZmZmZmRkJACtejcD0KQ0CamZmZmblGQFyPwvUoPEZA4XoUrkehO0CkcD0K18NAQB+F61G4XkRAmpmZmZkZPUD2KFyPwrVAQAAAAAAAIEhAFK5H4XpUR0DD9Shcj8IuQBSuR+F6FC5AFK5H4XrUMkAUrkfhepRCQLgehetRuDJAUrgeheuRN0DD9Shcj8I6QDMzMzMzk0VAj8L1KFxPOkBmZmZmZiY3QDMzMzMz8zpAXI/C9Sj8R0BSuB6F6xE4QOF6FK5HYTdAw/UoXI+CQUCPwvUoXM9GQHE9CtejMEdAFK5H4Xr0QkC4HoXrUTgnQK5H4XoU7khAMzMzMzNzMEAzMzMzM/NAQPYoXI/CdShApHA9CtejLkCPwvUoXE82QOF6FK5H4T9ArkfhehSuJUBxPQrXo/BCQClcj8L1aDZASOF6FK6nQEA9CtejcP0/QLgehetReDBA16NwPQrXK0Bcj8L1KNwtQNejcD0KFzFAXI/C9SgcOkAAAAAAAIA3QFyPwvUoHDdAw/UoXI8CSEDhehSuR+ErQFK4HoXrMURApHA9CtejKUB7FK5H4bowQFK4HoXr0ShAH4XrUbj+QUAK16NwPco/QFK4HoXrsUdAFK5H4XpURkAK16NwPQpIQHsUrkfhejFAAAAAAADANEDNzMzMzIw3QDMzMzMzMytAAAAAAADARkA9CtejcP0wQMP1KFyPgkJA4XoUrkfhREAzMzMzM7NEQK5H4XoUTkRAAAAAAABARUA9CtejcD1FQNejcD0Kl0RAmpmZmZkZKEDXo3A9ChcyQFyPwvUo3ClAj8L1KFxPQUBmZmZmZmYpQK5H4XoUzkJAuB6F61H4NkBxPQrXo/AvQK5H4XoU7j9ApHA9CtejP0BI4XoUrscvQEjhehSuJ0hAUrgehesROUDsUbgehes1QArXo3A9CkRAKVyPwvUoJ0CuR+F6FG48QAAAAAAAADxAFK5H4XpUOECPwvUoXC9HQKRwPQrXoyxAexSuR+F6MECPwvUoXE8+QHE9Ctej0EZAMzMzMzMzRECuR+F6FO41QNejcD0KFzhAmpmZmZlZM0A9CtejcH01QHE9CtejsEBAFK5H4XpUQkCPwvUoXA87QM3MzMzMbEFAhetRuB5FMkA9CtejcB1IQM3MzMzMjD5ACtejcD2KOkDhehSuR6EzQNejcD0KVzRAhetRuB6FKkD2KFyPwpVGQIXrUbgeBUVAhetRuB7FOEBSuB6F65E3QArXo3A96kBArkfhehRuOkCPwvUoXA86QHE9Ctej8DZAZmZmZmamQkDNzMzMzGxFQHE9Ctej8EhASOF6FK5HN0AfhetRuN4/QBSuR+F6lENASOF6FK5nQ0ApXI/C9QhDQD0K16NwfTpAuB6F61H4QEBxPQrXoxBBQB+F61G43kBAw/UoXI9COECF61G4HoUnQOF6FK5HYTVAZmZmZmZmKkD2KFyPwjUxQOxRuB6F60BAw/UoXI/CR0CF61G4HoVGQK5H4XoULidAuB6F61HYQkCPwvUoXG9CQClcj8L1KEhACtejcD2KLUDhehSuR2EoQKRwPQrXIy9AzczMzMyMNkAUrkfhehQxQK5H4XoULj5APQrXo3A9OEBI4XoUrudAQI/C9Shcj0RASOF6FK5HOUAAAAAAAIA2QGZmZmZmZjBAUrgehetRPEDNzMzMzAxHQB+F61G4nkZAXI/C9SgcOkApXI/C9chCQI/C9ShcjyRAKVyPwvXoQUBcj8L1KPxEQB+F61G4HjRA7FG4HoUrRkBcj8L1KJw2QB+F61G4XjVAw/UoXI+iR0A9CtejcL0vQFK4HoXrMUVAexSuR+E6SEApXI/C9eg1QClcj8L1qC5AAAAAAACAPkCF61G4HgU+QGZmZmZmRkVAhetRuB7FNED2KFyPwhVBQDMzMzMzsyxAcT0K16NwPkDsUbgehatEQI/C9ShcjyhAmpmZmZmZRkBI4XoUrodIQHE9CtejUERAmpmZmZk5R0BmZmZmZqZIQFyPwvUoXChAKVyPwvXoSECF61G4HoVHQLgehetR2EhAMzMzMzOTQ0CPwvUoXE87QNejcD0K10JAAAAAAACAQEAfhetRuD5EQHsUrkfhekVArkfhehSuL0AAAAAAAAA+QLgehetROCpAexSuR+E6RkBI4XoUrudDQArXo3A9qkRA7FG4HoXrJUAUrkfhetRDQHE9CtejcEBAmpmZmZmZMUDsUbgehYtIQHsUrkfhmkNAAAAAAADAMEBI4XoUrkdAQJqZmZmZWT1AH4XrUbieK0BmZmZmZuZCQIXrUbgeBT9AcT0K16PwRkAzMzMzMxNIQOF6FK5H4TNAzczMzMzMLUBxPQrXo3AqQMP1KFyPgkRA9ihcj8I1N0DD9ShcjwJAQBSuR+F6dEZAUrgehevRPkBxPQrXozA7QIXrUbgehTZA16NwPQpXJECamZmZmdk9QPYoXI/C9TRAZmZmZmYGRkBmZmZmZoZFQM3MzMzMTChAhetRuB6FRUAK16NwPepIQDMzMzMzs0FAmpmZmZmZNkAfhetRuF5GQArXo3A9akdAPQrXo3B9NkApXI/C9SgyQHE9Ctej8CdApHA9CteDSEApXI/C9aguQEjhehSuxydAexSuR+H6LkCPwvUoXA8yQFK4HoXrUUZA9ihcj8KVQkAUrkfhejRFQKRwPQrXg0FA9ihcj8IVRUAzMzMzMzM/QArXo3A9CjNAH4XrUbieLUAK16NwPYosQAAAAAAAACRAzczMzMzMKEAK16NwPQooQArXo3A9ykNAMzMzMzNzQkBcj8L1KHxGQAAAAAAAwDpACtejcD1KRUAAAAAAAEA3QOF6FK5HYTFAZmZmZmamQkApXI/C9WhFQBSuR+F6VDVAPQrXo3CdQ0CamZmZmZknQD0K16NwvTFAXI/C9Sj8QED2KFyPwjU6QM3MzMzMDDNAFK5H4XoUM0AUrkfhetRIQPYoXI/CNTdAUrgehevRMUCkcD0K12M0QHE9Ctej8DNAH4XrUbi+REAK16NwPQooQDMzMzMzczJAuB6F61H4OUD2KFyPwjU1QM3MzMzMTEJAw/UoXI+CPkCamZmZmZkrQNejcD0K1yZAKVyPwvUoMEDhehSuRyE+QFK4HoXr0TdASOF6FK6nSECF61G4HoU4QHsUrkfhukZACtejcD0KNECF61G4HgU9QArXo3A9Ci5AexSuR+E6SEApXI/C9WhCQHsUrkfh+kdA9ihcj8LVQ0BmZmZmZiZGQLgehetReD5Aj8L1KFxPNkAfhetRuD5DQI/C9ShcjylAcT0K16OwQ0BSuB6F69E0QFK4HoXrkTpAexSuR+H6RUDD9Shcj8IrQKRwPQrXYzNA7FG4HoUrMkAfhetRuF5FQFyPwvUo3D5AMzMzMzOzO0AfhetRuH5IQIXrUbgeBSZACtejcD3KO0BSuB6F61ErQBSuR+F61DRAXI/C9SicP0Bcj8L1KJxHQM3MzMzMTEdAcT0K16PwP0AfhetRuJ4vQI/C9Shcr0JAuB6F61E4J0D2KFyPwrU8QFyPwvUonD9AhetRuB5FREAK16NwPUo6QHsUrkfhei9A4XoUrkfhRUAAAAAAAAA+QGZmZmZm5iRA16NwPQr3QUAfhetRuJ4lQBSuR+F6VDlACtejcD2qQEDD9Shcj0I6QFK4HoXrEUhASOF6FK6HOEAK16NwPUozQFK4HoXr0TdAuB6F61E4NUBxPQrXo7A3QMP1KFyPwihAXI/C9SgcQEDD9Shcj2JBQK5H4XoU7kZAMzMzMzPTQkCkcD0K14NBQB+F61G4PkJA9ihcj8K1N0AzMzMzM5NHQM3MzMzMTChAexSuR+F6M0DNzMzMzAxFQEjhehSuxz5ACtejcD2KKEB7FK5H4bo5QB+F61G43jxAXI/C9SgcSECPwvUoXA8vQIXrUbgeRUhAw/UoXI8CNUBSuB6F6zFCQKRwPQrXIypAw/UoXI8CPkBSuB6F69FBQHE9CtejUEhAj8L1KFyPK0A9CtejcP1AQM3MzMzMzCRAUrgehesRM0A9CtejcP0yQJqZmZmZ2TlAzczMzMzMN0BI4XoUrgc6QDMzMzMzcz1AFK5H4XpUM0BxPQrXo/AzQBSuR+F6FDlAcT0K16OwR0AAAAAAAEA9QHE9CtejMEJAuB6F61EYQECPwvUoXK9DQM3MzMzMjDlA7FG4HoXrJUDD9Shcj+JAQDMzMzMz80ZAhetRuB7FP0CamZmZmVlDQDMzMzMzc0JAuB6F61E4J0BmZmZmZkZBQBSuR+F6FEZAUrgehesxSEAAAAAAACBAQA==",
          "dtype": "f8"
         },
         "xaxis": "x",
         "yaxis": "y"
        }
       ],
       "layout": {
        "barmode": "relative",
        "legend": {
         "tracegroupgap": 0
        },
        "paper_bgcolor": "rgba(0,0,0,0)",
        "plot_bgcolor": "rgba(0,0,0,0)",
        "template": {
         "data": {
          "bar": [
           {
            "error_x": {
             "color": "#2a3f5f"
            },
            "error_y": {
             "color": "#2a3f5f"
            },
            "marker": {
             "line": {
              "color": "#E5ECF6",
              "width": 0.5
             },
             "pattern": {
              "fillmode": "overlay",
              "size": 10,
              "solidity": 0.2
             }
            },
            "type": "bar"
           }
          ],
          "barpolar": [
           {
            "marker": {
             "line": {
              "color": "#E5ECF6",
              "width": 0.5
             },
             "pattern": {
              "fillmode": "overlay",
              "size": 10,
              "solidity": 0.2
             }
            },
            "type": "barpolar"
           }
          ],
          "carpet": [
           {
            "aaxis": {
             "endlinecolor": "#2a3f5f",
             "gridcolor": "white",
             "linecolor": "white",
             "minorgridcolor": "white",
             "startlinecolor": "#2a3f5f"
            },
            "baxis": {
             "endlinecolor": "#2a3f5f",
             "gridcolor": "white",
             "linecolor": "white",
             "minorgridcolor": "white",
             "startlinecolor": "#2a3f5f"
            },
            "type": "carpet"
           }
          ],
          "choropleth": [
           {
            "colorbar": {
             "outlinewidth": 0,
             "ticks": ""
            },
            "type": "choropleth"
           }
          ],
          "contour": [
           {
            "colorbar": {
             "outlinewidth": 0,
             "ticks": ""
            },
            "colorscale": [
             [
              0,
              "#0d0887"
             ],
             [
              0.1111111111111111,
              "#46039f"
             ],
             [
              0.2222222222222222,
              "#7201a8"
             ],
             [
              0.3333333333333333,
              "#9c179e"
             ],
             [
              0.4444444444444444,
              "#bd3786"
             ],
             [
              0.5555555555555556,
              "#d8576b"
             ],
             [
              0.6666666666666666,
              "#ed7953"
             ],
             [
              0.7777777777777778,
              "#fb9f3a"
             ],
             [
              0.8888888888888888,
              "#fdca26"
             ],
             [
              1,
              "#f0f921"
             ]
            ],
            "type": "contour"
           }
          ],
          "contourcarpet": [
           {
            "colorbar": {
             "outlinewidth": 0,
             "ticks": ""
            },
            "type": "contourcarpet"
           }
          ],
          "heatmap": [
           {
            "colorbar": {
             "outlinewidth": 0,
             "ticks": ""
            },
            "colorscale": [
             [
              0,
              "#0d0887"
             ],
             [
              0.1111111111111111,
              "#46039f"
             ],
             [
              0.2222222222222222,
              "#7201a8"
             ],
             [
              0.3333333333333333,
              "#9c179e"
             ],
             [
              0.4444444444444444,
              "#bd3786"
             ],
             [
              0.5555555555555556,
              "#d8576b"
             ],
             [
              0.6666666666666666,
              "#ed7953"
             ],
             [
              0.7777777777777778,
              "#fb9f3a"
             ],
             [
              0.8888888888888888,
              "#fdca26"
             ],
             [
              1,
              "#f0f921"
             ]
            ],
            "type": "heatmap"
           }
          ],
          "histogram": [
           {
            "marker": {
             "pattern": {
              "fillmode": "overlay",
              "size": 10,
              "solidity": 0.2
             }
            },
            "type": "histogram"
           }
          ],
          "histogram2d": [
           {
            "colorbar": {
             "outlinewidth": 0,
             "ticks": ""
            },
            "colorscale": [
             [
              0,
              "#0d0887"
             ],
             [
              0.1111111111111111,
              "#46039f"
             ],
             [
              0.2222222222222222,
              "#7201a8"
             ],
             [
              0.3333333333333333,
              "#9c179e"
             ],
             [
              0.4444444444444444,
              "#bd3786"
             ],
             [
              0.5555555555555556,
              "#d8576b"
             ],
             [
              0.6666666666666666,
              "#ed7953"
             ],
             [
              0.7777777777777778,
              "#fb9f3a"
             ],
             [
              0.8888888888888888,
              "#fdca26"
             ],
             [
              1,
              "#f0f921"
             ]
            ],
            "type": "histogram2d"
           }
          ],
          "histogram2dcontour": [
           {
            "colorbar": {
             "outlinewidth": 0,
             "ticks": ""
            },
            "colorscale": [
             [
              0,
              "#0d0887"
             ],
             [
              0.1111111111111111,
              "#46039f"
             ],
             [
              0.2222222222222222,
              "#7201a8"
             ],
             [
              0.3333333333333333,
              "#9c179e"
             ],
             [
              0.4444444444444444,
              "#bd3786"
             ],
             [
              0.5555555555555556,
              "#d8576b"
             ],
             [
              0.6666666666666666,
              "#ed7953"
             ],
             [
              0.7777777777777778,
              "#fb9f3a"
             ],
             [
              0.8888888888888888,
              "#fdca26"
             ],
             [
              1,
              "#f0f921"
             ]
            ],
            "type": "histogram2dcontour"
           }
          ],
          "mesh3d": [
           {
            "colorbar": {
             "outlinewidth": 0,
             "ticks": ""
            },
            "type": "mesh3d"
           }
          ],
          "parcoords": [
           {
            "line": {
             "colorbar": {
              "outlinewidth": 0,
              "ticks": ""
             }
            },
            "type": "parcoords"
           }
          ],
          "pie": [
           {
            "automargin": true,
            "type": "pie"
           }
          ],
          "scatter": [
           {
            "fillpattern": {
             "fillmode": "overlay",
             "size": 10,
             "solidity": 0.2
            },
            "type": "scatter"
           }
          ],
          "scatter3d": [
           {
            "line": {
             "colorbar": {
              "outlinewidth": 0,
              "ticks": ""
             }
            },
            "marker": {
             "colorbar": {
              "outlinewidth": 0,
              "ticks": ""
             }
            },
            "type": "scatter3d"
           }
          ],
          "scattercarpet": [
           {
            "marker": {
             "colorbar": {
              "outlinewidth": 0,
              "ticks": ""
             }
            },
            "type": "scattercarpet"
           }
          ],
          "scattergeo": [
           {
            "marker": {
             "colorbar": {
              "outlinewidth": 0,
              "ticks": ""
             }
            },
            "type": "scattergeo"
           }
          ],
          "scattergl": [
           {
            "marker": {
             "colorbar": {
              "outlinewidth": 0,
              "ticks": ""
             }
            },
            "type": "scattergl"
           }
          ],
          "scattermap": [
           {
            "marker": {
             "colorbar": {
              "outlinewidth": 0,
              "ticks": ""
             }
            },
            "type": "scattermap"
           }
          ],
          "scattermapbox": [
           {
            "marker": {
             "colorbar": {
              "outlinewidth": 0,
              "ticks": ""
             }
            },
            "type": "scattermapbox"
           }
          ],
          "scatterpolar": [
           {
            "marker": {
             "colorbar": {
              "outlinewidth": 0,
              "ticks": ""
             }
            },
            "type": "scatterpolar"
           }
          ],
          "scatterpolargl": [
           {
            "marker": {
             "colorbar": {
              "outlinewidth": 0,
              "ticks": ""
             }
            },
            "type": "scatterpolargl"
           }
          ],
          "scatterternary": [
           {
            "marker": {
             "colorbar": {
              "outlinewidth": 0,
              "ticks": ""
             }
            },
            "type": "scatterternary"
           }
          ],
          "surface": [
           {
            "colorbar": {
             "outlinewidth": 0,
             "ticks": ""
            },
            "colorscale": [
             [
              0,
              "#0d0887"
             ],
             [
              0.1111111111111111,
              "#46039f"
             ],
             [
              0.2222222222222222,
              "#7201a8"
             ],
             [
              0.3333333333333333,
              "#9c179e"
             ],
             [
              0.4444444444444444,
              "#bd3786"
             ],
             [
              0.5555555555555556,
              "#d8576b"
             ],
             [
              0.6666666666666666,
              "#ed7953"
             ],
             [
              0.7777777777777778,
              "#fb9f3a"
             ],
             [
              0.8888888888888888,
              "#fdca26"
             ],
             [
              1,
              "#f0f921"
             ]
            ],
            "type": "surface"
           }
          ],
          "table": [
           {
            "cells": {
             "fill": {
              "color": "#EBF0F8"
             },
             "line": {
              "color": "white"
             }
            },
            "header": {
             "fill": {
              "color": "#C8D4E3"
             },
             "line": {
              "color": "white"
             }
            },
            "type": "table"
           }
          ]
         },
         "layout": {
          "annotationdefaults": {
           "arrowcolor": "#2a3f5f",
           "arrowhead": 0,
           "arrowwidth": 1
          },
          "autotypenumbers": "strict",
          "coloraxis": {
           "colorbar": {
            "outlinewidth": 0,
            "ticks": ""
           }
          },
          "colorscale": {
           "diverging": [
            [
             0,
             "#8e0152"
            ],
            [
             0.1,
             "#c51b7d"
            ],
            [
             0.2,
             "#de77ae"
            ],
            [
             0.3,
             "#f1b6da"
            ],
            [
             0.4,
             "#fde0ef"
            ],
            [
             0.5,
             "#f7f7f7"
            ],
            [
             0.6,
             "#e6f5d0"
            ],
            [
             0.7,
             "#b8e186"
            ],
            [
             0.8,
             "#7fbc41"
            ],
            [
             0.9,
             "#4d9221"
            ],
            [
             1,
             "#276419"
            ]
           ],
           "sequential": [
            [
             0,
             "#0d0887"
            ],
            [
             0.1111111111111111,
             "#46039f"
            ],
            [
             0.2222222222222222,
             "#7201a8"
            ],
            [
             0.3333333333333333,
             "#9c179e"
            ],
            [
             0.4444444444444444,
             "#bd3786"
            ],
            [
             0.5555555555555556,
             "#d8576b"
            ],
            [
             0.6666666666666666,
             "#ed7953"
            ],
            [
             0.7777777777777778,
             "#fb9f3a"
            ],
            [
             0.8888888888888888,
             "#fdca26"
            ],
            [
             1,
             "#f0f921"
            ]
           ],
           "sequentialminus": [
            [
             0,
             "#0d0887"
            ],
            [
             0.1111111111111111,
             "#46039f"
            ],
            [
             0.2222222222222222,
             "#7201a8"
            ],
            [
             0.3333333333333333,
             "#9c179e"
            ],
            [
             0.4444444444444444,
             "#bd3786"
            ],
            [
             0.5555555555555556,
             "#d8576b"
            ],
            [
             0.6666666666666666,
             "#ed7953"
            ],
            [
             0.7777777777777778,
             "#fb9f3a"
            ],
            [
             0.8888888888888888,
             "#fdca26"
            ],
            [
             1,
             "#f0f921"
            ]
           ]
          },
          "colorway": [
           "#636efa",
           "#EF553B",
           "#00cc96",
           "#ab63fa",
           "#FFA15A",
           "#19d3f3",
           "#FF6692",
           "#B6E880",
           "#FF97FF",
           "#FECB52"
          ],
          "font": {
           "color": "#2a3f5f"
          },
          "geo": {
           "bgcolor": "white",
           "lakecolor": "white",
           "landcolor": "#E5ECF6",
           "showlakes": true,
           "showland": true,
           "subunitcolor": "white"
          },
          "hoverlabel": {
           "align": "left"
          },
          "hovermode": "closest",
          "mapbox": {
           "style": "light"
          },
          "paper_bgcolor": "white",
          "plot_bgcolor": "#E5ECF6",
          "polar": {
           "angularaxis": {
            "gridcolor": "white",
            "linecolor": "white",
            "ticks": ""
           },
           "bgcolor": "#E5ECF6",
           "radialaxis": {
            "gridcolor": "white",
            "linecolor": "white",
            "ticks": ""
           }
          },
          "scene": {
           "xaxis": {
            "backgroundcolor": "#E5ECF6",
            "gridcolor": "white",
            "gridwidth": 2,
            "linecolor": "white",
            "showbackground": true,
            "ticks": "",
            "zerolinecolor": "white"
           },
           "yaxis": {
            "backgroundcolor": "#E5ECF6",
            "gridcolor": "white",
            "gridwidth": 2,
            "linecolor": "white",
            "showbackground": true,
            "ticks": "",
            "zerolinecolor": "white"
           },
           "zaxis": {
            "backgroundcolor": "#E5ECF6",
            "gridcolor": "white",
            "gridwidth": 2,
            "linecolor": "white",
            "showbackground": true,
            "ticks": "",
            "zerolinecolor": "white"
           }
          },
          "shapedefaults": {
           "line": {
            "color": "#2a3f5f"
           }
          },
          "ternary": {
           "aaxis": {
            "gridcolor": "white",
            "linecolor": "white",
            "ticks": ""
           },
           "baxis": {
            "gridcolor": "white",
            "linecolor": "white",
            "ticks": ""
           },
           "bgcolor": "#E5ECF6",
           "caxis": {
            "gridcolor": "white",
            "linecolor": "white",
            "ticks": ""
           }
          },
          "title": {
           "x": 0.05
          },
          "xaxis": {
           "automargin": true,
           "gridcolor": "white",
           "linecolor": "white",
           "ticks": "",
           "title": {
            "standoff": 15
           },
           "zerolinecolor": "white",
           "zerolinewidth": 2
          },
          "yaxis": {
           "automargin": true,
           "gridcolor": "white",
           "linecolor": "white",
           "ticks": "",
           "title": {
            "standoff": 15
           },
           "zerolinecolor": "white",
           "zerolinewidth": 2
          }
         }
        },
        "title": {
         "font": {
          "family": "Arial",
          "size": 18
         },
         "text": "Distribution of debt_to_income_ratio"
        },
        "xaxis": {
         "anchor": "y",
         "domain": [
          0,
          1
         ],
         "title": {
          "text": "debt_to_income_ratio"
         }
        },
        "yaxis": {
         "anchor": "x",
         "domain": [
          0,
          1
         ],
         "title": {
          "text": "Count"
         }
        }
       }
      }
     },
     "metadata": {},
     "output_type": "display_data"
    },
    {
     "data": {
      "application/vnd.plotly.v1+json": {
       "config": {
        "plotlyServerURL": "https://plot.ly"
       },
       "data": [
        {
         "bingroup": "x",
         "hovertemplate": "employment_years=%{x}<br>count=%{y}<extra></extra>",
         "legendgroup": "",
         "marker": {
          "color": "#636efa",
          "pattern": {
           "shape": ""
          }
         },
         "name": "",
         "orientation": "v",
         "showlegend": false,
         "type": "histogram",
         "x": {
          "bdata": "ICEAEgYMHgMIAxoFBAwPAwYWHAsABx0BCA8JDgUOEyAVDCENDBkWHQ8SAwAfCxAFBw8UGhYQFh4GGAccGR8AIRMQEBAVBB4BHA8LExcCBxgbAAUhGxkGFwwfCAAbDgEbGRMFGgIYEQgIAR0DAgMEAxAJAxIEDBQRGRQLGhgbHhsCFwgiAAUYCB4cHh4UESEcGgwDDgsBCgcEDgIdGwEZCRAFBg0cGQQPHA8BIQkTGwgACA8PFAcVGxchDRMZBgwMGAEZFQUdDyABDh8GExseCw8LFyAWIg8FGhYACBkUHxcSBAofFSARAx0QBA0BCREBFiIZHQIiGBcEEgwNBhYMDhwODSIOBQwMHgMHFAEdAAkCCRUaGxwZFwcQBhshEBYOICIgCxwMEh0DIR4PIAcUChMCFBIhDxkFAg0hGw8JChkNFhEDGgEGDAEQBAoLHhMQHwIaHBIDIhwIDBYEIgsLEh4RAQ0JDBMUCxYCIBsLHCEeCxcHBQ0SCBAiEwoBEwkBFxINDwgRHAkbBgMLGCIiHiANHhgbFx0KBQoWDx4JDx4TGA4TER8YIAYeCxECDgwfAwciHx0JBhEJCgEFGxcBHQEGAAAUAyERGgohAxsCHBYJDgoVFgUcAQAeByERFBYZEwMIDwAbERsPBA4DBhgQBAIDGCARESIMBhEFFA4dBxcPABcYExIJFwYhIRwRGBQZHRAUEwsMDgsNFSAEAgcHAhkdExMMDRABDQ0UDSEhBAchIg4PBhkAEh8GBQMDDwIRFBIgHBYTCxQgCAQPGhsYBBYfHCEEFxEbBR0NExcKAhgRFAIRDAQXDCIKAgwABxgAIgkLAgAXDxkABgcbHiAeFAseIAsVDx4cHQIXGg4EFgsSCQccFBYWCAULERkSFSAUBx4gAhMbGQkOBggDGgELEhMVGQQCIQkdDBYREhAVDRkWEAEbBAAAFhEUCQkIBAgUHBkaAQYLDCEUIBIOAQMZAyAgBgYBEhYOGhgTIRkXDRoBEQkBEwoVCwsJFR0DAxYKCg4YEgwZAiEWGxAdFBkIAwcNFxoVCAkGAhEEBAoPBBQ=",
          "dtype": "i1"
         },
         "xaxis": "x",
         "yaxis": "y"
        }
       ],
       "layout": {
        "barmode": "relative",
        "legend": {
         "tracegroupgap": 0
        },
        "paper_bgcolor": "rgba(0,0,0,0)",
        "plot_bgcolor": "rgba(0,0,0,0)",
        "template": {
         "data": {
          "bar": [
           {
            "error_x": {
             "color": "#2a3f5f"
            },
            "error_y": {
             "color": "#2a3f5f"
            },
            "marker": {
             "line": {
              "color": "#E5ECF6",
              "width": 0.5
             },
             "pattern": {
              "fillmode": "overlay",
              "size": 10,
              "solidity": 0.2
             }
            },
            "type": "bar"
           }
          ],
          "barpolar": [
           {
            "marker": {
             "line": {
              "color": "#E5ECF6",
              "width": 0.5
             },
             "pattern": {
              "fillmode": "overlay",
              "size": 10,
              "solidity": 0.2
             }
            },
            "type": "barpolar"
           }
          ],
          "carpet": [
           {
            "aaxis": {
             "endlinecolor": "#2a3f5f",
             "gridcolor": "white",
             "linecolor": "white",
             "minorgridcolor": "white",
             "startlinecolor": "#2a3f5f"
            },
            "baxis": {
             "endlinecolor": "#2a3f5f",
             "gridcolor": "white",
             "linecolor": "white",
             "minorgridcolor": "white",
             "startlinecolor": "#2a3f5f"
            },
            "type": "carpet"
           }
          ],
          "choropleth": [
           {
            "colorbar": {
             "outlinewidth": 0,
             "ticks": ""
            },
            "type": "choropleth"
           }
          ],
          "contour": [
           {
            "colorbar": {
             "outlinewidth": 0,
             "ticks": ""
            },
            "colorscale": [
             [
              0,
              "#0d0887"
             ],
             [
              0.1111111111111111,
              "#46039f"
             ],
             [
              0.2222222222222222,
              "#7201a8"
             ],
             [
              0.3333333333333333,
              "#9c179e"
             ],
             [
              0.4444444444444444,
              "#bd3786"
             ],
             [
              0.5555555555555556,
              "#d8576b"
             ],
             [
              0.6666666666666666,
              "#ed7953"
             ],
             [
              0.7777777777777778,
              "#fb9f3a"
             ],
             [
              0.8888888888888888,
              "#fdca26"
             ],
             [
              1,
              "#f0f921"
             ]
            ],
            "type": "contour"
           }
          ],
          "contourcarpet": [
           {
            "colorbar": {
             "outlinewidth": 0,
             "ticks": ""
            },
            "type": "contourcarpet"
           }
          ],
          "heatmap": [
           {
            "colorbar": {
             "outlinewidth": 0,
             "ticks": ""
            },
            "colorscale": [
             [
              0,
              "#0d0887"
             ],
             [
              0.1111111111111111,
              "#46039f"
             ],
             [
              0.2222222222222222,
              "#7201a8"
             ],
             [
              0.3333333333333333,
              "#9c179e"
             ],
             [
              0.4444444444444444,
              "#bd3786"
             ],
             [
              0.5555555555555556,
              "#d8576b"
             ],
             [
              0.6666666666666666,
              "#ed7953"
             ],
             [
              0.7777777777777778,
              "#fb9f3a"
             ],
             [
              0.8888888888888888,
              "#fdca26"
             ],
             [
              1,
              "#f0f921"
             ]
            ],
            "type": "heatmap"
           }
          ],
          "histogram": [
           {
            "marker": {
             "pattern": {
              "fillmode": "overlay",
              "size": 10,
              "solidity": 0.2
             }
            },
            "type": "histogram"
           }
          ],
          "histogram2d": [
           {
            "colorbar": {
             "outlinewidth": 0,
             "ticks": ""
            },
            "colorscale": [
             [
              0,
              "#0d0887"
             ],
             [
              0.1111111111111111,
              "#46039f"
             ],
             [
              0.2222222222222222,
              "#7201a8"
             ],
             [
              0.3333333333333333,
              "#9c179e"
             ],
             [
              0.4444444444444444,
              "#bd3786"
             ],
             [
              0.5555555555555556,
              "#d8576b"
             ],
             [
              0.6666666666666666,
              "#ed7953"
             ],
             [
              0.7777777777777778,
              "#fb9f3a"
             ],
             [
              0.8888888888888888,
              "#fdca26"
             ],
             [
              1,
              "#f0f921"
             ]
            ],
            "type": "histogram2d"
           }
          ],
          "histogram2dcontour": [
           {
            "colorbar": {
             "outlinewidth": 0,
             "ticks": ""
            },
            "colorscale": [
             [
              0,
              "#0d0887"
             ],
             [
              0.1111111111111111,
              "#46039f"
             ],
             [
              0.2222222222222222,
              "#7201a8"
             ],
             [
              0.3333333333333333,
              "#9c179e"
             ],
             [
              0.4444444444444444,
              "#bd3786"
             ],
             [
              0.5555555555555556,
              "#d8576b"
             ],
             [
              0.6666666666666666,
              "#ed7953"
             ],
             [
              0.7777777777777778,
              "#fb9f3a"
             ],
             [
              0.8888888888888888,
              "#fdca26"
             ],
             [
              1,
              "#f0f921"
             ]
            ],
            "type": "histogram2dcontour"
           }
          ],
          "mesh3d": [
           {
            "colorbar": {
             "outlinewidth": 0,
             "ticks": ""
            },
            "type": "mesh3d"
           }
          ],
          "parcoords": [
           {
            "line": {
             "colorbar": {
              "outlinewidth": 0,
              "ticks": ""
             }
            },
            "type": "parcoords"
           }
          ],
          "pie": [
           {
            "automargin": true,
            "type": "pie"
           }
          ],
          "scatter": [
           {
            "fillpattern": {
             "fillmode": "overlay",
             "size": 10,
             "solidity": 0.2
            },
            "type": "scatter"
           }
          ],
          "scatter3d": [
           {
            "line": {
             "colorbar": {
              "outlinewidth": 0,
              "ticks": ""
             }
            },
            "marker": {
             "colorbar": {
              "outlinewidth": 0,
              "ticks": ""
             }
            },
            "type": "scatter3d"
           }
          ],
          "scattercarpet": [
           {
            "marker": {
             "colorbar": {
              "outlinewidth": 0,
              "ticks": ""
             }
            },
            "type": "scattercarpet"
           }
          ],
          "scattergeo": [
           {
            "marker": {
             "colorbar": {
              "outlinewidth": 0,
              "ticks": ""
             }
            },
            "type": "scattergeo"
           }
          ],
          "scattergl": [
           {
            "marker": {
             "colorbar": {
              "outlinewidth": 0,
              "ticks": ""
             }
            },
            "type": "scattergl"
           }
          ],
          "scattermap": [
           {
            "marker": {
             "colorbar": {
              "outlinewidth": 0,
              "ticks": ""
             }
            },
            "type": "scattermap"
           }
          ],
          "scattermapbox": [
           {
            "marker": {
             "colorbar": {
              "outlinewidth": 0,
              "ticks": ""
             }
            },
            "type": "scattermapbox"
           }
          ],
          "scatterpolar": [
           {
            "marker": {
             "colorbar": {
              "outlinewidth": 0,
              "ticks": ""
             }
            },
            "type": "scatterpolar"
           }
          ],
          "scatterpolargl": [
           {
            "marker": {
             "colorbar": {
              "outlinewidth": 0,
              "ticks": ""
             }
            },
            "type": "scatterpolargl"
           }
          ],
          "scatterternary": [
           {
            "marker": {
             "colorbar": {
              "outlinewidth": 0,
              "ticks": ""
             }
            },
            "type": "scatterternary"
           }
          ],
          "surface": [
           {
            "colorbar": {
             "outlinewidth": 0,
             "ticks": ""
            },
            "colorscale": [
             [
              0,
              "#0d0887"
             ],
             [
              0.1111111111111111,
              "#46039f"
             ],
             [
              0.2222222222222222,
              "#7201a8"
             ],
             [
              0.3333333333333333,
              "#9c179e"
             ],
             [
              0.4444444444444444,
              "#bd3786"
             ],
             [
              0.5555555555555556,
              "#d8576b"
             ],
             [
              0.6666666666666666,
              "#ed7953"
             ],
             [
              0.7777777777777778,
              "#fb9f3a"
             ],
             [
              0.8888888888888888,
              "#fdca26"
             ],
             [
              1,
              "#f0f921"
             ]
            ],
            "type": "surface"
           }
          ],
          "table": [
           {
            "cells": {
             "fill": {
              "color": "#EBF0F8"
             },
             "line": {
              "color": "white"
             }
            },
            "header": {
             "fill": {
              "color": "#C8D4E3"
             },
             "line": {
              "color": "white"
             }
            },
            "type": "table"
           }
          ]
         },
         "layout": {
          "annotationdefaults": {
           "arrowcolor": "#2a3f5f",
           "arrowhead": 0,
           "arrowwidth": 1
          },
          "autotypenumbers": "strict",
          "coloraxis": {
           "colorbar": {
            "outlinewidth": 0,
            "ticks": ""
           }
          },
          "colorscale": {
           "diverging": [
            [
             0,
             "#8e0152"
            ],
            [
             0.1,
             "#c51b7d"
            ],
            [
             0.2,
             "#de77ae"
            ],
            [
             0.3,
             "#f1b6da"
            ],
            [
             0.4,
             "#fde0ef"
            ],
            [
             0.5,
             "#f7f7f7"
            ],
            [
             0.6,
             "#e6f5d0"
            ],
            [
             0.7,
             "#b8e186"
            ],
            [
             0.8,
             "#7fbc41"
            ],
            [
             0.9,
             "#4d9221"
            ],
            [
             1,
             "#276419"
            ]
           ],
           "sequential": [
            [
             0,
             "#0d0887"
            ],
            [
             0.1111111111111111,
             "#46039f"
            ],
            [
             0.2222222222222222,
             "#7201a8"
            ],
            [
             0.3333333333333333,
             "#9c179e"
            ],
            [
             0.4444444444444444,
             "#bd3786"
            ],
            [
             0.5555555555555556,
             "#d8576b"
            ],
            [
             0.6666666666666666,
             "#ed7953"
            ],
            [
             0.7777777777777778,
             "#fb9f3a"
            ],
            [
             0.8888888888888888,
             "#fdca26"
            ],
            [
             1,
             "#f0f921"
            ]
           ],
           "sequentialminus": [
            [
             0,
             "#0d0887"
            ],
            [
             0.1111111111111111,
             "#46039f"
            ],
            [
             0.2222222222222222,
             "#7201a8"
            ],
            [
             0.3333333333333333,
             "#9c179e"
            ],
            [
             0.4444444444444444,
             "#bd3786"
            ],
            [
             0.5555555555555556,
             "#d8576b"
            ],
            [
             0.6666666666666666,
             "#ed7953"
            ],
            [
             0.7777777777777778,
             "#fb9f3a"
            ],
            [
             0.8888888888888888,
             "#fdca26"
            ],
            [
             1,
             "#f0f921"
            ]
           ]
          },
          "colorway": [
           "#636efa",
           "#EF553B",
           "#00cc96",
           "#ab63fa",
           "#FFA15A",
           "#19d3f3",
           "#FF6692",
           "#B6E880",
           "#FF97FF",
           "#FECB52"
          ],
          "font": {
           "color": "#2a3f5f"
          },
          "geo": {
           "bgcolor": "white",
           "lakecolor": "white",
           "landcolor": "#E5ECF6",
           "showlakes": true,
           "showland": true,
           "subunitcolor": "white"
          },
          "hoverlabel": {
           "align": "left"
          },
          "hovermode": "closest",
          "mapbox": {
           "style": "light"
          },
          "paper_bgcolor": "white",
          "plot_bgcolor": "#E5ECF6",
          "polar": {
           "angularaxis": {
            "gridcolor": "white",
            "linecolor": "white",
            "ticks": ""
           },
           "bgcolor": "#E5ECF6",
           "radialaxis": {
            "gridcolor": "white",
            "linecolor": "white",
            "ticks": ""
           }
          },
          "scene": {
           "xaxis": {
            "backgroundcolor": "#E5ECF6",
            "gridcolor": "white",
            "gridwidth": 2,
            "linecolor": "white",
            "showbackground": true,
            "ticks": "",
            "zerolinecolor": "white"
           },
           "yaxis": {
            "backgroundcolor": "#E5ECF6",
            "gridcolor": "white",
            "gridwidth": 2,
            "linecolor": "white",
            "showbackground": true,
            "ticks": "",
            "zerolinecolor": "white"
           },
           "zaxis": {
            "backgroundcolor": "#E5ECF6",
            "gridcolor": "white",
            "gridwidth": 2,
            "linecolor": "white",
            "showbackground": true,
            "ticks": "",
            "zerolinecolor": "white"
           }
          },
          "shapedefaults": {
           "line": {
            "color": "#2a3f5f"
           }
          },
          "ternary": {
           "aaxis": {
            "gridcolor": "white",
            "linecolor": "white",
            "ticks": ""
           },
           "baxis": {
            "gridcolor": "white",
            "linecolor": "white",
            "ticks": ""
           },
           "bgcolor": "#E5ECF6",
           "caxis": {
            "gridcolor": "white",
            "linecolor": "white",
            "ticks": ""
           }
          },
          "title": {
           "x": 0.05
          },
          "xaxis": {
           "automargin": true,
           "gridcolor": "white",
           "linecolor": "white",
           "ticks": "",
           "title": {
            "standoff": 15
           },
           "zerolinecolor": "white",
           "zerolinewidth": 2
          },
          "yaxis": {
           "automargin": true,
           "gridcolor": "white",
           "linecolor": "white",
           "ticks": "",
           "title": {
            "standoff": 15
           },
           "zerolinecolor": "white",
           "zerolinewidth": 2
          }
         }
        },
        "title": {
         "font": {
          "family": "Arial",
          "size": 18
         },
         "text": "Distribution of employment_years"
        },
        "xaxis": {
         "anchor": "y",
         "domain": [
          0,
          1
         ],
         "title": {
          "text": "employment_years"
         }
        },
        "yaxis": {
         "anchor": "x",
         "domain": [
          0,
          1
         ],
         "title": {
          "text": "Count"
         }
        }
       }
      }
     },
     "metadata": {},
     "output_type": "display_data"
    },
    {
     "data": {
      "application/vnd.plotly.v1+json": {
       "config": {
        "plotlyServerURL": "https://plot.ly"
       },
       "data": [
        {
         "bingroup": "x",
         "hovertemplate": "savings_balance=%{x}<br>count=%{y}<extra></extra>",
         "legendgroup": "",
         "marker": {
          "color": "#636efa",
          "pattern": {
           "shape": ""
          }
         },
         "name": "",
         "orientation": "v",
         "showlegend": false,
         "type": "histogram",
         "x": {
          "bdata": "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",
          "dtype": "i4"
         },
         "xaxis": "x",
         "yaxis": "y"
        }
       ],
       "layout": {
        "barmode": "relative",
        "legend": {
         "tracegroupgap": 0
        },
        "paper_bgcolor": "rgba(0,0,0,0)",
        "plot_bgcolor": "rgba(0,0,0,0)",
        "template": {
         "data": {
          "bar": [
           {
            "error_x": {
             "color": "#2a3f5f"
            },
            "error_y": {
             "color": "#2a3f5f"
            },
            "marker": {
             "line": {
              "color": "#E5ECF6",
              "width": 0.5
             },
             "pattern": {
              "fillmode": "overlay",
              "size": 10,
              "solidity": 0.2
             }
            },
            "type": "bar"
           }
          ],
          "barpolar": [
           {
            "marker": {
             "line": {
              "color": "#E5ECF6",
              "width": 0.5
             },
             "pattern": {
              "fillmode": "overlay",
              "size": 10,
              "solidity": 0.2
             }
            },
            "type": "barpolar"
           }
          ],
          "carpet": [
           {
            "aaxis": {
             "endlinecolor": "#2a3f5f",
             "gridcolor": "white",
             "linecolor": "white",
             "minorgridcolor": "white",
             "startlinecolor": "#2a3f5f"
            },
            "baxis": {
             "endlinecolor": "#2a3f5f",
             "gridcolor": "white",
             "linecolor": "white",
             "minorgridcolor": "white",
             "startlinecolor": "#2a3f5f"
            },
            "type": "carpet"
           }
          ],
          "choropleth": [
           {
            "colorbar": {
             "outlinewidth": 0,
             "ticks": ""
            },
            "type": "choropleth"
           }
          ],
          "contour": [
           {
            "colorbar": {
             "outlinewidth": 0,
             "ticks": ""
            },
            "colorscale": [
             [
              0,
              "#0d0887"
             ],
             [
              0.1111111111111111,
              "#46039f"
             ],
             [
              0.2222222222222222,
              "#7201a8"
             ],
             [
              0.3333333333333333,
              "#9c179e"
             ],
             [
              0.4444444444444444,
              "#bd3786"
             ],
             [
              0.5555555555555556,
              "#d8576b"
             ],
             [
              0.6666666666666666,
              "#ed7953"
             ],
             [
              0.7777777777777778,
              "#fb9f3a"
             ],
             [
              0.8888888888888888,
              "#fdca26"
             ],
             [
              1,
              "#f0f921"
             ]
            ],
            "type": "contour"
           }
          ],
          "contourcarpet": [
           {
            "colorbar": {
             "outlinewidth": 0,
             "ticks": ""
            },
            "type": "contourcarpet"
           }
          ],
          "heatmap": [
           {
            "colorbar": {
             "outlinewidth": 0,
             "ticks": ""
            },
            "colorscale": [
             [
              0,
              "#0d0887"
             ],
             [
              0.1111111111111111,
              "#46039f"
             ],
             [
              0.2222222222222222,
              "#7201a8"
             ],
             [
              0.3333333333333333,
              "#9c179e"
             ],
             [
              0.4444444444444444,
              "#bd3786"
             ],
             [
              0.5555555555555556,
              "#d8576b"
             ],
             [
              0.6666666666666666,
              "#ed7953"
             ],
             [
              0.7777777777777778,
              "#fb9f3a"
             ],
             [
              0.8888888888888888,
              "#fdca26"
             ],
             [
              1,
              "#f0f921"
             ]
            ],
            "type": "heatmap"
           }
          ],
          "histogram": [
           {
            "marker": {
             "pattern": {
              "fillmode": "overlay",
              "size": 10,
              "solidity": 0.2
             }
            },
            "type": "histogram"
           }
          ],
          "histogram2d": [
           {
            "colorbar": {
             "outlinewidth": 0,
             "ticks": ""
            },
            "colorscale": [
             [
              0,
              "#0d0887"
             ],
             [
              0.1111111111111111,
              "#46039f"
             ],
             [
              0.2222222222222222,
              "#7201a8"
             ],
             [
              0.3333333333333333,
              "#9c179e"
             ],
             [
              0.4444444444444444,
              "#bd3786"
             ],
             [
              0.5555555555555556,
              "#d8576b"
             ],
             [
              0.6666666666666666,
              "#ed7953"
             ],
             [
              0.7777777777777778,
              "#fb9f3a"
             ],
             [
              0.8888888888888888,
              "#fdca26"
             ],
             [
              1,
              "#f0f921"
             ]
            ],
            "type": "histogram2d"
           }
          ],
          "histogram2dcontour": [
           {
            "colorbar": {
             "outlinewidth": 0,
             "ticks": ""
            },
            "colorscale": [
             [
              0,
              "#0d0887"
             ],
             [
              0.1111111111111111,
              "#46039f"
             ],
             [
              0.2222222222222222,
              "#7201a8"
             ],
             [
              0.3333333333333333,
              "#9c179e"
             ],
             [
              0.4444444444444444,
              "#bd3786"
             ],
             [
              0.5555555555555556,
              "#d8576b"
             ],
             [
              0.6666666666666666,
              "#ed7953"
             ],
             [
              0.7777777777777778,
              "#fb9f3a"
             ],
             [
              0.8888888888888888,
              "#fdca26"
             ],
             [
              1,
              "#f0f921"
             ]
            ],
            "type": "histogram2dcontour"
           }
          ],
          "mesh3d": [
           {
            "colorbar": {
             "outlinewidth": 0,
             "ticks": ""
            },
            "type": "mesh3d"
           }
          ],
          "parcoords": [
           {
            "line": {
             "colorbar": {
              "outlinewidth": 0,
              "ticks": ""
             }
            },
            "type": "parcoords"
           }
          ],
          "pie": [
           {
            "automargin": true,
            "type": "pie"
           }
          ],
          "scatter": [
           {
            "fillpattern": {
             "fillmode": "overlay",
             "size": 10,
             "solidity": 0.2
            },
            "type": "scatter"
           }
          ],
          "scatter3d": [
           {
            "line": {
             "colorbar": {
              "outlinewidth": 0,
              "ticks": ""
             }
            },
            "marker": {
             "colorbar": {
              "outlinewidth": 0,
              "ticks": ""
             }
            },
            "type": "scatter3d"
           }
          ],
          "scattercarpet": [
           {
            "marker": {
             "colorbar": {
              "outlinewidth": 0,
              "ticks": ""
             }
            },
            "type": "scattercarpet"
           }
          ],
          "scattergeo": [
           {
            "marker": {
             "colorbar": {
              "outlinewidth": 0,
              "ticks": ""
             }
            },
            "type": "scattergeo"
           }
          ],
          "scattergl": [
           {
            "marker": {
             "colorbar": {
              "outlinewidth": 0,
              "ticks": ""
             }
            },
            "type": "scattergl"
           }
          ],
          "scattermap": [
           {
            "marker": {
             "colorbar": {
              "outlinewidth": 0,
              "ticks": ""
             }
            },
            "type": "scattermap"
           }
          ],
          "scattermapbox": [
           {
            "marker": {
             "colorbar": {
              "outlinewidth": 0,
              "ticks": ""
             }
            },
            "type": "scattermapbox"
           }
          ],
          "scatterpolar": [
           {
            "marker": {
             "colorbar": {
              "outlinewidth": 0,
              "ticks": ""
             }
            },
            "type": "scatterpolar"
           }
          ],
          "scatterpolargl": [
           {
            "marker": {
             "colorbar": {
              "outlinewidth": 0,
              "ticks": ""
             }
            },
            "type": "scatterpolargl"
           }
          ],
          "scatterternary": [
           {
            "marker": {
             "colorbar": {
              "outlinewidth": 0,
              "ticks": ""
             }
            },
            "type": "scatterternary"
           }
          ],
          "surface": [
           {
            "colorbar": {
             "outlinewidth": 0,
             "ticks": ""
            },
            "colorscale": [
             [
              0,
              "#0d0887"
             ],
             [
              0.1111111111111111,
              "#46039f"
             ],
             [
              0.2222222222222222,
              "#7201a8"
             ],
             [
              0.3333333333333333,
              "#9c179e"
             ],
             [
              0.4444444444444444,
              "#bd3786"
             ],
             [
              0.5555555555555556,
              "#d8576b"
             ],
             [
              0.6666666666666666,
              "#ed7953"
             ],
             [
              0.7777777777777778,
              "#fb9f3a"
             ],
             [
              0.8888888888888888,
              "#fdca26"
             ],
             [
              1,
              "#f0f921"
             ]
            ],
            "type": "surface"
           }
          ],
          "table": [
           {
            "cells": {
             "fill": {
              "color": "#EBF0F8"
             },
             "line": {
              "color": "white"
             }
            },
            "header": {
             "fill": {
              "color": "#C8D4E3"
             },
             "line": {
              "color": "white"
             }
            },
            "type": "table"
           }
          ]
         },
         "layout": {
          "annotationdefaults": {
           "arrowcolor": "#2a3f5f",
           "arrowhead": 0,
           "arrowwidth": 1
          },
          "autotypenumbers": "strict",
          "coloraxis": {
           "colorbar": {
            "outlinewidth": 0,
            "ticks": ""
           }
          },
          "colorscale": {
           "diverging": [
            [
             0,
             "#8e0152"
            ],
            [
             0.1,
             "#c51b7d"
            ],
            [
             0.2,
             "#de77ae"
            ],
            [
             0.3,
             "#f1b6da"
            ],
            [
             0.4,
             "#fde0ef"
            ],
            [
             0.5,
             "#f7f7f7"
            ],
            [
             0.6,
             "#e6f5d0"
            ],
            [
             0.7,
             "#b8e186"
            ],
            [
             0.8,
             "#7fbc41"
            ],
            [
             0.9,
             "#4d9221"
            ],
            [
             1,
             "#276419"
            ]
           ],
           "sequential": [
            [
             0,
             "#0d0887"
            ],
            [
             0.1111111111111111,
             "#46039f"
            ],
            [
             0.2222222222222222,
             "#7201a8"
            ],
            [
             0.3333333333333333,
             "#9c179e"
            ],
            [
             0.4444444444444444,
             "#bd3786"
            ],
            [
             0.5555555555555556,
             "#d8576b"
            ],
            [
             0.6666666666666666,
             "#ed7953"
            ],
            [
             0.7777777777777778,
             "#fb9f3a"
            ],
            [
             0.8888888888888888,
             "#fdca26"
            ],
            [
             1,
             "#f0f921"
            ]
           ],
           "sequentialminus": [
            [
             0,
             "#0d0887"
            ],
            [
             0.1111111111111111,
             "#46039f"
            ],
            [
             0.2222222222222222,
             "#7201a8"
            ],
            [
             0.3333333333333333,
             "#9c179e"
            ],
            [
             0.4444444444444444,
             "#bd3786"
            ],
            [
             0.5555555555555556,
             "#d8576b"
            ],
            [
             0.6666666666666666,
             "#ed7953"
            ],
            [
             0.7777777777777778,
             "#fb9f3a"
            ],
            [
             0.8888888888888888,
             "#fdca26"
            ],
            [
             1,
             "#f0f921"
            ]
           ]
          },
          "colorway": [
           "#636efa",
           "#EF553B",
           "#00cc96",
           "#ab63fa",
           "#FFA15A",
           "#19d3f3",
           "#FF6692",
           "#B6E880",
           "#FF97FF",
           "#FECB52"
          ],
          "font": {
           "color": "#2a3f5f"
          },
          "geo": {
           "bgcolor": "white",
           "lakecolor": "white",
           "landcolor": "#E5ECF6",
           "showlakes": true,
           "showland": true,
           "subunitcolor": "white"
          },
          "hoverlabel": {
           "align": "left"
          },
          "hovermode": "closest",
          "mapbox": {
           "style": "light"
          },
          "paper_bgcolor": "white",
          "plot_bgcolor": "#E5ECF6",
          "polar": {
           "angularaxis": {
            "gridcolor": "white",
            "linecolor": "white",
            "ticks": ""
           },
           "bgcolor": "#E5ECF6",
           "radialaxis": {
            "gridcolor": "white",
            "linecolor": "white",
            "ticks": ""
           }
          },
          "scene": {
           "xaxis": {
            "backgroundcolor": "#E5ECF6",
            "gridcolor": "white",
            "gridwidth": 2,
            "linecolor": "white",
            "showbackground": true,
            "ticks": "",
            "zerolinecolor": "white"
           },
           "yaxis": {
            "backgroundcolor": "#E5ECF6",
            "gridcolor": "white",
            "gridwidth": 2,
            "linecolor": "white",
            "showbackground": true,
            "ticks": "",
            "zerolinecolor": "white"
           },
           "zaxis": {
            "backgroundcolor": "#E5ECF6",
            "gridcolor": "white",
            "gridwidth": 2,
            "linecolor": "white",
            "showbackground": true,
            "ticks": "",
            "zerolinecolor": "white"
           }
          },
          "shapedefaults": {
           "line": {
            "color": "#2a3f5f"
           }
          },
          "ternary": {
           "aaxis": {
            "gridcolor": "white",
            "linecolor": "white",
            "ticks": ""
           },
           "baxis": {
            "gridcolor": "white",
            "linecolor": "white",
            "ticks": ""
           },
           "bgcolor": "#E5ECF6",
           "caxis": {
            "gridcolor": "white",
            "linecolor": "white",
            "ticks": ""
           }
          },
          "title": {
           "x": 0.05
          },
          "xaxis": {
           "automargin": true,
           "gridcolor": "white",
           "linecolor": "white",
           "ticks": "",
           "title": {
            "standoff": 15
           },
           "zerolinecolor": "white",
           "zerolinewidth": 2
          },
          "yaxis": {
           "automargin": true,
           "gridcolor": "white",
           "linecolor": "white",
           "ticks": "",
           "title": {
            "standoff": 15
           },
           "zerolinecolor": "white",
           "zerolinewidth": 2
          }
         }
        },
        "title": {
         "font": {
          "family": "Arial",
          "size": 18
         },
         "text": "Distribution of savings_balance"
        },
        "xaxis": {
         "anchor": "y",
         "domain": [
          0,
          1
         ],
         "title": {
          "text": "savings_balance"
         }
        },
        "yaxis": {
         "anchor": "x",
         "domain": [
          0,
          1
         ],
         "title": {
          "text": "Count"
         }
        }
       }
      }
     },
     "metadata": {},
     "output_type": "display_data"
    },
    {
     "data": {
      "application/vnd.plotly.v1+json": {
       "config": {
        "plotlyServerURL": "https://plot.ly"
       },
       "data": [
        {
         "bingroup": "x",
         "hovertemplate": "age=%{x}<br>count=%{y}<extra></extra>",
         "legendgroup": "",
         "marker": {
          "color": "#636efa",
          "pattern": {
           "shape": ""
          }
         },
         "name": "",
         "orientation": "v",
         "showlegend": false,
         "type": "histogram",
         "x": {
          "bdata": "OishMCpCGyIkLyU7QDY3Ix4tKSghKjwmIiQoOiQnJh4hNCIwHjk5ExUzFSMSJUIbMjksMBpCEhtALTZCJSdBRCohEiYVLRkdRS4kGCskQiscNUI6Jjs6FzAgNjclGhobJTwtRTsiHUI2PEEbGzkfLx0tFhweOiQpJx0YHCUzEkEyKy82HEU4MiMqQDkvJRcSGyEtEyk6QEUrKScqQTA2NS03RC86I0AlORoUIDQUNkUTMiBEEh0sEzIuJSAaNiAqHyg6MhsaFDIlHTAqLyU3LTYrHz06MSUvHiorQy0gEi0fNh4/PTg1FxgaMzJDMCgfNToyQUA+PT4eHzQgIzA7OSgnIDMTGzkoOyI8HkITP0A5HyQ8Gz0tQCdCKjgcJxMqNzczMCMtQS0ZEi5CKUU7G0QtQSFAHx0kMhcpGx8bOB49LSs4MxocEhlEJhkxJCocHCAnHkUvNx4pODA9Ixc1Jx0fITozOzUWPDAaGjsbJRYbKTsXKB4oOBI8ODQlHBUePzoqHSsgNiUTQB81Pio2QRtDPDsePSkXRBk3QEI+LiErFSgVJzIoMCNERSEbF0U7JT8THEUdMSYyITYnNTNEJB0fM0MgIy8dHysaHBgaGjozKTE8IBY3ExoyPCs4FS8TOCISLz01IhpFISASHDIVMT0aG0MhQS4hFSAcNz8dFi00FBUjNi8UPzgYFD8dJj5DHDQiJR8cPkMfOi8gEy4/LC8sRTU8MCUkOCEnGhI+QEAbRSkfMBo1FxIrKCATGkEoHyxAPj8sGhknFjY6LyAbQTtCKSYhORUWHhpAIhY0QiNELis8KxITFi0ZL0EcIRUZFR47JC5FI0I6IxcYJhciKB4qQB8+KRsoJhcsFDE7GRQ0KT00NRUSQTYlHDchGx4nI0FFPiE1RDAnP0EjLCUtKiwaJzcwPEQ8RTVBNBsqExYpOhMSMhMcIDk3NxMwLxk/Ej8dLz4lFxQ0OBMaL0QSGSNEGBNCGBw6GRlDJjwxGToTOjg8Qy8/NRczMhIUEisSOhoVEx0gOBs7JDYpKUIpHR8eNh4dKCwiMkIqQiISLS4=",
          "dtype": "i1"
         },
         "xaxis": "x",
         "yaxis": "y"
        }
       ],
       "layout": {
        "barmode": "relative",
        "legend": {
         "tracegroupgap": 0
        },
        "paper_bgcolor": "rgba(0,0,0,0)",
        "plot_bgcolor": "rgba(0,0,0,0)",
        "template": {
         "data": {
          "bar": [
           {
            "error_x": {
             "color": "#2a3f5f"
            },
            "error_y": {
             "color": "#2a3f5f"
            },
            "marker": {
             "line": {
              "color": "#E5ECF6",
              "width": 0.5
             },
             "pattern": {
              "fillmode": "overlay",
              "size": 10,
              "solidity": 0.2
             }
            },
            "type": "bar"
           }
          ],
          "barpolar": [
           {
            "marker": {
             "line": {
              "color": "#E5ECF6",
              "width": 0.5
             },
             "pattern": {
              "fillmode": "overlay",
              "size": 10,
              "solidity": 0.2
             }
            },
            "type": "barpolar"
           }
          ],
          "carpet": [
           {
            "aaxis": {
             "endlinecolor": "#2a3f5f",
             "gridcolor": "white",
             "linecolor": "white",
             "minorgridcolor": "white",
             "startlinecolor": "#2a3f5f"
            },
            "baxis": {
             "endlinecolor": "#2a3f5f",
             "gridcolor": "white",
             "linecolor": "white",
             "minorgridcolor": "white",
             "startlinecolor": "#2a3f5f"
            },
            "type": "carpet"
           }
          ],
          "choropleth": [
           {
            "colorbar": {
             "outlinewidth": 0,
             "ticks": ""
            },
            "type": "choropleth"
           }
          ],
          "contour": [
           {
            "colorbar": {
             "outlinewidth": 0,
             "ticks": ""
            },
            "colorscale": [
             [
              0,
              "#0d0887"
             ],
             [
              0.1111111111111111,
              "#46039f"
             ],
             [
              0.2222222222222222,
              "#7201a8"
             ],
             [
              0.3333333333333333,
              "#9c179e"
             ],
             [
              0.4444444444444444,
              "#bd3786"
             ],
             [
              0.5555555555555556,
              "#d8576b"
             ],
             [
              0.6666666666666666,
              "#ed7953"
             ],
             [
              0.7777777777777778,
              "#fb9f3a"
             ],
             [
              0.8888888888888888,
              "#fdca26"
             ],
             [
              1,
              "#f0f921"
             ]
            ],
            "type": "contour"
           }
          ],
          "contourcarpet": [
           {
            "colorbar": {
             "outlinewidth": 0,
             "ticks": ""
            },
            "type": "contourcarpet"
           }
          ],
          "heatmap": [
           {
            "colorbar": {
             "outlinewidth": 0,
             "ticks": ""
            },
            "colorscale": [
             [
              0,
              "#0d0887"
             ],
             [
              0.1111111111111111,
              "#46039f"
             ],
             [
              0.2222222222222222,
              "#7201a8"
             ],
             [
              0.3333333333333333,
              "#9c179e"
             ],
             [
              0.4444444444444444,
              "#bd3786"
             ],
             [
              0.5555555555555556,
              "#d8576b"
             ],
             [
              0.6666666666666666,
              "#ed7953"
             ],
             [
              0.7777777777777778,
              "#fb9f3a"
             ],
             [
              0.8888888888888888,
              "#fdca26"
             ],
             [
              1,
              "#f0f921"
             ]
            ],
            "type": "heatmap"
           }
          ],
          "histogram": [
           {
            "marker": {
             "pattern": {
              "fillmode": "overlay",
              "size": 10,
              "solidity": 0.2
             }
            },
            "type": "histogram"
           }
          ],
          "histogram2d": [
           {
            "colorbar": {
             "outlinewidth": 0,
             "ticks": ""
            },
            "colorscale": [
             [
              0,
              "#0d0887"
             ],
             [
              0.1111111111111111,
              "#46039f"
             ],
             [
              0.2222222222222222,
              "#7201a8"
             ],
             [
              0.3333333333333333,
              "#9c179e"
             ],
             [
              0.4444444444444444,
              "#bd3786"
             ],
             [
              0.5555555555555556,
              "#d8576b"
             ],
             [
              0.6666666666666666,
              "#ed7953"
             ],
             [
              0.7777777777777778,
              "#fb9f3a"
             ],
             [
              0.8888888888888888,
              "#fdca26"
             ],
             [
              1,
              "#f0f921"
             ]
            ],
            "type": "histogram2d"
           }
          ],
          "histogram2dcontour": [
           {
            "colorbar": {
             "outlinewidth": 0,
             "ticks": ""
            },
            "colorscale": [
             [
              0,
              "#0d0887"
             ],
             [
              0.1111111111111111,
              "#46039f"
             ],
             [
              0.2222222222222222,
              "#7201a8"
             ],
             [
              0.3333333333333333,
              "#9c179e"
             ],
             [
              0.4444444444444444,
              "#bd3786"
             ],
             [
              0.5555555555555556,
              "#d8576b"
             ],
             [
              0.6666666666666666,
              "#ed7953"
             ],
             [
              0.7777777777777778,
              "#fb9f3a"
             ],
             [
              0.8888888888888888,
              "#fdca26"
             ],
             [
              1,
              "#f0f921"
             ]
            ],
            "type": "histogram2dcontour"
           }
          ],
          "mesh3d": [
           {
            "colorbar": {
             "outlinewidth": 0,
             "ticks": ""
            },
            "type": "mesh3d"
           }
          ],
          "parcoords": [
           {
            "line": {
             "colorbar": {
              "outlinewidth": 0,
              "ticks": ""
             }
            },
            "type": "parcoords"
           }
          ],
          "pie": [
           {
            "automargin": true,
            "type": "pie"
           }
          ],
          "scatter": [
           {
            "fillpattern": {
             "fillmode": "overlay",
             "size": 10,
             "solidity": 0.2
            },
            "type": "scatter"
           }
          ],
          "scatter3d": [
           {
            "line": {
             "colorbar": {
              "outlinewidth": 0,
              "ticks": ""
             }
            },
            "marker": {
             "colorbar": {
              "outlinewidth": 0,
              "ticks": ""
             }
            },
            "type": "scatter3d"
           }
          ],
          "scattercarpet": [
           {
            "marker": {
             "colorbar": {
              "outlinewidth": 0,
              "ticks": ""
             }
            },
            "type": "scattercarpet"
           }
          ],
          "scattergeo": [
           {
            "marker": {
             "colorbar": {
              "outlinewidth": 0,
              "ticks": ""
             }
            },
            "type": "scattergeo"
           }
          ],
          "scattergl": [
           {
            "marker": {
             "colorbar": {
              "outlinewidth": 0,
              "ticks": ""
             }
            },
            "type": "scattergl"
           }
          ],
          "scattermap": [
           {
            "marker": {
             "colorbar": {
              "outlinewidth": 0,
              "ticks": ""
             }
            },
            "type": "scattermap"
           }
          ],
          "scattermapbox": [
           {
            "marker": {
             "colorbar": {
              "outlinewidth": 0,
              "ticks": ""
             }
            },
            "type": "scattermapbox"
           }
          ],
          "scatterpolar": [
           {
            "marker": {
             "colorbar": {
              "outlinewidth": 0,
              "ticks": ""
             }
            },
            "type": "scatterpolar"
           }
          ],
          "scatterpolargl": [
           {
            "marker": {
             "colorbar": {
              "outlinewidth": 0,
              "ticks": ""
             }
            },
            "type": "scatterpolargl"
           }
          ],
          "scatterternary": [
           {
            "marker": {
             "colorbar": {
              "outlinewidth": 0,
              "ticks": ""
             }
            },
            "type": "scatterternary"
           }
          ],
          "surface": [
           {
            "colorbar": {
             "outlinewidth": 0,
             "ticks": ""
            },
            "colorscale": [
             [
              0,
              "#0d0887"
             ],
             [
              0.1111111111111111,
              "#46039f"
             ],
             [
              0.2222222222222222,
              "#7201a8"
             ],
             [
              0.3333333333333333,
              "#9c179e"
             ],
             [
              0.4444444444444444,
              "#bd3786"
             ],
             [
              0.5555555555555556,
              "#d8576b"
             ],
             [
              0.6666666666666666,
              "#ed7953"
             ],
             [
              0.7777777777777778,
              "#fb9f3a"
             ],
             [
              0.8888888888888888,
              "#fdca26"
             ],
             [
              1,
              "#f0f921"
             ]
            ],
            "type": "surface"
           }
          ],
          "table": [
           {
            "cells": {
             "fill": {
              "color": "#EBF0F8"
             },
             "line": {
              "color": "white"
             }
            },
            "header": {
             "fill": {
              "color": "#C8D4E3"
             },
             "line": {
              "color": "white"
             }
            },
            "type": "table"
           }
          ]
         },
         "layout": {
          "annotationdefaults": {
           "arrowcolor": "#2a3f5f",
           "arrowhead": 0,
           "arrowwidth": 1
          },
          "autotypenumbers": "strict",
          "coloraxis": {
           "colorbar": {
            "outlinewidth": 0,
            "ticks": ""
           }
          },
          "colorscale": {
           "diverging": [
            [
             0,
             "#8e0152"
            ],
            [
             0.1,
             "#c51b7d"
            ],
            [
             0.2,
             "#de77ae"
            ],
            [
             0.3,
             "#f1b6da"
            ],
            [
             0.4,
             "#fde0ef"
            ],
            [
             0.5,
             "#f7f7f7"
            ],
            [
             0.6,
             "#e6f5d0"
            ],
            [
             0.7,
             "#b8e186"
            ],
            [
             0.8,
             "#7fbc41"
            ],
            [
             0.9,
             "#4d9221"
            ],
            [
             1,
             "#276419"
            ]
           ],
           "sequential": [
            [
             0,
             "#0d0887"
            ],
            [
             0.1111111111111111,
             "#46039f"
            ],
            [
             0.2222222222222222,
             "#7201a8"
            ],
            [
             0.3333333333333333,
             "#9c179e"
            ],
            [
             0.4444444444444444,
             "#bd3786"
            ],
            [
             0.5555555555555556,
             "#d8576b"
            ],
            [
             0.6666666666666666,
             "#ed7953"
            ],
            [
             0.7777777777777778,
             "#fb9f3a"
            ],
            [
             0.8888888888888888,
             "#fdca26"
            ],
            [
             1,
             "#f0f921"
            ]
           ],
           "sequentialminus": [
            [
             0,
             "#0d0887"
            ],
            [
             0.1111111111111111,
             "#46039f"
            ],
            [
             0.2222222222222222,
             "#7201a8"
            ],
            [
             0.3333333333333333,
             "#9c179e"
            ],
            [
             0.4444444444444444,
             "#bd3786"
            ],
            [
             0.5555555555555556,
             "#d8576b"
            ],
            [
             0.6666666666666666,
             "#ed7953"
            ],
            [
             0.7777777777777778,
             "#fb9f3a"
            ],
            [
             0.8888888888888888,
             "#fdca26"
            ],
            [
             1,
             "#f0f921"
            ]
           ]
          },
          "colorway": [
           "#636efa",
           "#EF553B",
           "#00cc96",
           "#ab63fa",
           "#FFA15A",
           "#19d3f3",
           "#FF6692",
           "#B6E880",
           "#FF97FF",
           "#FECB52"
          ],
          "font": {
           "color": "#2a3f5f"
          },
          "geo": {
           "bgcolor": "white",
           "lakecolor": "white",
           "landcolor": "#E5ECF6",
           "showlakes": true,
           "showland": true,
           "subunitcolor": "white"
          },
          "hoverlabel": {
           "align": "left"
          },
          "hovermode": "closest",
          "mapbox": {
           "style": "light"
          },
          "paper_bgcolor": "white",
          "plot_bgcolor": "#E5ECF6",
          "polar": {
           "angularaxis": {
            "gridcolor": "white",
            "linecolor": "white",
            "ticks": ""
           },
           "bgcolor": "#E5ECF6",
           "radialaxis": {
            "gridcolor": "white",
            "linecolor": "white",
            "ticks": ""
           }
          },
          "scene": {
           "xaxis": {
            "backgroundcolor": "#E5ECF6",
            "gridcolor": "white",
            "gridwidth": 2,
            "linecolor": "white",
            "showbackground": true,
            "ticks": "",
            "zerolinecolor": "white"
           },
           "yaxis": {
            "backgroundcolor": "#E5ECF6",
            "gridcolor": "white",
            "gridwidth": 2,
            "linecolor": "white",
            "showbackground": true,
            "ticks": "",
            "zerolinecolor": "white"
           },
           "zaxis": {
            "backgroundcolor": "#E5ECF6",
            "gridcolor": "white",
            "gridwidth": 2,
            "linecolor": "white",
            "showbackground": true,
            "ticks": "",
            "zerolinecolor": "white"
           }
          },
          "shapedefaults": {
           "line": {
            "color": "#2a3f5f"
           }
          },
          "ternary": {
           "aaxis": {
            "gridcolor": "white",
            "linecolor": "white",
            "ticks": ""
           },
           "baxis": {
            "gridcolor": "white",
            "linecolor": "white",
            "ticks": ""
           },
           "bgcolor": "#E5ECF6",
           "caxis": {
            "gridcolor": "white",
            "linecolor": "white",
            "ticks": ""
           }
          },
          "title": {
           "x": 0.05
          },
          "xaxis": {
           "automargin": true,
           "gridcolor": "white",
           "linecolor": "white",
           "ticks": "",
           "title": {
            "standoff": 15
           },
           "zerolinecolor": "white",
           "zerolinewidth": 2
          },
          "yaxis": {
           "automargin": true,
           "gridcolor": "white",
           "linecolor": "white",
           "ticks": "",
           "title": {
            "standoff": 15
           },
           "zerolinecolor": "white",
           "zerolinewidth": 2
          }
         }
        },
        "title": {
         "font": {
          "family": "Arial",
          "size": 18
         },
         "text": "Distribution of age"
        },
        "xaxis": {
         "anchor": "y",
         "domain": [
          0,
          1
         ],
         "title": {
          "text": "age"
         }
        },
        "yaxis": {
         "anchor": "x",
         "domain": [
          0,
          1
         ],
         "title": {
          "text": "Count"
         }
        }
       }
      }
     },
     "metadata": {},
     "output_type": "display_data"
    },
    {
     "data": {
      "application/vnd.plotly.v1+json": {
       "config": {
        "plotlyServerURL": "https://plot.ly"
       },
       "data": [
        {
         "bingroup": "x",
         "hovertemplate": "default_risk_score=%{x}<br>count=%{y}<extra></extra>",
         "legendgroup": "",
         "marker": {
          "color": "#636efa",
          "pattern": {
           "shape": ""
          }
         },
         "name": "",
         "orientation": "v",
         "showlegend": false,
         "type": "histogram",
         "x": {
          "bdata": "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",
          "dtype": "f8"
         },
         "xaxis": "x",
         "yaxis": "y"
        }
       ],
       "layout": {
        "barmode": "relative",
        "legend": {
         "tracegroupgap": 0
        },
        "paper_bgcolor": "rgba(0,0,0,0)",
        "plot_bgcolor": "rgba(0,0,0,0)",
        "template": {
         "data": {
          "bar": [
           {
            "error_x": {
             "color": "#2a3f5f"
            },
            "error_y": {
             "color": "#2a3f5f"
            },
            "marker": {
             "line": {
              "color": "#E5ECF6",
              "width": 0.5
             },
             "pattern": {
              "fillmode": "overlay",
              "size": 10,
              "solidity": 0.2
             }
            },
            "type": "bar"
           }
          ],
          "barpolar": [
           {
            "marker": {
             "line": {
              "color": "#E5ECF6",
              "width": 0.5
             },
             "pattern": {
              "fillmode": "overlay",
              "size": 10,
              "solidity": 0.2
             }
            },
            "type": "barpolar"
           }
          ],
          "carpet": [
           {
            "aaxis": {
             "endlinecolor": "#2a3f5f",
             "gridcolor": "white",
             "linecolor": "white",
             "minorgridcolor": "white",
             "startlinecolor": "#2a3f5f"
            },
            "baxis": {
             "endlinecolor": "#2a3f5f",
             "gridcolor": "white",
             "linecolor": "white",
             "minorgridcolor": "white",
             "startlinecolor": "#2a3f5f"
            },
            "type": "carpet"
           }
          ],
          "choropleth": [
           {
            "colorbar": {
             "outlinewidth": 0,
             "ticks": ""
            },
            "type": "choropleth"
           }
          ],
          "contour": [
           {
            "colorbar": {
             "outlinewidth": 0,
             "ticks": ""
            },
            "colorscale": [
             [
              0,
              "#0d0887"
             ],
             [
              0.1111111111111111,
              "#46039f"
             ],
             [
              0.2222222222222222,
              "#7201a8"
             ],
             [
              0.3333333333333333,
              "#9c179e"
             ],
             [
              0.4444444444444444,
              "#bd3786"
             ],
             [
              0.5555555555555556,
              "#d8576b"
             ],
             [
              0.6666666666666666,
              "#ed7953"
             ],
             [
              0.7777777777777778,
              "#fb9f3a"
             ],
             [
              0.8888888888888888,
              "#fdca26"
             ],
             [
              1,
              "#f0f921"
             ]
            ],
            "type": "contour"
           }
          ],
          "contourcarpet": [
           {
            "colorbar": {
             "outlinewidth": 0,
             "ticks": ""
            },
            "type": "contourcarpet"
           }
          ],
          "heatmap": [
           {
            "colorbar": {
             "outlinewidth": 0,
             "ticks": ""
            },
            "colorscale": [
             [
              0,
              "#0d0887"
             ],
             [
              0.1111111111111111,
              "#46039f"
             ],
             [
              0.2222222222222222,
              "#7201a8"
             ],
             [
              0.3333333333333333,
              "#9c179e"
             ],
             [
              0.4444444444444444,
              "#bd3786"
             ],
             [
              0.5555555555555556,
              "#d8576b"
             ],
             [
              0.6666666666666666,
              "#ed7953"
             ],
             [
              0.7777777777777778,
              "#fb9f3a"
             ],
             [
              0.8888888888888888,
              "#fdca26"
             ],
             [
              1,
              "#f0f921"
             ]
            ],
            "type": "heatmap"
           }
          ],
          "histogram": [
           {
            "marker": {
             "pattern": {
              "fillmode": "overlay",
              "size": 10,
              "solidity": 0.2
             }
            },
            "type": "histogram"
           }
          ],
          "histogram2d": [
           {
            "colorbar": {
             "outlinewidth": 0,
             "ticks": ""
            },
            "colorscale": [
             [
              0,
              "#0d0887"
             ],
             [
              0.1111111111111111,
              "#46039f"
             ],
             [
              0.2222222222222222,
              "#7201a8"
             ],
             [
              0.3333333333333333,
              "#9c179e"
             ],
             [
              0.4444444444444444,
              "#bd3786"
             ],
             [
              0.5555555555555556,
              "#d8576b"
             ],
             [
              0.6666666666666666,
              "#ed7953"
             ],
             [
              0.7777777777777778,
              "#fb9f3a"
             ],
             [
              0.8888888888888888,
              "#fdca26"
             ],
             [
              1,
              "#f0f921"
             ]
            ],
            "type": "histogram2d"
           }
          ],
          "histogram2dcontour": [
           {
            "colorbar": {
             "outlinewidth": 0,
             "ticks": ""
            },
            "colorscale": [
             [
              0,
              "#0d0887"
             ],
             [
              0.1111111111111111,
              "#46039f"
             ],
             [
              0.2222222222222222,
              "#7201a8"
             ],
             [
              0.3333333333333333,
              "#9c179e"
             ],
             [
              0.4444444444444444,
              "#bd3786"
             ],
             [
              0.5555555555555556,
              "#d8576b"
             ],
             [
              0.6666666666666666,
              "#ed7953"
             ],
             [
              0.7777777777777778,
              "#fb9f3a"
             ],
             [
              0.8888888888888888,
              "#fdca26"
             ],
             [
              1,
              "#f0f921"
             ]
            ],
            "type": "histogram2dcontour"
           }
          ],
          "mesh3d": [
           {
            "colorbar": {
             "outlinewidth": 0,
             "ticks": ""
            },
            "type": "mesh3d"
           }
          ],
          "parcoords": [
           {
            "line": {
             "colorbar": {
              "outlinewidth": 0,
              "ticks": ""
             }
            },
            "type": "parcoords"
           }
          ],
          "pie": [
           {
            "automargin": true,
            "type": "pie"
           }
          ],
          "scatter": [
           {
            "fillpattern": {
             "fillmode": "overlay",
             "size": 10,
             "solidity": 0.2
            },
            "type": "scatter"
           }
          ],
          "scatter3d": [
           {
            "line": {
             "colorbar": {
              "outlinewidth": 0,
              "ticks": ""
             }
            },
            "marker": {
             "colorbar": {
              "outlinewidth": 0,
              "ticks": ""
             }
            },
            "type": "scatter3d"
           }
          ],
          "scattercarpet": [
           {
            "marker": {
             "colorbar": {
              "outlinewidth": 0,
              "ticks": ""
             }
            },
            "type": "scattercarpet"
           }
          ],
          "scattergeo": [
           {
            "marker": {
             "colorbar": {
              "outlinewidth": 0,
              "ticks": ""
             }
            },
            "type": "scattergeo"
           }
          ],
          "scattergl": [
           {
            "marker": {
             "colorbar": {
              "outlinewidth": 0,
              "ticks": ""
             }
            },
            "type": "scattergl"
           }
          ],
          "scattermap": [
           {
            "marker": {
             "colorbar": {
              "outlinewidth": 0,
              "ticks": ""
             }
            },
            "type": "scattermap"
           }
          ],
          "scattermapbox": [
           {
            "marker": {
             "colorbar": {
              "outlinewidth": 0,
              "ticks": ""
             }
            },
            "type": "scattermapbox"
           }
          ],
          "scatterpolar": [
           {
            "marker": {
             "colorbar": {
              "outlinewidth": 0,
              "ticks": ""
             }
            },
            "type": "scatterpolar"
           }
          ],
          "scatterpolargl": [
           {
            "marker": {
             "colorbar": {
              "outlinewidth": 0,
              "ticks": ""
             }
            },
            "type": "scatterpolargl"
           }
          ],
          "scatterternary": [
           {
            "marker": {
             "colorbar": {
              "outlinewidth": 0,
              "ticks": ""
             }
            },
            "type": "scatterternary"
           }
          ],
          "surface": [
           {
            "colorbar": {
             "outlinewidth": 0,
             "ticks": ""
            },
            "colorscale": [
             [
              0,
              "#0d0887"
             ],
             [
              0.1111111111111111,
              "#46039f"
             ],
             [
              0.2222222222222222,
              "#7201a8"
             ],
             [
              0.3333333333333333,
              "#9c179e"
             ],
             [
              0.4444444444444444,
              "#bd3786"
             ],
             [
              0.5555555555555556,
              "#d8576b"
             ],
             [
              0.6666666666666666,
              "#ed7953"
             ],
             [
              0.7777777777777778,
              "#fb9f3a"
             ],
             [
              0.8888888888888888,
              "#fdca26"
             ],
             [
              1,
              "#f0f921"
             ]
            ],
            "type": "surface"
           }
          ],
          "table": [
           {
            "cells": {
             "fill": {
              "color": "#EBF0F8"
             },
             "line": {
              "color": "white"
             }
            },
            "header": {
             "fill": {
              "color": "#C8D4E3"
             },
             "line": {
              "color": "white"
             }
            },
            "type": "table"
           }
          ]
         },
         "layout": {
          "annotationdefaults": {
           "arrowcolor": "#2a3f5f",
           "arrowhead": 0,
           "arrowwidth": 1
          },
          "autotypenumbers": "strict",
          "coloraxis": {
           "colorbar": {
            "outlinewidth": 0,
            "ticks": ""
           }
          },
          "colorscale": {
           "diverging": [
            [
             0,
             "#8e0152"
            ],
            [
             0.1,
             "#c51b7d"
            ],
            [
             0.2,
             "#de77ae"
            ],
            [
             0.3,
             "#f1b6da"
            ],
            [
             0.4,
             "#fde0ef"
            ],
            [
             0.5,
             "#f7f7f7"
            ],
            [
             0.6,
             "#e6f5d0"
            ],
            [
             0.7,
             "#b8e186"
            ],
            [
             0.8,
             "#7fbc41"
            ],
            [
             0.9,
             "#4d9221"
            ],
            [
             1,
             "#276419"
            ]
           ],
           "sequential": [
            [
             0,
             "#0d0887"
            ],
            [
             0.1111111111111111,
             "#46039f"
            ],
            [
             0.2222222222222222,
             "#7201a8"
            ],
            [
             0.3333333333333333,
             "#9c179e"
            ],
            [
             0.4444444444444444,
             "#bd3786"
            ],
            [
             0.5555555555555556,
             "#d8576b"
            ],
            [
             0.6666666666666666,
             "#ed7953"
            ],
            [
             0.7777777777777778,
             "#fb9f3a"
            ],
            [
             0.8888888888888888,
             "#fdca26"
            ],
            [
             1,
             "#f0f921"
            ]
           ],
           "sequentialminus": [
            [
             0,
             "#0d0887"
            ],
            [
             0.1111111111111111,
             "#46039f"
            ],
            [
             0.2222222222222222,
             "#7201a8"
            ],
            [
             0.3333333333333333,
             "#9c179e"
            ],
            [
             0.4444444444444444,
             "#bd3786"
            ],
            [
             0.5555555555555556,
             "#d8576b"
            ],
            [
             0.6666666666666666,
             "#ed7953"
            ],
            [
             0.7777777777777778,
             "#fb9f3a"
            ],
            [
             0.8888888888888888,
             "#fdca26"
            ],
            [
             1,
             "#f0f921"
            ]
           ]
          },
          "colorway": [
           "#636efa",
           "#EF553B",
           "#00cc96",
           "#ab63fa",
           "#FFA15A",
           "#19d3f3",
           "#FF6692",
           "#B6E880",
           "#FF97FF",
           "#FECB52"
          ],
          "font": {
           "color": "#2a3f5f"
          },
          "geo": {
           "bgcolor": "white",
           "lakecolor": "white",
           "landcolor": "#E5ECF6",
           "showlakes": true,
           "showland": true,
           "subunitcolor": "white"
          },
          "hoverlabel": {
           "align": "left"
          },
          "hovermode": "closest",
          "mapbox": {
           "style": "light"
          },
          "paper_bgcolor": "white",
          "plot_bgcolor": "#E5ECF6",
          "polar": {
           "angularaxis": {
            "gridcolor": "white",
            "linecolor": "white",
            "ticks": ""
           },
           "bgcolor": "#E5ECF6",
           "radialaxis": {
            "gridcolor": "white",
            "linecolor": "white",
            "ticks": ""
           }
          },
          "scene": {
           "xaxis": {
            "backgroundcolor": "#E5ECF6",
            "gridcolor": "white",
            "gridwidth": 2,
            "linecolor": "white",
            "showbackground": true,
            "ticks": "",
            "zerolinecolor": "white"
           },
           "yaxis": {
            "backgroundcolor": "#E5ECF6",
            "gridcolor": "white",
            "gridwidth": 2,
            "linecolor": "white",
            "showbackground": true,
            "ticks": "",
            "zerolinecolor": "white"
           },
           "zaxis": {
            "backgroundcolor": "#E5ECF6",
            "gridcolor": "white",
            "gridwidth": 2,
            "linecolor": "white",
            "showbackground": true,
            "ticks": "",
            "zerolinecolor": "white"
           }
          },
          "shapedefaults": {
           "line": {
            "color": "#2a3f5f"
           }
          },
          "ternary": {
           "aaxis": {
            "gridcolor": "white",
            "linecolor": "white",
            "ticks": ""
           },
           "baxis": {
            "gridcolor": "white",
            "linecolor": "white",
            "ticks": ""
           },
           "bgcolor": "#E5ECF6",
           "caxis": {
            "gridcolor": "white",
            "linecolor": "white",
            "ticks": ""
           }
          },
          "title": {
           "x": 0.05
          },
          "xaxis": {
           "automargin": true,
           "gridcolor": "white",
           "linecolor": "white",
           "ticks": "",
           "title": {
            "standoff": 15
           },
           "zerolinecolor": "white",
           "zerolinewidth": 2
          },
          "yaxis": {
           "automargin": true,
           "gridcolor": "white",
           "linecolor": "white",
           "ticks": "",
           "title": {
            "standoff": 15
           },
           "zerolinecolor": "white",
           "zerolinewidth": 2
          }
         }
        },
        "title": {
         "font": {
          "family": "Arial",
          "size": 18
         },
         "text": "Distribution of default_risk_score"
        },
        "xaxis": {
         "anchor": "y",
         "domain": [
          0,
          1
         ],
         "title": {
          "text": "default_risk_score"
         }
        },
        "yaxis": {
         "anchor": "x",
         "domain": [
          0,
          1
         ],
         "title": {
          "text": "Count"
         }
        }
       }
      }
     },
     "metadata": {},
     "output_type": "display_data"
    }
   ],
   "source": [
    "# For numerical data\n",
    "for col in df.columns:\n",
    "    # Create a histogram for numerical columns\n",
    "    fig = px.histogram(\n",
    "        df,\n",
    "        x=col,\n",
    "        title=f'Distribution of {col}',\n",
    "        labels={col: col, 'count': 'Count'}\n",
    "    )\n",
    "            \n",
    "     # Update layout for better readability\n",
    "    fig.update_layout(\n",
    "        xaxis_title=col,\n",
    "        yaxis_title='Count',\n",
    "        paper_bgcolor='rgba(0,0,0,0)',\n",
    "        plot_bgcolor='rgba(0,0,0,0)',\n",
    "        title_font=dict(size=18, family=\"Arial\")\n",
    "    )\n",
    "            \n",
    "    # Show the figure\n",
    "    fig.show()        "
   ]
  },
  {
   "cell_type": "code",
   "execution_count": 16,
   "id": "a22eb7b2",
   "metadata": {},
   "outputs": [
    {
     "data": {
      "text/plain": [
       "Index(['credit_score', 'income', 'loan_amount', 'loan_term', 'interest_rate',\n",
       "       'debt_to_income_ratio', 'employment_years', 'savings_balance', 'age',\n",
       "       'default_risk_score'],\n",
       "      dtype='object')"
      ]
     },
     "execution_count": 16,
     "metadata": {},
     "output_type": "execute_result"
    }
   ],
   "source": [
    "df.columns"
   ]
  },
  {
   "cell_type": "code",
   "execution_count": null,
   "id": "805ef752",
   "metadata": {},
   "outputs": [],
   "source": [
    "# How income level impact the default_risk_score\n",
    "# Histogram plot on total score\n",
    "\n",
    "fig, axs = plt.subplots(1, 2, figsize=(15, 7))\n",
    "plt.subplot(121)\n",
    "sns.histplot(data=df,x='income',bins=20,kde=True,color='g')\n",
    "plt.subplot(122)\n",
    "sns.histplot(data=df,x='income',kde=True,hue='default_risk_score')\n",
    "plt.show()"
   ]
  }
 ],
 "metadata": {
  "kernelspec": {
   "display_name": "myenv1",
   "language": "python",
   "name": "python3"
  },
  "language_info": {
   "codemirror_mode": {
    "name": "ipython",
    "version": 3
   },
   "file_extension": ".py",
   "mimetype": "text/x-python",
   "name": "python",
   "nbconvert_exporter": "python",
   "pygments_lexer": "ipython3",
   "version": "3.12.0"
  }
 },
 "nbformat": 4,
 "nbformat_minor": 5
}
